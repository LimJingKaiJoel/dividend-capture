{
 "cells": [
  {
   "cell_type": "code",
   "execution_count": 68,
   "metadata": {},
   "outputs": [
    {
     "name": "stdout",
     "output_type": "stream",
     "text": [
      "Requirement already satisfied: ta in /Users/joellim/anaconda3/lib/python3.11/site-packages (0.11.0)\n",
      "Requirement already satisfied: numpy in /Users/joellim/anaconda3/lib/python3.11/site-packages (from ta) (1.24.3)\n",
      "Requirement already satisfied: pandas in /Users/joellim/anaconda3/lib/python3.11/site-packages (from ta) (2.0.1)\n",
      "Requirement already satisfied: python-dateutil>=2.8.2 in /Users/joellim/anaconda3/lib/python3.11/site-packages (from pandas->ta) (2.8.2)\n",
      "Requirement already satisfied: pytz>=2020.1 in /Users/joellim/anaconda3/lib/python3.11/site-packages (from pandas->ta) (2023.3.post1)\n",
      "Requirement already satisfied: tzdata>=2022.1 in /Users/joellim/anaconda3/lib/python3.11/site-packages (from pandas->ta) (2023.3)\n",
      "Requirement already satisfied: six>=1.5 in /Users/joellim/anaconda3/lib/python3.11/site-packages (from python-dateutil>=2.8.2->pandas->ta) (1.16.0)\n",
      "Requirement already satisfied: yfinance in /Users/joellim/anaconda3/lib/python3.11/site-packages (0.2.52)\n",
      "Requirement already satisfied: pandas>=1.3.0 in /Users/joellim/anaconda3/lib/python3.11/site-packages (from yfinance) (2.0.1)\n",
      "Requirement already satisfied: numpy>=1.16.5 in /Users/joellim/anaconda3/lib/python3.11/site-packages (from yfinance) (1.24.3)\n",
      "Requirement already satisfied: requests>=2.31 in /Users/joellim/anaconda3/lib/python3.11/site-packages (from yfinance) (2.31.0)\n",
      "Requirement already satisfied: multitasking>=0.0.7 in /Users/joellim/anaconda3/lib/python3.11/site-packages (from yfinance) (0.0.11)\n",
      "Requirement already satisfied: lxml>=4.9.1 in /Users/joellim/anaconda3/lib/python3.11/site-packages (from yfinance) (4.9.3)\n",
      "Requirement already satisfied: platformdirs>=2.0.0 in /Users/joellim/anaconda3/lib/python3.11/site-packages (from yfinance) (3.10.0)\n",
      "Requirement already satisfied: pytz>=2022.5 in /Users/joellim/anaconda3/lib/python3.11/site-packages (from yfinance) (2023.3.post1)\n",
      "Requirement already satisfied: frozendict>=2.3.4 in /Users/joellim/anaconda3/lib/python3.11/site-packages (from yfinance) (2.4.6)\n",
      "Requirement already satisfied: peewee>=3.16.2 in /Users/joellim/anaconda3/lib/python3.11/site-packages (from yfinance) (3.17.8)\n",
      "Requirement already satisfied: beautifulsoup4>=4.11.1 in /Users/joellim/anaconda3/lib/python3.11/site-packages (from yfinance) (4.12.3)\n",
      "Requirement already satisfied: html5lib>=1.1 in /Users/joellim/anaconda3/lib/python3.11/site-packages (from yfinance) (1.1)\n",
      "Requirement already satisfied: soupsieve>1.2 in /Users/joellim/anaconda3/lib/python3.11/site-packages (from beautifulsoup4>=4.11.1->yfinance) (2.4)\n",
      "Requirement already satisfied: six>=1.9 in /Users/joellim/anaconda3/lib/python3.11/site-packages (from html5lib>=1.1->yfinance) (1.16.0)\n",
      "Requirement already satisfied: webencodings in /Users/joellim/anaconda3/lib/python3.11/site-packages (from html5lib>=1.1->yfinance) (0.5.1)\n",
      "Requirement already satisfied: python-dateutil>=2.8.2 in /Users/joellim/anaconda3/lib/python3.11/site-packages (from pandas>=1.3.0->yfinance) (2.8.2)\n",
      "Requirement already satisfied: tzdata>=2022.1 in /Users/joellim/anaconda3/lib/python3.11/site-packages (from pandas>=1.3.0->yfinance) (2023.3)\n",
      "Requirement already satisfied: charset-normalizer<4,>=2 in /Users/joellim/anaconda3/lib/python3.11/site-packages (from requests>=2.31->yfinance) (2.0.4)\n",
      "Requirement already satisfied: idna<4,>=2.5 in /Users/joellim/anaconda3/lib/python3.11/site-packages (from requests>=2.31->yfinance) (3.4)\n",
      "Requirement already satisfied: urllib3<3,>=1.21.1 in /Users/joellim/anaconda3/lib/python3.11/site-packages (from requests>=2.31->yfinance) (1.26.16)\n",
      "Requirement already satisfied: certifi>=2017.4.17 in /Users/joellim/anaconda3/lib/python3.11/site-packages (from requests>=2.31->yfinance) (2023.7.22)\n"
     ]
    }
   ],
   "source": [
    "!pip install ta\n",
    "!pip install yfinance"
   ]
  },
  {
   "cell_type": "code",
   "execution_count": 69,
   "metadata": {},
   "outputs": [],
   "source": [
    "import yfinance as yf\n",
    "from datetime import date\n",
    "import pandas as pd\n",
    "from ta.trend import SMAIndicator"
   ]
  },
  {
   "cell_type": "code",
   "execution_count": 70,
   "metadata": {},
   "outputs": [],
   "source": [
    "def load_data(filepath):\n",
    "    tickers = set()\n",
    "\n",
    "    # load the data of all tickers in SGX to pass into yfinance\n",
    "    file = open(filepath, \"r\")\n",
    "    for line in file:\n",
    "        line = line.strip()\n",
    "        tickers.add(line)\n",
    "    \n",
    "    return tickers\n",
    "\n",
    "def get_dividends(ticker):\n",
    "    # Get pandas series of dividends\n",
    "    info = yf.Ticker(ticker)\n",
    "    return info.dividends\n",
    "\n",
    "def get_price_history(ticker, period):\n",
    "    # Get pandas df of prices to match to dividend payout date\n",
    "    return yf.Ticker(ticker).history(period=period, auto_adjust=False)\n",
    "\n",
    "def process_data(read_filepath, write_filepath):\n",
    "    # load the data of all tickers in SGX to pass into yfinance\n",
    "    read_file = open(read_filepath, \"r\")\n",
    "    write_file = open(write_filepath, \"a\")\n",
    "    for line in read_file:\n",
    "        write_file.write(line[:4].strip() + \".SI\\n\")\n",
    "    \n",
    "    return"
   ]
  },
  {
   "cell_type": "code",
   "execution_count": 126,
   "metadata": {},
   "outputs": [],
   "source": [
    "# returns a list of expected ex date and amount\n",
    "def get_expected_ex_date(dividends):\n",
    "    # Get today's date\n",
    "    today = pd.Timestamp(date.today(), tz=\"UTC\")\n",
    "\n",
    "    # Get the ex-date of the stock based on last year's data\n",
    "    previous_year_date = today.replace(year=today.year - 1)\n",
    "\n",
    "    # if no dividends in the past 1-year period, unable to find expected ex date since they havent been giving out dividends for a year\n",
    "    if dividends.empty:\n",
    "# print(\"Dividends is empty.\")\n",
    "        return []\n",
    "# else:\n",
    "# print(\"Dividends is not empty!\")\n",
    "# print(dividends)\n",
    "\n",
    "    # filter past dividend dates within a 1-year period and get first date (upcoming)\n",
    "    filtered_dividends = dividends[dividends.index > previous_year_date]\n",
    "# print(\"Filtered Dividends: \")\n",
    "# print(filtered_dividends)\n",
    "\n",
    "    # if they haven't paid dividends in the past year\n",
    "    if filtered_dividends.empty:\n",
    "# print(\"Filtered dividends is empty\")\n",
    "        return []\n",
    "\n",
    "    expected_ex_date = filtered_dividends.index[0].date()\n",
    "    expected_payout = filtered_dividends.iloc[0]\n",
    "    \n",
    "    result = []\n",
    "\n",
    "    try:\n",
    "        result.append(expected_ex_date.replace(year=expected_ex_date.year + 1))\n",
    "        result.append(float(expected_payout))\n",
    "    except:\n",
    "        print(\"Error in changing expected ex date\")\n",
    "        return []\n",
    "\n",
    "    return result"
   ]
  },
  {
   "cell_type": "code",
   "execution_count": 127,
   "metadata": {},
   "outputs": [],
   "source": [
    "def get_trend(ticker_name, sma_short_window=10, sma_long_window=20, momentum_days=10, momentum_threshold=0.02):\n",
    "    \"\"\"\n",
    "    Determines whether the stock is bullish, bearish, or in consolidation based on short-term trends\n",
    "        - Takes into account momentum and whether SMA short or SMA long is higher\n",
    "    \n",
    "    returns a string: \"Bullish\", \"Bearish\", or \"Consolidation\". (\"Unknown\" if error)\n",
    "    \"\"\"\n",
    "    # 1 month might not have 20 trading days, so we do 2 months time frame\n",
    "    price_data = get_price_history(ticker_name, \"2mo\")\n",
    "    \n",
    "    if price_data.empty or 'Close' not in price_data:\n",
    "        return \"Unknown\"\n",
    "\n",
    "    # have to squeeze as its a 2d array\n",
    "    close_prices = price_data['Close'].squeeze()\n",
    "\n",
    "    # get sma of short window and long windows\n",
    "    sma_short = SMAIndicator(close=close_prices, window=sma_short_window)\n",
    "    sma_long = SMAIndicator(close=close_prices, window=sma_long_window)\n",
    "    price_data['SMA_short'] = sma_short.sma_indicator()\n",
    "    price_data['SMA_long'] = sma_long.sma_indicator()\n",
    "\n",
    "    # get momentum (percentage change)\n",
    "    price_data['Momentum'] = close_prices.pct_change(periods=momentum_days)\n",
    "\n",
    "    # get latest value\n",
    "    latest_sma_short = price_data['SMA_short'].iloc[-1]\n",
    "    latest_sma_long = price_data['SMA_long'].iloc[-1]\n",
    "    latest_momentum = price_data['Momentum'].iloc[-1]\n",
    "\n",
    "    # bullish if sma short higher than sma long and momentum validates it, bearish if opposite\n",
    "    if latest_sma_short > latest_sma_long and latest_momentum > momentum_threshold:\n",
    "        return \"Bullish\"\n",
    "    elif latest_sma_short < latest_sma_long and latest_momentum < -momentum_threshold:\n",
    "        return \"Bearish\"\n",
    "    else:\n",
    "        return \"Consolidation\""
   ]
  },
  {
   "cell_type": "code",
   "execution_count": 138,
   "metadata": {},
   "outputs": [],
   "source": [
    "# FRONT PAGE\n",
    "def get_stocks_dict_list(tickers):\n",
    "    result = []\n",
    "    id = 1\n",
    "\n",
    "    # for each ticker in SGX, get relevant information into a dictionary and append to list\n",
    "    for ticker_name in tickers:\n",
    "        try:\n",
    "            dividends = get_dividends(ticker_name)\n",
    "            expected_dividend_info = get_expected_ex_date(dividends) # might return empty list if no dividends given\n",
    "            \n",
    "            # if empty, don't need process this ticker, it doesn't give dividends -- the method returns [] if dividends dont exist\n",
    "            if not expected_dividend_info:\n",
    "                continue\n",
    "\n",
    "            ticker_info = yf.Ticker(ticker_name).info\n",
    "\n",
    "            current_stock = {}\n",
    "            current_stock[\"id\"] = id\n",
    "            id += 1\n",
    "            current_stock[\"symbol\"] = ticker_name\n",
    "            \n",
    "            # ticker might not have a variable longName in the api\n",
    "            try: \n",
    "                current_stock[\"name\"] = ticker_info['longName']\n",
    "            except:\n",
    "                continue\n",
    "\n",
    "            current_stock[\"exDate\"] = expected_dividend_info[0]\n",
    "            current_stock[\"payout\"] = expected_dividend_info[1]\n",
    "            current_stock[\"trend\"] = get_trend(ticker_name) # bearish, bullish or consolidation\n",
    "\n",
    "            # dict[\"captured_yield\"] = get_yield(ticker_name) # dividend capture strategy yield based on past data -- can remove, put in backtest page\n",
    "            print(current_stock)\n",
    "            result.append(current_stock)\n",
    "        except:\n",
    "            return result\n",
    "\n",
    "    return result"
   ]
  },
  {
   "cell_type": "code",
   "execution_count": 139,
   "metadata": {},
   "outputs": [],
   "source": [
    "filepath = \"data/tickers.txt\"\n",
    "file = load_data(filepath)"
   ]
  },
  {
   "cell_type": "code",
   "execution_count": 140,
   "metadata": {},
   "outputs": [
    {
     "name": "stderr",
     "output_type": "stream",
     "text": [
      "$Y5AW.SI: possibly delisted; no timezone found\n",
      "$TTTW.SI: possibly delisted; no timezone found\n"
     ]
    },
    {
     "name": "stdout",
     "output_type": "stream",
     "text": [
      "{'id': 1, 'symbol': 'Q01.SI', 'name': 'QAF Limited', 'exDate': datetime.date(2025, 5, 2), 'payout': 0.04, 'trend': 'Consolidation'}\n"
     ]
    },
    {
     "name": "stderr",
     "output_type": "stream",
     "text": [
      "$51AW.SI: possibly delisted; no timezone found\n"
     ]
    },
    {
     "name": "stdout",
     "output_type": "stream",
     "text": [
      "{'id': 2, 'symbol': 'B49.SI', 'name': 'World Precision Machinery Limited', 'exDate': datetime.date(2025, 5, 20), 'payout': 0.0689, 'trend': 'Consolidation'}\n",
      "{'id': 3, 'symbol': 'HQU.SI', 'name': 'Oiltek International Limited', 'exDate': datetime.date(2025, 5, 6), 'payout': 0.016, 'trend': 'Bullish'}\n",
      "{'id': 4, 'symbol': 'N02.SI', 'name': 'NSL Ltd', 'exDate': datetime.date(2025, 5, 16), 'payout': 0.02, 'trend': 'Consolidation'}\n",
      "{'id': 5, 'symbol': 'SRT.SI', 'name': 'CSOP iEdge S-REIT Leaders Index ETF', 'exDate': datetime.date(2025, 7, 19), 'payout': 0.022, 'trend': 'Bearish'}\n"
     ]
    },
    {
     "name": "stderr",
     "output_type": "stream",
     "text": [
      "$RNXW.SI: possibly delisted; no timezone found\n",
      "$DEVW.SI: possibly delisted; no timezone found\n"
     ]
    },
    {
     "name": "stdout",
     "output_type": "stream",
     "text": [
      "{'id': 6, 'symbol': 'RE4.SI', 'name': 'Geo Energy Resources Limited', 'exDate': datetime.date(2025, 5, 9), 'payout': 0.006, 'trend': 'Bearish'}\n",
      "{'id': 7, 'symbol': 'MZH.SI', 'name': 'Nanofilm Technologies International Limited', 'exDate': datetime.date(2025, 5, 8), 'payout': 0.0033, 'trend': 'Consolidation'}\n"
     ]
    },
    {
     "name": "stderr",
     "output_type": "stream",
     "text": [
      "$Y0ZW.SI: possibly delisted; no timezone found\n",
      "$9PPW.SI: possibly delisted; no timezone found\n",
      "$QFYW.SI: possibly delisted; no timezone found\n"
     ]
    },
    {
     "name": "stdout",
     "output_type": "stream",
     "text": [
      "{'id': 8, 'symbol': 'NEX.SI', 'name': 'Reclaims Global Limited', 'exDate': datetime.date(2025, 6, 7), 'payout': 0.002, 'trend': 'Consolidation'}\n"
     ]
    },
    {
     "name": "stderr",
     "output_type": "stream",
     "text": [
      "$KDOW.SI: possibly delisted; no timezone found\n"
     ]
    },
    {
     "name": "stdout",
     "output_type": "stream",
     "text": [
      "{'id': 9, 'symbol': 'Z74.SI', 'name': 'Singapore Telecommunications Limited', 'exDate': datetime.date(2025, 11, 20), 'payout': 0.056, 'trend': 'Consolidation'}\n"
     ]
    },
    {
     "name": "stderr",
     "output_type": "stream",
     "text": [
      "UVJR.SI: Period 'max' is invalid, must be of the format 1d, 5d, etc.\n",
      "$MGCW.SI: possibly delisted; no timezone found\n",
      "$DOCW.SI: possibly delisted; no timezone found\n"
     ]
    },
    {
     "name": "stdout",
     "output_type": "stream",
     "text": [
      "{'id': 10, 'symbol': 'M44U.SI', 'name': 'Mapletree Logistics Trust', 'exDate': datetime.date(2025, 1, 31), 'payout': 0.02253, 'trend': 'Consolidation'}\n",
      "{'id': 11, 'symbol': 'BXE.SI', 'name': 'CDW Holding Limited', 'exDate': datetime.date(2025, 5, 8), 'payout': 0.009409, 'trend': 'Consolidation'}\n"
     ]
    },
    {
     "name": "stderr",
     "output_type": "stream",
     "text": [
      "$IFKW.SI: possibly delisted; no timezone found\n",
      "$GKDW.SI: possibly delisted; no timezone found\n",
      "$9E9W.SI: possibly delisted; no timezone found\n",
      "$CZZW.SI: possibly delisted; no timezone found\n",
      "$IAIW.SI: possibly delisted; no timezone found\n"
     ]
    },
    {
     "name": "stdout",
     "output_type": "stream",
     "text": [
      "{'id': 12, 'symbol': 'S63.SI', 'name': 'Singapore Technologies Engineering Ltd', 'exDate': datetime.date(2025, 4, 30), 'payout': 0.04, 'trend': 'Consolidation'}\n",
      "{'id': 13, 'symbol': 'GRE.SI', 'name': 'UOB APAC Green REIT ETF SGD', 'exDate': datetime.date(2025, 3, 22), 'payout': 0.01064, 'trend': 'Bearish'}\n"
     ]
    },
    {
     "name": "stderr",
     "output_type": "stream",
     "text": [
      "$YZMW.SI: possibly delisted; no timezone found\n",
      "$XZIW.SI: possibly delisted; no timezone found\n",
      "$DISW.SI: possibly delisted; no timezone found\n",
      "$WNLW.SI: possibly delisted; no timezone found\n",
      "$PISW.SI: possibly delisted; no timezone found\n"
     ]
    },
    {
     "name": "stdout",
     "output_type": "stream",
     "text": [
      "{'id': 14, 'symbol': 'M01.SI', 'name': 'Metro Holdings Limited', 'exDate': datetime.date(2025, 8, 2), 'payout': 0.02, 'trend': 'Consolidation'}\n",
      "{'id': 15, 'symbol': 'F17.SI', 'name': 'GuocoLand Limited', 'exDate': datetime.date(2025, 11, 5), 'payout': 0.06, 'trend': 'Consolidation'}\n"
     ]
    },
    {
     "name": "stderr",
     "output_type": "stream",
     "text": [
      "$NVTW.SI: possibly delisted; no timezone found\n"
     ]
    },
    {
     "name": "stdout",
     "output_type": "stream",
     "text": [
      "{'id': 16, 'symbol': 'SJY.SI', 'name': 'MeGroup Ltd.', 'exDate': datetime.date(2025, 6, 6), 'payout': 0.00115, 'trend': 'Consolidation'}\n"
     ]
    },
    {
     "name": "stderr",
     "output_type": "stream",
     "text": [
      "$ZRYW.SI: possibly delisted; no timezone found\n",
      "$9U1W.SI: possibly delisted; no timezone found\n",
      "$6AZB.SI: possibly delisted; no timezone found\n",
      "$OOSW.SI: possibly delisted; no timezone found\n",
      "$DCXW.SI: possibly delisted; no timezone found\n"
     ]
    },
    {
     "name": "stdout",
     "output_type": "stream",
     "text": [
      "{'id': 17, 'symbol': 'BIX.SI', 'name': 'Ellipsiz Ltd', 'exDate': datetime.date(2025, 11, 5), 'payout': 0.01, 'trend': 'Consolidation'}\n"
     ]
    },
    {
     "name": "stderr",
     "output_type": "stream",
     "text": [
      "$CUTW.SI: possibly delisted; no timezone found\n",
      "$CUZW.SI: possibly delisted; no timezone found\n"
     ]
    },
    {
     "name": "stdout",
     "output_type": "stream",
     "text": [
      "{'id': 18, 'symbol': 'CY6U.SI', 'name': 'CapitaLand India Trust', 'exDate': datetime.date(2025, 2, 19), 'payout': 0.0309, 'trend': 'Bearish'}\n"
     ]
    },
    {
     "name": "stderr",
     "output_type": "stream",
     "text": [
      "$XOXW.SI: possibly delisted; no timezone found\n"
     ]
    },
    {
     "name": "stdout",
     "output_type": "stream",
     "text": [
      "{'id': 19, 'symbol': '5G2.SI', 'name': 'Kim Heng Limited', 'exDate': datetime.date(2025, 6, 21), 'payout': 0.002126, 'trend': 'Consolidation'}\n"
     ]
    },
    {
     "name": "stderr",
     "output_type": "stream",
     "text": [
      "$USFW.SI: possibly delisted; no timezone found\n",
      "$DFKW.SI: possibly delisted; no timezone found\n",
      "$IQQW.SI: possibly delisted; no timezone found\n"
     ]
    },
    {
     "name": "stdout",
     "output_type": "stream",
     "text": [
      "{'id': 20, 'symbol': 'AW9U.SI', 'name': 'First Real Estate Investment Trust', 'exDate': datetime.date(2025, 2, 27), 'payout': 0.0062, 'trend': 'Bullish'}\n",
      "{'id': 21, 'symbol': 'OYY.SI', 'name': 'PropNex Limited', 'exDate': datetime.date(2025, 4, 30), 'payout': 0.035, 'trend': 'Bullish'}\n"
     ]
    },
    {
     "name": "stderr",
     "output_type": "stream",
     "text": [
      "$QPCW.SI: possibly delisted; no timezone found\n",
      "$KRWW.SI: possibly delisted; no timezone found\n",
      "$DENW.SI: possibly delisted; no timezone found\n"
     ]
    },
    {
     "name": "stdout",
     "output_type": "stream",
     "text": [
      "{'id': 22, 'symbol': 'BS6.SI', 'name': 'Yangzijiang Shipbuilding (Holdings) Ltd.', 'exDate': datetime.date(2025, 4, 29), 'payout': 0.065, 'trend': 'Consolidation'}\n",
      "{'id': 23, 'symbol': 'YF8.SI', 'name': 'Yangzijiang Financial Holding Ltd.', 'exDate': datetime.date(2025, 4, 24), 'payout': 0.022, 'trend': 'Consolidation'}\n"
     ]
    },
    {
     "name": "stderr",
     "output_type": "stream",
     "text": [
      "$NUGW.SI: possibly delisted; no timezone found\n",
      "$NLPW.SI: possibly delisted; no timezone found\n",
      "$FRLW.SI: possibly delisted; no timezone found\n"
     ]
    },
    {
     "name": "stdout",
     "output_type": "stream",
     "text": [
      "{'id': 24, 'symbol': 'STG.SI', 'name': 'Sri Trang Gloves (Thailand) Public Company Limited', 'exDate': datetime.date(2025, 4, 18), 'payout': 0.5, 'trend': 'Consolidation'}\n"
     ]
    },
    {
     "name": "stderr",
     "output_type": "stream",
     "text": [
      "$YK1W.SI: possibly delisted; no timezone found\n",
      "$ZFGS.SI: possibly delisted; no timezone found\n",
      "$97XW.SI: possibly delisted; no timezone found\n",
      "$DZTW.SI: possibly delisted; no timezone found\n",
      "$TVBW.SI: possibly delisted; no timezone found\n"
     ]
    },
    {
     "name": "stdout",
     "output_type": "stream",
     "text": [
      "{'id': 25, 'symbol': 'YYY.SI', 'name': 'Lion-OCBC Securities China Leaders ETF', 'exDate': datetime.date(2025, 7, 1), 'payout': 0.0456, 'trend': 'Consolidation'}\n"
     ]
    },
    {
     "name": "stderr",
     "output_type": "stream",
     "text": [
      "$PMOW.SI: possibly delisted; no timezone found\n",
      "$EFBW.SI: possibly delisted; no timezone found\n",
      "$Z3IW.SI: possibly delisted; no timezone found\n",
      "$DPZW.SI: possibly delisted; no timezone found\n",
      "$USRW.SI: possibly delisted; no timezone found\n",
      "$VKIW.SI: possibly delisted; no timezone found\n",
      "$VQBW.SI: possibly delisted; no timezone found\n",
      "$WLXW.SI: possibly delisted; no timezone found\n",
      "$DPPW.SI: possibly delisted; no timezone found\n",
      "$CYNW.SI: possibly delisted; no timezone found\n"
     ]
    },
    {
     "name": "stdout",
     "output_type": "stream",
     "text": [
      "{'id': 26, 'symbol': 'QES.SI', 'name': 'China Sunsine Chemical Holdings Ltd.', 'exDate': datetime.date(2025, 5, 9), 'payout': 0.015, 'trend': 'Consolidation'}\n"
     ]
    },
    {
     "name": "stderr",
     "output_type": "stream",
     "text": [
      "$JMFW.SI: possibly delisted; no timezone found\n",
      "$CUEW.SI: possibly delisted; no timezone found\n"
     ]
    },
    {
     "name": "stdout",
     "output_type": "stream",
     "text": [
      "{'id': 27, 'symbol': '1AZ.SI', 'name': 'Audience Analytics Limited', 'exDate': datetime.date(2025, 5, 2), 'payout': 0.01275, 'trend': 'Bullish'}\n"
     ]
    },
    {
     "name": "stderr",
     "output_type": "stream",
     "text": [
      "$CZRW.SI: possibly delisted; no timezone found\n",
      "$JQPW.SI: possibly delisted; no timezone found\n",
      "$VODW.SI: possibly delisted; no timezone found\n",
      "AFUS.SI: Period 'max' is invalid, must be of the format 1d, 5d, etc.\n"
     ]
    },
    {
     "name": "stdout",
     "output_type": "stream",
     "text": [
      "{'id': 29, 'symbol': '5WG.SI', 'name': 'Singapore Kitchen Equipment Limited', 'exDate': datetime.date(2025, 5, 28), 'payout': 0.0025, 'trend': 'Consolidation'}\n"
     ]
    },
    {
     "name": "stderr",
     "output_type": "stream",
     "text": [
      "$ITQW.SI: possibly delisted; no timezone found\n"
     ]
    },
    {
     "name": "stdout",
     "output_type": "stream",
     "text": [
      "{'id': 30, 'symbol': 'QR9.SI', 'name': 'Principal S&P Ethical Asia Pacific Dividend ETF', 'exDate': datetime.date(2025, 11, 4), 'payout': 0.052676, 'trend': 'Consolidation'}\n"
     ]
    },
    {
     "name": "stderr",
     "output_type": "stream",
     "text": [
      "$YKVW.SI: possibly delisted; no timezone found\n",
      "$NWDW.SI: possibly delisted; no timezone found\n",
      "$JVEW.SI: possibly delisted; no timezone found\n",
      "$RYQW.SI: possibly delisted; no timezone found\n"
     ]
    },
    {
     "name": "stdout",
     "output_type": "stream",
     "text": [
      "{'id': 31, 'symbol': 'E5H.SI', 'name': 'Golden Agri-Resources Ltd', 'exDate': datetime.date(2025, 5, 7), 'payout': 0.00613, 'trend': 'Consolidation'}\n",
      "{'id': 32, 'symbol': 'S85.SI', 'name': 'Straco Corporation Limited', 'exDate': datetime.date(2025, 5, 9), 'payout': 0.005, 'trend': 'Consolidation'}\n"
     ]
    },
    {
     "name": "stderr",
     "output_type": "stream",
     "text": [
      "$WMDW.SI: possibly delisted; no timezone found\n",
      "$ZSZW.SI: possibly delisted; no timezone found\n",
      "$57GW.SI: possibly delisted; no timezone found\n"
     ]
    },
    {
     "name": "stdout",
     "output_type": "stream",
     "text": [
      "{'id': 33, 'symbol': 'OVQ.SI', 'name': 'Phillip Sing Income ETF', 'exDate': datetime.date(2025, 7, 10), 'payout': 0.019, 'trend': 'Bearish'}\n"
     ]
    },
    {
     "name": "stderr",
     "output_type": "stream",
     "text": [
      "$JEGW.SI: possibly delisted; no timezone found\n"
     ]
    },
    {
     "name": "stdout",
     "output_type": "stream",
     "text": [
      "{'id': 34, 'symbol': 'TCPD.SI', 'name': 'CP ALL Public Company Limited', 'exDate': datetime.date(2025, 5, 7), 'payout': 0.036518, 'trend': 'Bearish'}\n"
     ]
    },
    {
     "name": "stderr",
     "output_type": "stream",
     "text": [
      "$LXDW.SI: possibly delisted; no timezone found\n",
      "$YWVW.SI: possibly delisted; no timezone found\n"
     ]
    },
    {
     "name": "stdout",
     "output_type": "stream",
     "text": [
      "{'id': 36, 'symbol': 'T55.SI', 'name': 'TIH Limited', 'exDate': datetime.date(2025, 5, 2), 'payout': 0.01, 'trend': 'Bullish'}\n",
      "{'id': 37, 'symbol': '558.SI', 'name': 'UMS Integration Limited', 'exDate': datetime.date(2025, 5, 7), 'payout': 0.022, 'trend': 'Consolidation'}\n",
      "{'id': 38, 'symbol': 'AGS.SI', 'name': 'The Hour Glass Limited', 'exDate': datetime.date(2025, 8, 6), 'payout': 0.06, 'trend': 'Consolidation'}\n"
     ]
    },
    {
     "name": "stderr",
     "output_type": "stream",
     "text": [
      "$FWQW.SI: possibly delisted; no timezone found\n"
     ]
    },
    {
     "name": "stdout",
     "output_type": "stream",
     "text": [
      "{'id': 39, 'symbol': 'M1GU.SI', 'name': 'Sabana Industrial Real Estate Investment Trust', 'exDate': datetime.date(2025, 1, 30), 'payout': 0.0115, 'trend': 'Bullish'}\n"
     ]
    },
    {
     "name": "stderr",
     "output_type": "stream",
     "text": [
      "$EXXW.SI: possibly delisted; no timezone found\n",
      "$XAPW.SI: possibly delisted; no timezone found\n"
     ]
    },
    {
     "name": "stdout",
     "output_type": "stream",
     "text": [
      "{'id': 40, 'symbol': 'U11.SI', 'name': 'United Overseas Bank Limited', 'exDate': datetime.date(2025, 4, 25), 'payout': 0.85, 'trend': 'Consolidation'}\n"
     ]
    },
    {
     "name": "stderr",
     "output_type": "stream",
     "text": [
      "$KOUW.SI: possibly delisted; no timezone found\n",
      "$UUZW.SI: possibly delisted; no timezone found\n",
      "$W8OW.SI: possibly delisted; no timezone found\n",
      "$DRPW.SI: possibly delisted; no timezone found\n"
     ]
    },
    {
     "name": "stdout",
     "output_type": "stream",
     "text": [
      "{'id': 41, 'symbol': 'U14.SI', 'name': 'UOL Group Limited', 'exDate': datetime.date(2025, 5, 2), 'payout': 0.15, 'trend': 'Consolidation'}\n"
     ]
    },
    {
     "name": "stderr",
     "output_type": "stream",
     "text": [
      "$XBNW.SI: possibly delisted; no timezone found\n",
      "$GHCW.SI: possibly delisted; no timezone found\n"
     ]
    },
    {
     "name": "stdout",
     "output_type": "stream",
     "text": [
      "{'id': 42, 'symbol': 'CYB.SI', 'name': 'ICBC CSOP FTSE Chinese Government Bond Index ETF', 'exDate': datetime.date(2025, 6, 21), 'payout': 0.14759, 'trend': 'Consolidation'}\n",
      "{'id': 43, 'symbol': 'Q0X.SI', 'name': 'Ley Choon Group Holdings Limited', 'exDate': datetime.date(2025, 8, 15), 'payout': 0.0027, 'trend': 'Bullish'}\n",
      "{'id': 44, 'symbol': 'S23.SI', 'name': 'Singapura Finance Ltd', 'exDate': datetime.date(2025, 5, 2), 'payout': 0.02, 'trend': 'Consolidation'}\n"
     ]
    },
    {
     "name": "stderr",
     "output_type": "stream",
     "text": [
      "$W6LW.SI: possibly delisted; no timezone found\n"
     ]
    },
    {
     "name": "stdout",
     "output_type": "stream",
     "text": [
      "{'id': 45, 'symbol': 'OTX.SI', 'name': 'Medinex Limited', 'exDate': datetime.date(2025, 9, 5), 'payout': 0.0084, 'trend': 'Bearish'}\n"
     ]
    },
    {
     "name": "stderr",
     "output_type": "stream",
     "text": [
      "$HLKW.SI: possibly delisted; no timezone found\n"
     ]
    },
    {
     "name": "stdout",
     "output_type": "stream",
     "text": [
      "{'id': 46, 'symbol': 'CJLU.SI', 'name': 'NetLink NBN Trust', 'exDate': datetime.date(2025, 5, 29), 'payout': 0.0265, 'trend': 'Consolidation'}\n"
     ]
    },
    {
     "name": "stderr",
     "output_type": "stream",
     "text": [
      "$MNCW.SI: possibly delisted; no timezone found\n",
      "$XHMW.SI: possibly delisted; no timezone found\n",
      "$NPNW.SI: possibly delisted; no timezone found\n",
      "$XBJW.SI: possibly delisted; no timezone found\n",
      "$DUYW.SI: possibly delisted; no timezone found\n"
     ]
    },
    {
     "name": "stdout",
     "output_type": "stream",
     "text": [
      "{'id': 47, 'symbol': 'NO4.SI', 'name': 'Dyna-Mac Holdings Ltd.', 'exDate': datetime.date(2025, 4, 30), 'payout': 0.0083, 'trend': 'Consolidation'}\n"
     ]
    },
    {
     "name": "stderr",
     "output_type": "stream",
     "text": [
      "$NVIW.SI: possibly delisted; no timezone found\n",
      "$TCHW.SI: possibly delisted; no timezone found\n",
      "$IQEW.SI: possibly delisted; no timezone found\n"
     ]
    },
    {
     "name": "stdout",
     "output_type": "stream",
     "text": [
      "{'id': 48, 'symbol': 'S19.SI', 'name': 'Singapore Shipping Corporation Limited', 'exDate': datetime.date(2025, 8, 8), 'payout': 0.01, 'trend': 'Consolidation'}\n"
     ]
    },
    {
     "name": "stderr",
     "output_type": "stream",
     "text": [
      "$DZUW.SI: possibly delisted; no timezone found\n",
      "$ECAW.SI: possibly delisted; no timezone found\n"
     ]
    },
    {
     "name": "stdout",
     "output_type": "stream",
     "text": [
      "{'id': 49, 'symbol': 'H12.SI', 'name': 'Hotel Royal Limited', 'exDate': datetime.date(2025, 5, 21), 'payout': 0.025, 'trend': 'Consolidation'}\n"
     ]
    },
    {
     "name": "stderr",
     "output_type": "stream",
     "text": [
      "$PODW.SI: possibly delisted; no timezone found\n"
     ]
    },
    {
     "name": "stdout",
     "output_type": "stream",
     "text": [
      "{'id': 50, 'symbol': 'GRN.SI', 'name': 'UOB APAC Green REIT ETF SGD', 'exDate': datetime.date(2025, 3, 22), 'payout': 0.014356, 'trend': 'Consolidation'}\n",
      "{'id': 51, 'symbol': 'AIY.SI', 'name': 'iFAST Corporation Ltd.', 'exDate': datetime.date(2025, 5, 8), 'payout': 0.014, 'trend': 'Consolidation'}\n"
     ]
    },
    {
     "name": "stderr",
     "output_type": "stream",
     "text": [
      "$TDNW.SI: possibly delisted; no timezone found\n",
      "$WMGW.SI: possibly delisted; no timezone found\n",
      "$X1HW.SI: possibly delisted; no timezone found\n"
     ]
    },
    {
     "name": "stdout",
     "output_type": "stream",
     "text": [
      "{'id': 52, 'symbol': '5UL.SI', 'name': 'Atlantic Navigation Holdings (Singapore) Limited', 'exDate': datetime.date(2025, 11, 26), 'payout': 0.159, 'trend': 'Consolidation'}\n"
     ]
    },
    {
     "name": "stderr",
     "output_type": "stream",
     "text": [
      "$NEAW.SI: possibly delisted; no timezone found\n"
     ]
    },
    {
     "name": "stdout",
     "output_type": "stream",
     "text": [
      "{'id': 53, 'symbol': 'ZHS.SI', 'name': 'NikkoAM-ICBCSG China Bond ETF SGD', 'exDate': datetime.date(2025, 7, 1), 'payout': 0.0124, 'trend': 'Consolidation'}\n"
     ]
    },
    {
     "name": "stderr",
     "output_type": "stream",
     "text": [
      "$TEMB.SI: possibly delisted; no timezone found\n",
      "$A95W.SI: possibly delisted; no timezone found\n"
     ]
    },
    {
     "name": "stdout",
     "output_type": "stream",
     "text": [
      "{'id': 54, 'symbol': 'NPW.SI', 'name': 'Malaysia Smelting Corporation Berhad', 'exDate': datetime.date(2025, 6, 13), 'payout': 0.07, 'trend': 'Consolidation'}\n",
      "{'id': 55, 'symbol': 'B58.SI', 'name': 'Banyan Tree Holdings Limited', 'exDate': datetime.date(2025, 5, 6), 'payout': 0.012, 'trend': 'Consolidation'}\n"
     ]
    },
    {
     "name": "stderr",
     "output_type": "stream",
     "text": [
      "$USHW.SI: possibly delisted; no timezone found\n"
     ]
    },
    {
     "name": "stdout",
     "output_type": "stream",
     "text": [
      "{'id': 56, 'symbol': 'S41.SI', 'name': 'Hong Leong Finance Limited', 'exDate': datetime.date(2025, 5, 7), 'payout': 0.09, 'trend': 'Consolidation'}\n"
     ]
    },
    {
     "name": "stderr",
     "output_type": "stream",
     "text": [
      "$56IW.SI: possibly delisted; no timezone found\n",
      "$W8KB.SI: possibly delisted; no timezone found\n",
      "$VLDW.SI: possibly delisted; no timezone found\n"
     ]
    },
    {
     "name": "stdout",
     "output_type": "stream",
     "text": [
      "{'id': 57, 'symbol': 'H02.SI', 'name': 'Haw Par Corporation Limited', 'exDate': datetime.date(2025, 5, 3), 'payout': 0.2, 'trend': 'Consolidation'}\n",
      "{'id': 58, 'symbol': 'T15.SI', 'name': 'Tan Chong International Limited', 'exDate': datetime.date(2025, 5, 31), 'payout': 0.045, 'trend': 'Consolidation'}\n"
     ]
    },
    {
     "name": "stderr",
     "output_type": "stream",
     "text": [
      "$SNSW.SI: possibly delisted; no timezone found\n",
      "$QMPW.SI: possibly delisted; no timezone found\n",
      "$PUYW.SI: possibly delisted; no timezone found\n"
     ]
    },
    {
     "name": "stdout",
     "output_type": "stream",
     "text": [
      "{'id': 59, 'symbol': '5JK.SI', 'name': 'Hiap Hoe Limited', 'exDate': datetime.date(2025, 5, 10), 'payout': 0.005, 'trend': 'Bearish'}\n",
      "{'id': 60, 'symbol': 'N0Z.SI', 'name': 'Combine Will International Holdings Limited', 'exDate': datetime.date(2025, 5, 21), 'payout': 0.05, 'trend': 'Consolidation'}\n"
     ]
    },
    {
     "name": "stderr",
     "output_type": "stream",
     "text": [
      "$DRQW.SI: possibly delisted; no timezone found\n",
      "$WXGW.SI: possibly delisted; no timezone found\n",
      "$XBFW.SI: possibly delisted; no timezone found\n",
      "$DEFW.SI: possibly delisted; no timezone found\n",
      "PWJR.SI: Period 'max' is invalid, must be of the format 1d, 5d, etc.\n"
     ]
    },
    {
     "name": "stdout",
     "output_type": "stream",
     "text": [
      "{'id': 61, 'symbol': 'C33.SI', 'name': 'Chuan Hup Holdings Limited', 'exDate': datetime.date(2025, 11, 4), 'payout': 0.01, 'trend': 'Consolidation'}\n"
     ]
    },
    {
     "name": "stderr",
     "output_type": "stream",
     "text": [
      "$USAW.SI: possibly delisted; no timezone found\n",
      "$5B5W.SI: possibly delisted; no timezone found\n"
     ]
    },
    {
     "name": "stdout",
     "output_type": "stream",
     "text": [
      "{'id': 62, 'symbol': '40T.SI', 'name': 'ISEC Healthcare Ltd.', 'exDate': datetime.date(2025, 4, 26), 'payout': 0.0085, 'trend': 'Consolidation'}\n"
     ]
    },
    {
     "name": "stderr",
     "output_type": "stream",
     "text": [
      "$9O5W.SI: possibly delisted; no timezone found\n"
     ]
    },
    {
     "name": "stdout",
     "output_type": "stream",
     "text": [
      "{'id': 63, 'symbol': '5SR.SI', 'name': 'Zhongmin Baihui Retail Group Ltd.', 'exDate': datetime.date(2025, 11, 7), 'payout': 0.01, 'trend': 'Consolidation'}\n",
      "{'id': 64, 'symbol': 'MBH.SI', 'name': 'Nikko AM SGD Investment Grd Corp Bd ETF', 'exDate': datetime.date(2025, 7, 1), 'payout': 0.0161, 'trend': 'Consolidation'}\n"
     ]
    },
    {
     "name": "stderr",
     "output_type": "stream",
     "text": [
      "$DEOW.SI: possibly delisted; no timezone found\n",
      "$UMCW.SI: possibly delisted; no timezone found\n",
      "$NLJW.SI: possibly delisted; no timezone found\n",
      "$CZNW.SI: possibly delisted; no timezone found\n",
      "$LTVW.SI: possibly delisted; no timezone found\n"
     ]
    },
    {
     "name": "stdout",
     "output_type": "stream",
     "text": [
      "{'id': 65, 'symbol': 'D05.SI', 'name': 'DBS Group Holdings Ltd', 'exDate': datetime.date(2025, 4, 5), 'payout': 0.490909, 'trend': 'Consolidation'}\n"
     ]
    },
    {
     "name": "stderr",
     "output_type": "stream",
     "text": [
      "$TPIW.SI: possibly delisted; no timezone found\n",
      "$HHHW.SI: possibly delisted; no timezone found\n",
      "$OVVW.SI: possibly delisted; no timezone found\n",
      "$XG5W.SI: possibly delisted; no timezone found\n",
      "$9GBW.SI: possibly delisted; no timezone found\n",
      "$XIRW.SI: possibly delisted; no timezone found\n",
      "$NUIW.SI: possibly delisted; no timezone found\n",
      "$DIPW.SI: possibly delisted; no timezone found\n"
     ]
    },
    {
     "name": "stdout",
     "output_type": "stream",
     "text": [
      "{'id': 66, 'symbol': 'ESU.SI', 'name': 'Lion-OCBC Securities Singapore Low Carbon ETF', 'exDate': datetime.date(2025, 7, 1), 'payout': 0.014731, 'trend': 'Consolidation'}\n"
     ]
    },
    {
     "name": "stderr",
     "output_type": "stream",
     "text": [
      "$CZVW.SI: possibly delisted; no timezone found\n"
     ]
    },
    {
     "name": "stdout",
     "output_type": "stream",
     "text": [
      "{'id': 67, 'symbol': 'B26.SI', 'name': 'Ban Leong Technologies Limited', 'exDate': datetime.date(2025, 8, 7), 'payout': 0.016, 'trend': 'Consolidation'}\n"
     ]
    },
    {
     "name": "stderr",
     "output_type": "stream",
     "text": [
      "$IESW.SI: possibly delisted; no timezone found\n",
      "$UHTW.SI: possibly delisted; no timezone found\n",
      "$DTIW.SI: possibly delisted; no timezone found\n",
      "$XIBW.SI: possibly delisted; no timezone found\n",
      "$DWIW.SI: possibly delisted; no timezone found\n"
     ]
    },
    {
     "name": "stdout",
     "output_type": "stream",
     "text": [
      "{'id': 68, 'symbol': '544.SI', 'name': 'CSE Global Limited', 'exDate': datetime.date(2025, 5, 9), 'payout': 0.015, 'trend': 'Consolidation'}\n"
     ]
    },
    {
     "name": "stderr",
     "output_type": "stream",
     "text": [
      "$DUMW.SI: possibly delisted; no timezone found\n"
     ]
    },
    {
     "name": "stdout",
     "output_type": "stream",
     "text": [
      "{'id': 69, 'symbol': 'G0I.SI', 'name': 'Nam Lee Pressed Metal Industries Limited', 'exDate': datetime.date(2025, 1, 29), 'payout': 0.0025, 'trend': 'Consolidation'}\n",
      "{'id': 70, 'symbol': 'G20.SI', 'name': 'GP Industries Limited', 'exDate': datetime.date(2025, 8, 7), 'payout': 0.01, 'trend': 'Consolidation'}\n"
     ]
    },
    {
     "name": "stderr",
     "output_type": "stream",
     "text": [
      "$DGMW.SI: possibly delisted; no timezone found\n",
      "GWSR.SI: Period 'max' is invalid, must be of the format 1d, 5d, etc.\n",
      "$MCZW.SI: possibly delisted; no timezone found\n"
     ]
    },
    {
     "name": "stdout",
     "output_type": "stream",
     "text": [
      "{'id': 71, 'symbol': 'BTJ.SI', 'name': 'A-Sonic Aerospace Limited', 'exDate': datetime.date(2025, 5, 9), 'payout': 0.0025, 'trend': 'Consolidation'}\n"
     ]
    },
    {
     "name": "stderr",
     "output_type": "stream",
     "text": [
      "$DCQW.SI: possibly delisted; no timezone found\n",
      "$GUVW.SI: possibly delisted; no timezone found\n",
      "$92NW.SI: possibly delisted; no timezone found\n"
     ]
    },
    {
     "name": "stdout",
     "output_type": "stream",
     "text": [
      "{'id': 72, 'symbol': 'V03.SI', 'name': 'Venture Corporation Limited', 'exDate': datetime.date(2025, 5, 7), 'payout': 0.5, 'trend': 'Consolidation'}\n",
      "{'id': 73, 'symbol': 'LMS.SI', 'name': 'LMS Compliance Ltd.', 'exDate': datetime.date(2025, 5, 6), 'payout': 0.0035, 'trend': 'Bearish'}\n",
      "{'id': 74, 'symbol': 'YYR.SI', 'name': 'Lion-OCBC Securities China Leaders ETF', 'exDate': datetime.date(2025, 7, 1), 'payout': 0.245334, 'trend': 'Consolidation'}\n"
     ]
    },
    {
     "name": "stderr",
     "output_type": "stream",
     "text": [
      "$HEYW.SI: possibly delisted; no timezone found\n",
      "$MDXW.SI: possibly delisted; no timezone found\n",
      "$TSTW.SI: possibly delisted; no timezone found\n",
      "$FESW.SI: possibly delisted; no timezone found\n",
      "Failed to get ticker 'EPVW.SI' reason: ('Connection broken: IncompleteRead(0 bytes read, 10240 more expected)', IncompleteRead(0 bytes read, 10240 more expected))\n",
      "$EPVW.SI: possibly delisted; no timezone found\n"
     ]
    },
    {
     "name": "stdout",
     "output_type": "stream",
     "text": [
      "{'id': 75, 'symbol': 'M62.SI', 'name': 'Principal FTSE ASEAN 40', 'exDate': datetime.date(2025, 4, 23), 'payout': 0.34, 'trend': 'Consolidation'}\n"
     ]
    },
    {
     "name": "stderr",
     "output_type": "stream",
     "text": [
      "$ZWAW.SI: possibly delisted; no timezone found\n"
     ]
    },
    {
     "name": "stdout",
     "output_type": "stream",
     "text": [
      "{'id': 76, 'symbol': '5OQ.SI', 'name': 'TEHO International Inc Ltd.', 'exDate': datetime.date(2025, 11, 11), 'payout': 0.001, 'trend': 'Consolidation'}\n"
     ]
    },
    {
     "name": "stderr",
     "output_type": "stream",
     "text": [
      "$CYMW.SI: possibly delisted; no timezone found\n",
      "$XR6W.SI: possibly delisted; no timezone found\n",
      "$XMHW.SI: possibly delisted; no timezone found\n",
      "$NDEW.SI: possibly delisted; no timezone found\n",
      "$96DW.SI: possibly delisted; no timezone found\n",
      "$CWPW.SI: possibly delisted; no timezone found\n"
     ]
    },
    {
     "name": "stdout",
     "output_type": "stream",
     "text": [
      "{'id': 77, 'symbol': 'BN2.SI', 'name': 'Valuetronics Holdings Limited', 'exDate': datetime.date(2025, 8, 8), 'payout': 0.08, 'trend': 'Consolidation'}\n"
     ]
    },
    {
     "name": "stderr",
     "output_type": "stream",
     "text": [
      "$HQXW.SI: possibly delisted; no timezone found\n",
      "$49CW.SI: possibly delisted; no timezone found\n"
     ]
    },
    {
     "name": "stdout",
     "output_type": "stream",
     "text": [
      "{'id': 78, 'symbol': 'O9P.SI', 'name': 'iShares Barclays Capital USD Asia High Yield Bond Index ETF', 'exDate': datetime.date(2025, 3, 1), 'payout': 0.13, 'trend': 'Consolidation'}\n"
     ]
    },
    {
     "name": "stderr",
     "output_type": "stream",
     "text": [
      "$USBW.SI: possibly delisted; no timezone found\n",
      "$ITXW.SI: possibly delisted; no timezone found\n"
     ]
    },
    {
     "name": "stdout",
     "output_type": "stream",
     "text": [
      "{'id': 79, 'symbol': 'J69U.SI', 'name': 'Frasers Centrepoint Trust', 'exDate': datetime.date(2025, 2, 1), 'payout': 0.0425, 'trend': 'Consolidation'}\n"
     ]
    },
    {
     "name": "stderr",
     "output_type": "stream",
     "text": [
      "$FOFW.SI: possibly delisted; no timezone found\n",
      "$50OW.SI: possibly delisted; no timezone found\n",
      "CMGS.SI: Period 'max' is invalid, must be of the format 1d, 5d, etc.\n",
      "$56DW.SI: possibly delisted; no timezone found\n"
     ]
    },
    {
     "name": "stdout",
     "output_type": "stream",
     "text": [
      "{'id': 80, 'symbol': 'J85.SI', 'name': 'CDL Hospitality Trusts', 'exDate': datetime.date(2025, 2, 6), 'payout': 0.0319, 'trend': 'Consolidation'}\n"
     ]
    },
    {
     "name": "stderr",
     "output_type": "stream",
     "text": [
      "$OOPW.SI: possibly delisted; no timezone found\n"
     ]
    },
    {
     "name": "stdout",
     "output_type": "stream",
     "text": [
      "{'id': 81, 'symbol': 'DHLU.SI', 'name': 'Daiwa House Logistics Trust', 'exDate': datetime.date(2025, 3, 6), 'payout': 0.0261, 'trend': 'Consolidation'}\n"
     ]
    },
    {
     "name": "stderr",
     "output_type": "stream",
     "text": [
      "$LCGW.SI: possibly delisted; no timezone found\n",
      "$ELDW.SI: possibly delisted; no timezone found\n"
     ]
    },
    {
     "name": "stdout",
     "output_type": "stream",
     "text": [
      "{'id': 82, 'symbol': 'BCV.SI', 'name': 'Qian Hu Corporation Limited', 'exDate': datetime.date(2025, 4, 9), 'payout': 0.003, 'trend': 'Consolidation'}\n",
      "{'id': 83, 'symbol': 'BEW.SI', 'name': 'JB Foods Limited', 'exDate': datetime.date(2025, 9, 4), 'payout': 0.002, 'trend': 'Consolidation'}\n",
      "{'id': 84, 'symbol': 'B28.SI', 'name': 'Bonvests Holdings Limited', 'exDate': datetime.date(2025, 5, 10), 'payout': 0.008, 'trend': 'Bearish'}\n"
     ]
    },
    {
     "name": "stderr",
     "output_type": "stream",
     "text": [
      "$ZYBW.SI: possibly delisted; no timezone found\n",
      "$ZCLW.SI: possibly delisted; no timezone found\n",
      "$V7BB.SI: possibly delisted; no timezone found\n",
      "$FGDW.SI: possibly delisted; no timezone found\n",
      "$HFQW.SI: possibly delisted; no timezone found\n",
      "$ZP6W.SI: possibly delisted; no timezone found\n",
      "$ZLYW.SI: possibly delisted; no timezone found\n",
      "$DQZW.SI: possibly delisted; no timezone found\n",
      "$DRRW.SI: possibly delisted; no timezone found\n",
      "$DCUW.SI: possibly delisted; no timezone found\n"
     ]
    },
    {
     "name": "stdout",
     "output_type": "stream",
     "text": [
      "{'id': 85, 'symbol': 'BCY.SI', 'name': 'Powermatic Data Systems Limited', 'exDate': datetime.date(2025, 8, 15), 'payout': 0.05, 'trend': 'Consolidation'}\n"
     ]
    },
    {
     "name": "stderr",
     "output_type": "stream",
     "text": [
      "$PAMW.SI: possibly delisted; no timezone found\n",
      "$TEWW.SI: possibly delisted; no timezone found\n",
      "$LYAW.SI: possibly delisted; no timezone found\n",
      "$RQGW.SI: possibly delisted; no timezone found\n",
      "$48QW.SI: possibly delisted; no timezone found\n",
      "$PBSW.SI: possibly delisted; no timezone found\n",
      "$FHRW.SI: possibly delisted; no timezone found\n"
     ]
    },
    {
     "name": "stdout",
     "output_type": "stream",
     "text": [
      "{'id': 86, 'symbol': 'G3B.SI', 'name': 'Nikko AM Singapore STI ETF', 'exDate': datetime.date(2025, 7, 1), 'payout': 0.0806, 'trend': 'Consolidation'}\n",
      "{'id': 87, 'symbol': '1J5.SI', 'name': 'Hyphens Pharma International Limited', 'exDate': datetime.date(2025, 5, 8), 'payout': 0.0086, 'trend': 'Consolidation'}\n",
      "{'id': 88, 'symbol': 'U10.SI', 'name': 'UOB-Kay Hian Holdings Limited', 'exDate': datetime.date(2025, 5, 7), 'payout': 0.092, 'trend': 'Consolidation'}\n"
     ]
    },
    {
     "name": "stderr",
     "output_type": "stream",
     "text": [
      "$V7SW.SI: possibly delisted; no timezone found\n"
     ]
    },
    {
     "name": "stdout",
     "output_type": "stream",
     "text": [
      "{'id': 89, 'symbol': '508.SI', 'name': 'Fuji Offset Plates Manufacturing Ltd', 'exDate': datetime.date(2025, 5, 13), 'payout': 0.005, 'trend': 'Consolidation'}\n"
     ]
    },
    {
     "name": "stderr",
     "output_type": "stream",
     "text": [
      "$DYNW.SI: possibly delisted; no timezone found\n",
      "$WTNW.SI: possibly delisted; no timezone found\n",
      "$YF2W.SI: possibly delisted; no timezone found\n",
      "$FYFS.SI: possibly delisted; no timezone found\n",
      "$ZNPW.SI: possibly delisted; no timezone found\n",
      "$X5HW.SI: possibly delisted; no timezone found\n",
      "$SRRW.SI: possibly delisted; no timezone found\n"
     ]
    },
    {
     "name": "stdout",
     "output_type": "stream",
     "text": [
      "{'id': 90, 'symbol': '42E.SI', 'name': 'Choo Chiang Holdings Ltd.', 'exDate': datetime.date(2025, 5, 3), 'payout': 0.015, 'trend': 'Bearish'}\n"
     ]
    },
    {
     "name": "stderr",
     "output_type": "stream",
     "text": [
      "$EAPS.SI: possibly delisted; no timezone found\n"
     ]
    },
    {
     "name": "stdout",
     "output_type": "stream",
     "text": [
      "{'id': 91, 'symbol': 'BHK.SI', 'name': 'SIIC Environment Holdings Ltd.', 'exDate': datetime.date(2025, 5, 16), 'payout': 0.006, 'trend': 'Consolidation'}\n"
     ]
    },
    {
     "name": "stderr",
     "output_type": "stream",
     "text": [
      "$DPRW.SI: possibly delisted; no timezone found\n",
      "$TSYW.SI: possibly delisted; no timezone found\n",
      "$YUIW.SI: possibly delisted; no timezone found\n",
      "$MMGW.SI: possibly delisted; no timezone found\n"
     ]
    },
    {
     "name": "stdout",
     "output_type": "stream",
     "text": [
      "{'id': 92, 'symbol': 'N6M.SI', 'name': 'iShares J.P. Morgan USD Asia Credit Bond Index ETF', 'exDate': datetime.date(2025, 3, 1), 'payout': 0.11, 'trend': 'Consolidation'}\n"
     ]
    },
    {
     "name": "stderr",
     "output_type": "stream",
     "text": [
      "$DQKW.SI: possibly delisted; no timezone found\n"
     ]
    },
    {
     "name": "stdout",
     "output_type": "stream",
     "text": [
      "{'id': 93, 'symbol': 'E3B.SI', 'name': 'Wee Hur Holdings Ltd.', 'exDate': datetime.date(2025, 5, 8), 'payout': 0.004, 'trend': 'Bullish'}\n"
     ]
    },
    {
     "name": "stderr",
     "output_type": "stream",
     "text": [
      "$DVFW.SI: possibly delisted; no timezone found\n"
     ]
    },
    {
     "name": "stdout",
     "output_type": "stream",
     "text": [
      "{'id': 94, 'symbol': '5ML.SI', 'name': 'Old Chang Kee Ltd.', 'exDate': datetime.date(2025, 8, 14), 'payout': 0.01, 'trend': 'Consolidation'}\n"
     ]
    },
    {
     "name": "stderr",
     "output_type": "stream",
     "text": [
      "$WJDW.SI: possibly delisted; no timezone found\n",
      "$DVKW.SI: possibly delisted; no timezone found\n",
      "$YI1W.SI: possibly delisted; no timezone found\n",
      "$WCLW.SI: possibly delisted; no timezone found\n",
      "$W3VW.SI: possibly delisted; no timezone found\n",
      "$DFUW.SI: possibly delisted; no timezone found\n",
      "$VSHW.SI: possibly delisted; no timezone found\n"
     ]
    },
    {
     "name": "stdout",
     "output_type": "stream",
     "text": [
      "{'id': 95, 'symbol': 'TWL.SI', 'name': 'Memiontec Holdings Ltd.', 'exDate': datetime.date(2025, 6, 20), 'payout': 0.00196, 'trend': 'Bearish'}\n"
     ]
    },
    {
     "name": "stderr",
     "output_type": "stream",
     "text": [
      "$44RW.SI: possibly delisted; no timezone found\n",
      "$DKPW.SI: possibly delisted; no timezone found\n",
      "YGXR.SI: Period 'max' is invalid, must be of the format 1d, 5d, etc.\n",
      "$9T8W.SI: possibly delisted; no timezone found\n",
      "$IJEW.SI: possibly delisted; no timezone found\n",
      "$MEAW.SI: possibly delisted; no timezone found\n"
     ]
    },
    {
     "name": "stdout",
     "output_type": "stream",
     "text": [
      "{'id': 96, 'symbol': 'LJ3.SI', 'name': 'OUE Limited', 'exDate': datetime.date(2025, 5, 8), 'payout': 0.01, 'trend': 'Consolidation'}\n"
     ]
    },
    {
     "name": "stderr",
     "output_type": "stream",
     "text": [
      "$VR2W.SI: possibly delisted; no timezone found\n",
      "$NVLW.SI: possibly delisted; no timezone found\n",
      "$GUBW.SI: possibly delisted; no timezone found\n",
      "$HSNW.SI: possibly delisted; no timezone found\n",
      "$LJGW.SI: possibly delisted; no timezone found\n",
      "$WYBW.SI: possibly delisted; no timezone found\n"
     ]
    },
    {
     "name": "stdout",
     "output_type": "stream",
     "text": [
      "{'id': 97, 'symbol': '1R6.SI', 'name': 'Avi-Tech Holdings Limited', 'exDate': datetime.date(2025, 5, 2), 'payout': 0.0075, 'trend': 'Consolidation'}\n"
     ]
    },
    {
     "name": "stderr",
     "output_type": "stream",
     "text": [
      "$47GW.SI: possibly delisted; no timezone found\n",
      "$DQUW.SI: possibly delisted; no timezone found\n",
      "$EKPW.SI: possibly delisted; no timezone found\n"
     ]
    },
    {
     "name": "stdout",
     "output_type": "stream",
     "text": [
      "{'id': 98, 'symbol': 'S27.SI', 'name': 'SPDR S&P 500 ETF Trust', 'exDate': datetime.date(2025, 3, 15), 'payout': 1.594937, 'trend': 'Consolidation'}\n"
     ]
    },
    {
     "name": "stderr",
     "output_type": "stream",
     "text": [
      "$CVEW.SI: possibly delisted; no timezone found\n",
      "9RQR.SI: Period 'max' is invalid, must be of the format 1d, 5d, etc.\n"
     ]
    },
    {
     "name": "stdout",
     "output_type": "stream",
     "text": [
      "{'id': 99, 'symbol': '5SO.SI', 'name': 'Duty Free International Limited', 'exDate': datetime.date(2025, 1, 29), 'payout': 0.0008, 'trend': 'Bullish'}\n"
     ]
    },
    {
     "name": "stderr",
     "output_type": "stream",
     "text": [
      "$RYOW.SI: possibly delisted; no timezone found\n",
      "$SLVW.SI: possibly delisted; no timezone found\n"
     ]
    },
    {
     "name": "stdout",
     "output_type": "stream",
     "text": [
      "{'id': 100, 'symbol': 'BIP.SI', 'name': 'Vibrant Group Limited', 'exDate': datetime.date(2025, 9, 6), 'payout': 0.002, 'trend': 'Consolidation'}\n"
     ]
    },
    {
     "name": "stderr",
     "output_type": "stream",
     "text": [
      "$QXPW.SI: possibly delisted; no timezone found\n"
     ]
    },
    {
     "name": "stdout",
     "output_type": "stream",
     "text": [
      "{'id': 101, 'symbol': 'J2T.SI', 'name': 'Hock Lian Seng Holdings Limited', 'exDate': datetime.date(2025, 5, 6), 'payout': 0.015, 'trend': 'Bullish'}\n",
      "{'id': 102, 'symbol': 'CRPU.SI', 'name': 'Sasseur Real Estate Investment Trust', 'exDate': datetime.date(2025, 3, 18), 'payout': 0.01415, 'trend': 'Consolidation'}\n"
     ]
    },
    {
     "name": "stderr",
     "output_type": "stream",
     "text": [
      "$FIHW.SI: possibly delisted; no timezone found\n",
      "$NVDW.SI: possibly delisted; no timezone found\n",
      "$45IW.SI: possibly delisted; no timezone found\n",
      "$XSVW.SI: possibly delisted; no timezone found\n"
     ]
    },
    {
     "name": "stdout",
     "output_type": "stream",
     "text": [
      "{'id': 103, 'symbol': 'MR7.SI', 'name': 'Nordic Group Limited', 'exDate': datetime.date(2025, 5, 8), 'payout': 0.00588, 'trend': 'Consolidation'}\n"
     ]
    },
    {
     "name": "stderr",
     "output_type": "stream",
     "text": [
      "$YT4W.SI: possibly delisted; no timezone found\n"
     ]
    },
    {
     "name": "stdout",
     "output_type": "stream",
     "text": [
      "{'id': 104, 'symbol': 'F99.SI', 'name': 'Fraser and Neave, Limited', 'exDate': datetime.date(2025, 1, 29), 'payout': 0.04, 'trend': 'Consolidation'}\n"
     ]
    },
    {
     "name": "stderr",
     "output_type": "stream",
     "text": [
      "$CUGW.SI: possibly delisted; no timezone found\n",
      "$Z5MW.SI: possibly delisted; no timezone found\n",
      "$8YLS.SI: possibly delisted; no timezone found\n",
      "$FBXW.SI: possibly delisted; no timezone found\n",
      "$KJZW.SI: possibly delisted; no timezone found\n",
      "$FDWW.SI: possibly delisted; no timezone found\n",
      "$CZGW.SI: possibly delisted; no timezone found\n",
      "$DWFW.SI: possibly delisted; no timezone found\n",
      "$9ZIW.SI: possibly delisted; no timezone found\n",
      "$DPGW.SI: possibly delisted; no timezone found\n"
     ]
    },
    {
     "name": "stdout",
     "output_type": "stream",
     "text": [
      "{'id': 105, 'symbol': 'ADN.SI', 'name': 'First Sponsor Group Limited', 'exDate': datetime.date(2025, 5, 7), 'payout': 0.031, 'trend': 'Consolidation'}\n",
      "{'id': 106, 'symbol': '566.SI', 'name': 'SHS Holdings Ltd.', 'exDate': datetime.date(2025, 5, 8), 'payout': 0.00284, 'trend': 'Bearish'}\n",
      "{'id': 107, 'symbol': '5IC.SI', 'name': 'Sing Holdings Limited', 'exDate': datetime.date(2025, 5, 2), 'payout': 0.01, 'trend': 'Bullish'}\n"
     ]
    },
    {
     "name": "stderr",
     "output_type": "stream",
     "text": [
      "$RGMW.SI: possibly delisted; no timezone found\n",
      "$DVNW.SI: possibly delisted; no timezone found\n"
     ]
    },
    {
     "name": "stdout",
     "output_type": "stream",
     "text": [
      "{'id': 108, 'symbol': '540.SI', 'name': 'Tung Lok Restaurants (2000) Ltd', 'exDate': datetime.date(2025, 8, 8), 'payout': 0.00224, 'trend': 'Bullish'}\n"
     ]
    },
    {
     "name": "stderr",
     "output_type": "stream",
     "text": [
      "$LQRW.SI: possibly delisted; no timezone found\n"
     ]
    },
    {
     "name": "stdout",
     "output_type": "stream",
     "text": [
      "{'id': 109, 'symbol': 'S08.SI', 'name': 'Singapore Post Limited', 'exDate': datetime.date(2025, 7, 31), 'payout': 0.0056, 'trend': 'Consolidation'}\n"
     ]
    },
    {
     "name": "stderr",
     "output_type": "stream",
     "text": [
      "$CWXW.SI: possibly delisted; no timezone found\n",
      "$USGW.SI: possibly delisted; no timezone found\n"
     ]
    },
    {
     "name": "stdout",
     "output_type": "stream",
     "text": [
      "{'id': 110, 'symbol': '533.SI', 'name': 'ABR Holdings Limited', 'exDate': datetime.date(2025, 5, 10), 'payout': 0.01, 'trend': 'Consolidation'}\n"
     ]
    },
    {
     "name": "stderr",
     "output_type": "stream",
     "text": [
      "$KSMW.SI: possibly delisted; no timezone found\n"
     ]
    },
    {
     "name": "stdout",
     "output_type": "stream",
     "text": [
      "{'id': 111, 'symbol': 'BBW.SI', 'name': 'Azeus Systems Holdings Ltd.', 'exDate': datetime.date(2025, 2, 16), 'payout': 0.153, 'trend': 'Bearish'}\n"
     ]
    },
    {
     "name": "stderr",
     "output_type": "stream",
     "text": [
      "$DUPW.SI: possibly delisted; no timezone found\n"
     ]
    },
    {
     "name": "stdout",
     "output_type": "stream",
     "text": [
      "{'id': 112, 'symbol': 'S07.SI', 'name': 'Shangri-La Asia Limited', 'exDate': datetime.date(2025, 6, 3), 'payout': 0.15, 'trend': 'Bearish'}\n",
      "{'id': 113, 'symbol': 'M05.SI', 'name': 'MTQ Corporation Limited', 'exDate': datetime.date(2025, 8, 6), 'payout': 0.005, 'trend': 'Bullish'}\n"
     ]
    },
    {
     "name": "stderr",
     "output_type": "stream",
     "text": [
      "$DIOW.SI: possibly delisted; no timezone found\n",
      "$VUQW.SI: possibly delisted; no timezone found\n"
     ]
    },
    {
     "name": "stdout",
     "output_type": "stream",
     "text": [
      "{'id': 114, 'symbol': 'S7P.SI', 'name': 'Soilbuild Construction Group Ltd.', 'exDate': datetime.date(2025, 5, 6), 'payout': 0.001, 'trend': 'Consolidation'}\n"
     ]
    },
    {
     "name": "stderr",
     "output_type": "stream",
     "text": [
      "$PHHW.SI: possibly delisted; no timezone found\n"
     ]
    },
    {
     "name": "stdout",
     "output_type": "stream",
     "text": [
      "{'id': 115, 'symbol': 'AWZ.SI', 'name': 'Multi-Chem Limited', 'exDate': datetime.date(2025, 5, 10), 'payout': 0.155, 'trend': 'Consolidation'}\n",
      "{'id': 116, 'symbol': 'QC7.SI', 'name': 'Q & M Dental Group (Singapore) Limited', 'exDate': datetime.date(2025, 3, 8), 'payout': 0.0053, 'trend': 'Consolidation'}\n",
      "{'id': 117, 'symbol': '43B.SI', 'name': 'Secura Group Limited', 'exDate': datetime.date(2025, 5, 7), 'payout': 0.001375, 'trend': 'Consolidation'}\n"
     ]
    },
    {
     "name": "stderr",
     "output_type": "stream",
     "text": [
      "$GGTW.SI: possibly delisted; no timezone found\n",
      "$1Q8W.SI: possibly delisted; no timezone found\n"
     ]
    },
    {
     "name": "stdout",
     "output_type": "stream",
     "text": [
      "{'id': 118, 'symbol': 'T14.SI', 'name': 'Tianjin Pharmaceutical Da Ren Tang Group Corporation Limited', 'exDate': datetime.date(2025, 7, 2), 'payout': 0.237824, 'trend': 'Consolidation'}\n"
     ]
    },
    {
     "name": "stderr",
     "output_type": "stream",
     "text": [
      "$CYZW.SI: possibly delisted; no timezone found\n",
      "$WPBW.SI: possibly delisted; no timezone found\n"
     ]
    },
    {
     "name": "stdout",
     "output_type": "stream",
     "text": [
      "{'id': 119, 'symbol': 'i07.SI', 'name': 'ISDN Holdings Limited', 'exDate': datetime.date(2025, 7, 5), 'payout': 0.0028, 'trend': 'Consolidation'}\n"
     ]
    },
    {
     "name": "stderr",
     "output_type": "stream",
     "text": [
      "$PRZW.SI: possibly delisted; no timezone found\n",
      "$MVKW.SI: possibly delisted; no timezone found\n",
      "$HWAW.SI: possibly delisted; no timezone found\n"
     ]
    },
    {
     "name": "stdout",
     "output_type": "stream",
     "text": [
      "{'id': 120, 'symbol': 'H13.SI', 'name': 'Ho Bee Land Limited', 'exDate': datetime.date(2025, 5, 14), 'payout': 0.03, 'trend': 'Consolidation'}\n"
     ]
    },
    {
     "name": "stderr",
     "output_type": "stream",
     "text": [
      "$PYCW.SI: possibly delisted; no timezone found\n",
      "BJGS.SI: Period 'max' is invalid, must be of the format 1d, 5d, etc.\n"
     ]
    },
    {
     "name": "stdout",
     "output_type": "stream",
     "text": [
      "{'id': 121, 'symbol': 'ACV.SI', 'name': 'Frasers Hospitality Trust', 'exDate': datetime.date(2025, 5, 16), 'payout': 0.01091, 'trend': 'Bullish'}\n"
     ]
    },
    {
     "name": "stderr",
     "output_type": "stream",
     "text": [
      "$POUW.SI: possibly delisted; no timezone found\n"
     ]
    },
    {
     "name": "stdout",
     "output_type": "stream",
     "text": [
      "{'id': 122, 'symbol': 'BTE.SI', 'name': 'Bund Center Investment Ltd', 'exDate': datetime.date(2025, 10, 17), 'payout': 0.014, 'trend': 'Consolidation'}\n"
     ]
    },
    {
     "name": "stderr",
     "output_type": "stream",
     "text": [
      "$KEWW.SI: possibly delisted; no timezone found\n"
     ]
    },
    {
     "name": "stdout",
     "output_type": "stream",
     "text": [
      "{'id': 124, 'symbol': 'D07.SI', 'name': 'SPDR Dow Jones Industrial Average ETF Trust', 'exDate': datetime.date(2025, 2, 16), 'payout': 0.61185, 'trend': 'Consolidation'}\n",
      "{'id': 125, 'symbol': 'AWI.SI', 'name': 'Thakral Corporation Ltd', 'exDate': datetime.date(2025, 5, 6), 'payout': 0.02, 'trend': 'Bullish'}\n"
     ]
    },
    {
     "name": "stderr",
     "output_type": "stream",
     "text": [
      "$LWHW.SI: possibly delisted; no timezone found\n"
     ]
    },
    {
     "name": "stdout",
     "output_type": "stream",
     "text": [
      "{'id': 126, 'symbol': 'G07.SI', 'name': 'Great Eastern Holdings Limited', 'exDate': datetime.date(2025, 4, 30), 'payout': 0.4, 'trend': 'Consolidation'}\n"
     ]
    },
    {
     "name": "stderr",
     "output_type": "stream",
     "text": [
      "$RYX.SI: possibly delisted; no timezone found\n"
     ]
    },
    {
     "name": "stdout",
     "output_type": "stream",
     "text": [
      "{'id': 127, 'symbol': 'D8DU.SI', 'name': 'First Ship Lease Trust', 'exDate': datetime.date(2025, 2, 15), 'payout': 0.015, 'trend': 'Consolidation'}\n",
      "{'id': 128, 'symbol': 'HMN.SI', 'name': 'CapitaLand Ascott Trust', 'exDate': datetime.date(2025, 2, 5), 'payout': 0.02839, 'trend': 'Consolidation'}\n",
      "{'id': 129, 'symbol': 'K29.SI', 'name': 'Karin Technology Holdings Limited', 'exDate': datetime.date(2025, 2, 27), 'payout': 0.008413, 'trend': 'Bearish'}\n",
      "{'id': 130, 'symbol': 'UD2.SI', 'name': 'Japfa Ltd.', 'exDate': datetime.date(2025, 11, 5), 'payout': 0.01, 'trend': 'Bullish'}\n"
     ]
    },
    {
     "name": "stderr",
     "output_type": "stream",
     "text": [
      "$EHZB.SI: possibly delisted; no timezone found\n",
      "$95DW.SI: possibly delisted; no timezone found\n",
      "$DXOW.SI: possibly delisted; no timezone found\n"
     ]
    },
    {
     "name": "stdout",
     "output_type": "stream",
     "text": [
      "{'id': 131, 'symbol': 'O39.SI', 'name': 'Oversea-Chinese Banking Corporation Limited', 'exDate': datetime.date(2025, 5, 8), 'payout': 0.42, 'trend': 'Consolidation'}\n"
     ]
    },
    {
     "name": "stderr",
     "output_type": "stream",
     "text": [
      "$91DB.SI: possibly delisted; no timezone found\n",
      "$DJVW.SI: possibly delisted; no timezone found\n"
     ]
    },
    {
     "name": "stdout",
     "output_type": "stream",
     "text": [
      "{'id': 132, 'symbol': 'MMS.SI', 'name': 'Phillip SGD Money Market ETF', 'exDate': datetime.date(2025, 2, 7), 'payout': 0.88, 'trend': 'Consolidation'}\n",
      "{'id': 133, 'symbol': '41O.SI', 'name': 'LHN Limited', 'exDate': datetime.date(2025, 2, 6), 'payout': 0.01, 'trend': 'Bullish'}\n"
     ]
    },
    {
     "name": "stderr",
     "output_type": "stream",
     "text": [
      "$SMIW.SI: possibly delisted; no timezone found\n"
     ]
    },
    {
     "name": "stdout",
     "output_type": "stream",
     "text": [
      "{'id': 134, 'symbol': 'C52.SI', 'name': 'ComfortDelGro Corporation Limited', 'exDate': datetime.date(2025, 5, 6), 'payout': 0.0376, 'trend': 'Bearish'}\n",
      "{'id': 135, 'symbol': 'AYN.SI', 'name': 'Global Testing Corporation Limited', 'exDate': datetime.date(2025, 5, 30), 'payout': 0.05, 'trend': 'Consolidation'}\n"
     ]
    },
    {
     "name": "stderr",
     "output_type": "stream",
     "text": [
      "$Z9UW.SI: possibly delisted; no timezone found\n"
     ]
    },
    {
     "name": "stdout",
     "output_type": "stream",
     "text": [
      "{'id': 136, 'symbol': 'H07.SI', 'name': 'Stamford Land Corporation Ltd', 'exDate': datetime.date(2025, 8, 8), 'payout': 0.005, 'trend': 'Consolidation'}\n",
      "{'id': 137, 'symbol': 'OU8.SI', 'name': 'Centurion Corporation Limited', 'exDate': datetime.date(2025, 5, 9), 'payout': 0.015, 'trend': 'Bullish'}\n",
      "{'id': 138, 'symbol': 'T82U.SI', 'name': 'Suntec Real Estate Investment Trust', 'exDate': datetime.date(2025, 1, 31), 'payout': 0.01866, 'trend': 'Bullish'}\n"
     ]
    },
    {
     "name": "stderr",
     "output_type": "stream",
     "text": [
      "$8E8W.SI: possibly delisted; no timezone found\n",
      "$HKKW.SI: possibly delisted; no timezone found\n",
      "$GDJW.SI: possibly delisted; no timezone found\n",
      "$YCPW.SI: possibly delisted; no timezone found\n",
      "$OXAW.SI: possibly delisted; no timezone found\n",
      "$MNSW.SI: possibly delisted; no timezone found\n"
     ]
    },
    {
     "name": "stdout",
     "output_type": "stream",
     "text": [
      "{'id': 140, 'symbol': 'YLD.SI', 'name': 'Lion-OCBC Securities APAC Financials Dividend Plus ETF', 'exDate': datetime.date(2025, 7, 17), 'payout': 0.03, 'trend': 'Consolidation'}\n"
     ]
    },
    {
     "name": "stderr",
     "output_type": "stream",
     "text": [
      "$DIFW.SI: possibly delisted; no timezone found\n",
      "$DYHW.SI: possibly delisted; no timezone found\n",
      "$OXCW.SI: possibly delisted; no timezone found\n"
     ]
    },
    {
     "name": "stdout",
     "output_type": "stream",
     "text": [
      "{'id': 141, 'symbol': 'O08.SI', 'name': 'Ossia International Limited', 'exDate': datetime.date(2025, 7, 30), 'payout': 0.007, 'trend': 'Consolidation'}\n"
     ]
    },
    {
     "name": "stderr",
     "output_type": "stream",
     "text": [
      "BJHS.SI: Period 'max' is invalid, must be of the format 1d, 5d, etc.\n"
     ]
    },
    {
     "name": "stdout",
     "output_type": "stream",
     "text": [
      "{'id': 142, 'symbol': '5TP.SI', 'name': 'CNMC Goldmine Holdings Limited', 'exDate': datetime.date(2025, 5, 13), 'payout': 0.002, 'trend': 'Bullish'}\n"
     ]
    },
    {
     "name": "stderr",
     "output_type": "stream",
     "text": [
      "$DYEW.SI: possibly delisted; no timezone found\n",
      "$IJIW.SI: possibly delisted; no timezone found\n",
      "$QTTW.SI: possibly delisted; no timezone found\n",
      "$WYHW.SI: possibly delisted; no timezone found\n"
     ]
    },
    {
     "name": "stdout",
     "output_type": "stream",
     "text": [
      "{'id': 143, 'symbol': 'Y03.SI', 'name': 'Yeo Hiap Seng Limited', 'exDate': datetime.date(2025, 5, 6), 'payout': 0.02, 'trend': 'Consolidation'}\n"
     ]
    },
    {
     "name": "stderr",
     "output_type": "stream",
     "text": [
      "$PYKW.SI: possibly delisted; no timezone found\n"
     ]
    },
    {
     "name": "stdout",
     "output_type": "stream",
     "text": [
      "{'id': 144, 'symbol': 'YK9.SI', 'name': 'YKGI Limited', 'exDate': datetime.date(2025, 5, 7), 'payout': 0.0026, 'trend': 'Bearish'}\n"
     ]
    },
    {
     "name": "stderr",
     "output_type": "stream",
     "text": [
      "$IFHW.SI: possibly delisted; no timezone found\n",
      "$QFHW.SI: possibly delisted; no timezone found\n",
      "$HQLW.SI: possibly delisted; no timezone found\n",
      "$NHOW.SI: possibly delisted; no timezone found\n",
      "$KLOW.SI: possibly delisted; no timezone found\n",
      "$DUHW.SI: possibly delisted; no timezone found\n",
      "$GUDW.SI: possibly delisted; no timezone found\n",
      "$WA9W.SI: possibly delisted; no timezone found\n"
     ]
    },
    {
     "name": "stdout",
     "output_type": "stream",
     "text": [
      "{'id': 145, 'symbol': 'KJ5.SI', 'name': 'BBR Holdings (S) Ltd', 'exDate': datetime.date(2025, 5, 13), 'payout': 0.003, 'trend': 'Bullish'}\n"
     ]
    },
    {
     "name": "stderr",
     "output_type": "stream",
     "text": [
      "$DUKW.SI: possibly delisted; no timezone found\n"
     ]
    },
    {
     "name": "stdout",
     "output_type": "stream",
     "text": [
      "{'id': 146, 'symbol': 'WJP.SI', 'name': 'VICOM Ltd', 'exDate': datetime.date(2025, 5, 2), 'payout': 0.0275, 'trend': 'Consolidation'}\n"
     ]
    },
    {
     "name": "stderr",
     "output_type": "stream",
     "text": [
      "$YJZW.SI: possibly delisted; no timezone found\n"
     ]
    },
    {
     "name": "stdout",
     "output_type": "stream",
     "text": [
      "{'id': 147, 'symbol': 'U77.SI', 'name': 'Sarine Technologies Ltd.', 'exDate': datetime.date(2025, 8, 26), 'payout': 0.009763, 'trend': 'Consolidation'}\n",
      "{'id': 148, 'symbol': 'BYI.SI', 'name': 'Phillip SGX APAC Dividend Leaders REIT ETF', 'exDate': datetime.date(2025, 7, 10), 'payout': 0.012, 'trend': 'Bearish'}\n"
     ]
    },
    {
     "name": "stderr",
     "output_type": "stream",
     "text": [
      "$Y4GW.SI: possibly delisted; no timezone found\n"
     ]
    },
    {
     "name": "stdout",
     "output_type": "stream",
     "text": [
      "{'id': 149, 'symbol': 'TS0U.SI', 'name': 'OUE Real Estate Investment Trust', 'exDate': datetime.date(2025, 2, 5), 'payout': 0.0104, 'trend': 'Consolidation'}\n"
     ]
    },
    {
     "name": "stderr",
     "output_type": "stream",
     "text": [
      "$WJTW.SI: possibly delisted; no timezone found\n",
      "$56QW.SI: possibly delisted; no timezone found\n",
      "$DQVW.SI: possibly delisted; no timezone found\n"
     ]
    },
    {
     "name": "stdout",
     "output_type": "stream",
     "text": [
      "{'id': 150, 'symbol': 'N01.SI', 'name': 'Nera Telecommunications Ltd', 'exDate': datetime.date(2025, 5, 9), 'payout': 0.005, 'trend': 'Consolidation'}\n"
     ]
    },
    {
     "name": "stderr",
     "output_type": "stream",
     "text": [
      "$IZGW.SI: possibly delisted; no timezone found\n"
     ]
    },
    {
     "name": "stdout",
     "output_type": "stream",
     "text": [
      "{'id': 151, 'symbol': 'CYC.SI', 'name': 'ICBC CSOP FTSE Chinese Government Bond Index ETF', 'exDate': datetime.date(2025, 6, 21), 'payout': 0.2, 'trend': 'Consolidation'}\n",
      "{'id': 152, 'symbol': 'DCRU.SI', 'name': 'Digital Core REIT', 'exDate': datetime.date(2025, 2, 8), 'payout': 0.023745, 'trend': 'Consolidation'}\n"
     ]
    },
    {
     "name": "stderr",
     "output_type": "stream",
     "text": [
      "$USKW.SI: possibly delisted; no timezone found\n"
     ]
    },
    {
     "name": "stdout",
     "output_type": "stream",
     "text": [
      "{'id': 153, 'symbol': '5KI.SI', 'name': 'Soup Holdings Limited', 'exDate': datetime.date(2025, 5, 10), 'payout': 0.002, 'trend': 'Bullish'}\n"
     ]
    },
    {
     "name": "stderr",
     "output_type": "stream",
     "text": [
      "$RGUW.SI: possibly delisted; no timezone found\n"
     ]
    },
    {
     "name": "stdout",
     "output_type": "stream",
     "text": [
      "{'id': 154, 'symbol': 'P40U.SI', 'name': 'Starhill Global Real Estate Investment Trust', 'exDate': datetime.date(2025, 2, 5), 'payout': 0.0178, 'trend': 'Consolidation'}\n"
     ]
    },
    {
     "name": "stderr",
     "output_type": "stream",
     "text": [
      "$ECSW.SI: possibly delisted; no timezone found\n",
      "$HQCW.SI: possibly delisted; no timezone found\n",
      "$DKOW.SI: possibly delisted; no timezone found\n",
      "$TOAW.SI: possibly delisted; no timezone found\n",
      "T8FS.SI: Period 'max' is invalid, must be of the format 1d, 5d, etc.\n"
     ]
    },
    {
     "name": "stdout",
     "output_type": "stream",
     "text": [
      "{'id': 155, 'symbol': 'C70.SI', 'name': 'City Developments Ltd', 'exDate': datetime.date(2025, 6, 19), 'payout': 0.019447, 'trend': 'Bearish'}\n",
      "{'id': 156, 'symbol': 'Q5T.SI', 'name': 'Far East Hospitality Trust', 'exDate': datetime.date(2025, 2, 21), 'payout': 0.0217, 'trend': 'Consolidation'}\n"
     ]
    },
    {
     "name": "stderr",
     "output_type": "stream",
     "text": [
      "$FIMW.SI: possibly delisted; no timezone found\n",
      "$HNVW.SI: possibly delisted; no timezone found\n",
      "$EHNW.SI: possibly delisted; no timezone found\n",
      "R1NS.SI: Period 'max' is invalid, must be of the format 1d, 5d, etc.\n",
      "$44PW.SI: possibly delisted; no timezone found\n",
      "$MVLW.SI: possibly delisted; no timezone found\n",
      "$YMAW.SI: possibly delisted; no timezone found\n",
      "$VT6W.SI: possibly delisted; no timezone found\n"
     ]
    },
    {
     "name": "stdout",
     "output_type": "stream",
     "text": [
      "{'id': 157, 'symbol': 'G13.SI', 'name': 'Genting Singapore Limited', 'exDate': datetime.date(2025, 5, 2), 'payout': 0.02, 'trend': 'Bearish'}\n"
     ]
    },
    {
     "name": "stderr",
     "output_type": "stream",
     "text": [
      "$DHQW.SI: possibly delisted; no timezone found\n"
     ]
    },
    {
     "name": "stdout",
     "output_type": "stream",
     "text": [
      "{'id': 158, 'symbol': 'N6DD.SI', 'name': 'Mizuho Financial Group Inc', 'exDate': datetime.date(2025, 3, 27), 'payout': 0.070295, 'trend': 'Consolidation'}\n"
     ]
    },
    {
     "name": "stderr",
     "output_type": "stream",
     "text": [
      "$W1XW.SI: possibly delisted; no timezone found\n"
     ]
    },
    {
     "name": "stdout",
     "output_type": "stream",
     "text": [
      "{'id': 159, 'symbol': 'C05.SI', 'name': 'Chemical Industries (Far East) Limited', 'exDate': datetime.date(2025, 8, 6), 'payout': 0.015, 'trend': 'Consolidation'}\n",
      "{'id': 160, 'symbol': 'VC2.SI', 'name': 'Olam Group Limited', 'exDate': datetime.date(2025, 5, 3), 'payout': 0.04, 'trend': 'Bearish'}\n"
     ]
    },
    {
     "name": "stderr",
     "output_type": "stream",
     "text": [
      "$YS5W.SI: possibly delisted; no timezone found\n"
     ]
    },
    {
     "name": "stdout",
     "output_type": "stream",
     "text": [
      "{'id': 161, 'symbol': 'O5RU.SI', 'name': 'AIMS APAC REIT', 'exDate': datetime.date(2025, 2, 8), 'payout': 0.0234, 'trend': 'Consolidation'}\n",
      "{'id': 162, 'symbol': 'N2IU.SI', 'name': 'Mapletree Pan Asia Commercial Trust', 'exDate': datetime.date(2025, 2, 5), 'payout': 0.022, 'trend': 'Consolidation'}\n",
      "{'id': 163, 'symbol': 'G92.SI', 'name': 'China Aviation Oil (Singapore) Corporation Ltd', 'exDate': datetime.date(2025, 5, 10), 'payout': 0.0234, 'trend': 'Bearish'}\n",
      "{'id': 164, 'symbol': 'YLU.SI', 'name': 'Lion-OCBC Securities APAC Financials Dividend Plus ETF', 'exDate': datetime.date(2025, 7, 17), 'payout': 0.022299, 'trend': 'Consolidation'}\n",
      "{'id': 165, 'symbol': 'ME8U.SI', 'name': 'Mapletree Industrial Trust', 'exDate': datetime.date(2025, 2, 1), 'payout': 0.0336, 'trend': 'Consolidation'}\n",
      "{'id': 166, 'symbol': '5VS.SI', 'name': 'Hafary Holdings Limited', 'exDate': datetime.date(2025, 2, 15), 'payout': 0.0075, 'trend': 'Consolidation'}\n"
     ]
    },
    {
     "name": "stderr",
     "output_type": "stream",
     "text": [
      "$DEWW.SI: possibly delisted; no timezone found\n",
      "$FMXW.SI: possibly delisted; no timezone found\n",
      "$TRUW.SI: possibly delisted; no timezone found\n"
     ]
    },
    {
     "name": "stdout",
     "output_type": "stream",
     "text": [
      "{'id': 167, 'symbol': 'H30.SI', 'name': 'Hong Fok Corporation Limited', 'exDate': datetime.date(2025, 5, 10), 'payout': 0.01, 'trend': 'Consolidation'}\n"
     ]
    },
    {
     "name": "stderr",
     "output_type": "stream",
     "text": [
      "$TSGW.SI: possibly delisted; no timezone found\n"
     ]
    },
    {
     "name": "stdout",
     "output_type": "stream",
     "text": [
      "{'id': 168, 'symbol': 'QS0.SI', 'name': 'Principal FTSE ASEAN 40', 'exDate': datetime.date(2025, 4, 23), 'payout': 0.462876, 'trend': 'Consolidation'}\n",
      "{'id': 169, 'symbol': '1A1.SI', 'name': 'Wong Fong Industries Limited', 'exDate': datetime.date(2025, 5, 8), 'payout': 0.004, 'trend': 'Consolidation'}\n",
      "{'id': 170, 'symbol': 'P9D.SI', 'name': 'Civmec Limited', 'exDate': datetime.date(2025, 10, 14), 'payout': 0.035, 'trend': 'Consolidation'}\n"
     ]
    },
    {
     "name": "stderr",
     "output_type": "stream",
     "text": [
      "$XKJW.SI: possibly delisted; no timezone found\n"
     ]
    },
    {
     "name": "stdout",
     "output_type": "stream",
     "text": [
      "{'id': 171, 'symbol': 'BTP.SI', 'name': 'Baker Technology Limited', 'exDate': datetime.date(2025, 5, 7), 'payout': 0.015, 'trend': 'Consolidation'}\n"
     ]
    },
    {
     "name": "stderr",
     "output_type": "stream",
     "text": [
      "$VLSW.SI: possibly delisted; no timezone found\n"
     ]
    },
    {
     "name": "stdout",
     "output_type": "stream",
     "text": [
      "{'id': 172, 'symbol': '8AZ.SI', 'name': 'Aztech Global Ltd.', 'exDate': datetime.date(2025, 4, 22), 'payout': 0.05, 'trend': 'Bearish'}\n"
     ]
    },
    {
     "name": "stderr",
     "output_type": "stream",
     "text": [
      "$XHHW.SI: possibly delisted; no timezone found\n",
      "$GWGW.SI: possibly delisted; no timezone found\n",
      "$DXVW.SI: possibly delisted; no timezone found\n",
      "$CXBW.SI: possibly delisted; no timezone found\n",
      "$MOFB.SI: possibly delisted; no timezone found\n"
     ]
    },
    {
     "name": "stdout",
     "output_type": "stream",
     "text": [
      "{'id': 173, 'symbol': 'U06.SI', 'name': 'Singapore Land Group Limited', 'exDate': datetime.date(2025, 5, 3), 'payout': 0.04, 'trend': 'Bullish'}\n",
      "{'id': 174, 'symbol': 'P34.SI', 'name': 'Delfi Limited', 'exDate': datetime.date(2025, 5, 2), 'payout': 0.0069, 'trend': 'Bearish'}\n"
     ]
    },
    {
     "name": "stderr",
     "output_type": "stream",
     "text": [
      "$IPTW.SI: possibly delisted; no timezone found\n",
      "$SYBW.SI: possibly delisted; no timezone found\n",
      "$WBQW.SI: possibly delisted; no timezone found\n"
     ]
    },
    {
     "name": "stdout",
     "output_type": "stream",
     "text": [
      "{'id': 176, 'symbol': 'BWM.SI', 'name': 'Zheneng Jinjiang Environment Holding Company Limited', 'exDate': datetime.date(2025, 5, 9), 'payout': 0.013, 'trend': 'Consolidation'}\n",
      "{'id': 177, 'symbol': '5PC.SI', 'name': 'Goodland Group Limited', 'exDate': datetime.date(2025, 2, 2), 'payout': 0.0015, 'trend': 'Bearish'}\n",
      "{'id': 178, 'symbol': 'CWCU.SI', 'name': 'Stoneweg European Real Estate Investment Trust', 'exDate': datetime.date(2025, 3, 4), 'payout': 0.11487, 'trend': 'Consolidation'}\n",
      "{'id': 179, 'symbol': 'C9Q.SI', 'name': 'Sinostar PEC Holdings Limited', 'exDate': datetime.date(2025, 4, 30), 'payout': 0.005, 'trend': 'Bearish'}\n",
      "{'id': 180, 'symbol': 'S58.SI', 'name': 'SATS Ltd.', 'exDate': datetime.date(2025, 7, 24), 'payout': 0.015, 'trend': 'Consolidation'}\n",
      "{'id': 181, 'symbol': 'MXNU.SI', 'name': 'Elite UK REIT', 'exDate': datetime.date(2025, 2, 26), 'payout': 0.0133, 'trend': 'Bullish'}\n"
     ]
    },
    {
     "name": "stderr",
     "output_type": "stream",
     "text": [
      "$HKCW.SI: possibly delisted; no timezone found\n",
      "$HUTW.SI: possibly delisted; no timezone found\n",
      "$RDAW.SI: possibly delisted; no timezone found\n",
      "7QQS.SI: Period 'max' is invalid, must be of the format 1d, 5d, etc.\n"
     ]
    },
    {
     "name": "stdout",
     "output_type": "stream",
     "text": [
      "{'id': 182, 'symbol': 'Q0F.SI', 'name': 'IHH Healthcare Berhad', 'exDate': datetime.date(2025, 3, 26), 'payout': 0.055, 'trend': 'Bearish'}\n",
      "{'id': 183, 'symbol': 'U9E.SI', 'name': 'China Everbright Water Limited', 'exDate': datetime.date(2025, 5, 2), 'payout': 0.0099, 'trend': 'Bearish'}\n"
     ]
    },
    {
     "name": "stderr",
     "output_type": "stream",
     "text": [
      "$NQEW.SI: possibly delisted; no timezone found\n",
      "$RBBW.SI: possibly delisted; no timezone found\n",
      "$UKMW.SI: possibly delisted; no timezone found\n",
      "$DLZW.SI: possibly delisted; no timezone found\n",
      "$ERJW.SI: possibly delisted; no timezone found\n"
     ]
    },
    {
     "name": "stdout",
     "output_type": "stream",
     "text": [
      "{'id': 185, 'symbol': 'IX2.SI', 'name': 'PEC Ltd.', 'exDate': datetime.date(2025, 11, 8), 'payout': 0.015, 'trend': 'Consolidation'}\n"
     ]
    },
    {
     "name": "stderr",
     "output_type": "stream",
     "text": [
      "$DUWW.SI: possibly delisted; no timezone found\n",
      "$DQYW.SI: possibly delisted; no timezone found\n",
      "$EMJW.SI: possibly delisted; no timezone found\n",
      "$KNXW.SI: possibly delisted; no timezone found\n",
      "$X7IW.SI: possibly delisted; no timezone found\n"
     ]
    },
    {
     "name": "stdout",
     "output_type": "stream",
     "text": [
      "{'id': 186, 'symbol': 'T12.SI', 'name': 'Tat Seng Packaging Group Ltd', 'exDate': datetime.date(2025, 5, 9), 'payout': 0.02, 'trend': 'Consolidation'}\n"
     ]
    },
    {
     "name": "stderr",
     "output_type": "stream",
     "text": [
      "$QKPW.SI: possibly delisted; no timezone found\n",
      "$W9KW.SI: possibly delisted; no timezone found\n",
      "$JRTW.SI: possibly delisted; no timezone found\n",
      "$CZLW.SI: possibly delisted; no timezone found\n",
      "$TSXW.SI: possibly delisted; no timezone found\n"
     ]
    },
    {
     "name": "stdout",
     "output_type": "stream",
     "text": [
      "{'id': 188, 'symbol': '41B.SI', 'name': 'Huationg Global Limited', 'exDate': datetime.date(2025, 5, 7), 'payout': 0.005, 'trend': 'Bullish'}\n"
     ]
    },
    {
     "name": "stderr",
     "output_type": "stream",
     "text": [
      "$OYCW.SI: possibly delisted; no timezone found\n"
     ]
    },
    {
     "name": "stdout",
     "output_type": "stream",
     "text": [
      "{'id': 189, 'symbol': 'A55.SI', 'name': 'Asia Enterprises Holding Limited', 'exDate': datetime.date(2025, 5, 17), 'payout': 0.01, 'trend': 'Consolidation'}\n"
     ]
    },
    {
     "name": "stderr",
     "output_type": "stream",
     "text": [
      "$9J2W.SI: possibly delisted; no timezone found\n",
      "$R28W.SI: possibly delisted; no timezone found\n",
      "$8Y2W.SI: possibly delisted; no timezone found\n",
      "$CYGW.SI: possibly delisted; no timezone found\n",
      "VHHR.SI: Period 'max' is invalid, must be of the format 1d, 5d, etc.\n"
     ]
    },
    {
     "name": "stdout",
     "output_type": "stream",
     "text": [
      "{'id': 190, 'symbol': 'COI.SI', 'name': 'NikkoAM-StraitsTrading Asia ex Japan REIT ETF', 'exDate': datetime.date(2025, 4, 1), 'payout': 0.008504, 'trend': 'Consolidation'}\n"
     ]
    },
    {
     "name": "stderr",
     "output_type": "stream",
     "text": [
      "$TQQW.SI: possibly delisted; no timezone found\n",
      "PH1S.SI: Period 'max' is invalid, must be of the format 1d, 5d, etc.\n",
      "$DFRW.SI: possibly delisted; no timezone found\n"
     ]
    },
    {
     "name": "stdout",
     "output_type": "stream",
     "text": [
      "Error in changing expected ex date\n"
     ]
    },
    {
     "name": "stderr",
     "output_type": "stream",
     "text": [
      "$HOJW.SI: possibly delisted; no timezone found\n"
     ]
    },
    {
     "name": "stdout",
     "output_type": "stream",
     "text": [
      "{'id': 191, 'symbol': 'BQF.SI', 'name': 'XMH Holdings Ltd.', 'exDate': datetime.date(2025, 9, 9), 'payout': 0.0325, 'trend': 'Bearish'}\n"
     ]
    },
    {
     "name": "stderr",
     "output_type": "stream",
     "text": [
      "$VJLW.SI: possibly delisted; no timezone found\n",
      "$UORW.SI: possibly delisted; no timezone found\n",
      "$IKQW.SI: possibly delisted; no timezone found\n",
      "$CXXW.SI: possibly delisted; no timezone found\n",
      "$RQWW.SI: possibly delisted; no timezone found\n",
      "$CXPW.SI: possibly delisted; no timezone found\n"
     ]
    },
    {
     "name": "stdout",
     "output_type": "stream",
     "text": [
      "{'id': 192, 'symbol': '5LY.SI', 'name': 'Marco Polo Marine Ltd.', 'exDate': datetime.date(2025, 2, 16), 'payout': 0.001, 'trend': 'Consolidation'}\n"
     ]
    },
    {
     "name": "stderr",
     "output_type": "stream",
     "text": [
      "$KGIW.SI: possibly delisted; no timezone found\n"
     ]
    },
    {
     "name": "stdout",
     "output_type": "stream",
     "text": [
      "{'id': 193, 'symbol': 'ES3.SI', 'name': 'SPDR Straits Times Index ETF', 'exDate': datetime.date(2025, 2, 13), 'payout': 0.073, 'trend': 'Consolidation'}\n"
     ]
    },
    {
     "name": "stderr",
     "output_type": "stream",
     "text": [
      "$Y1CW.SI: possibly delisted; no timezone found\n",
      "$USYW.SI: possibly delisted; no timezone found\n"
     ]
    },
    {
     "name": "stdout",
     "output_type": "stream",
     "text": [
      "{'id': 194, 'symbol': 'A17U.SI', 'name': 'CapitaLand Ascendas REIT', 'exDate': datetime.date(2025, 2, 8), 'payout': 0.07441, 'trend': 'Consolidation'}\n",
      "{'id': 195, 'symbol': 'M04.SI', 'name': 'Mandarin Oriental International Limited', 'exDate': datetime.date(2025, 3, 21), 'payout': 0.035, 'trend': 'Consolidation'}\n",
      "{'id': 196, 'symbol': '5DS.SI', 'name': 'Megachem Limited', 'exDate': datetime.date(2025, 9, 6), 'payout': 0.005, 'trend': 'Consolidation'}\n"
     ]
    },
    {
     "name": "stderr",
     "output_type": "stream",
     "text": [
      "$EGCW.SI: possibly delisted; no timezone found\n",
      "$DKRW.SI: possibly delisted; no timezone found\n"
     ]
    },
    {
     "name": "stdout",
     "output_type": "stream",
     "text": [
      "{'id': 197, 'symbol': 'BHU.SI', 'name': 'SUTL Enterprise Limited', 'exDate': datetime.date(2025, 5, 27), 'payout': 0.05, 'trend': 'Consolidation'}\n",
      "{'id': 198, 'symbol': 'CWBU.SI', 'name': 'Stoneweg European Real Estate Investment Trust', 'exDate': datetime.date(2025, 3, 4), 'payout': 0.115339, 'trend': 'Consolidation'}\n"
     ]
    },
    {
     "name": "stderr",
     "output_type": "stream",
     "text": [
      "$NPEW.SI: possibly delisted; no timezone found\n",
      "$NCTW.SI: possibly delisted; no timezone found\n"
     ]
    },
    {
     "name": "stdout",
     "output_type": "stream",
     "text": [
      "{'id': 199, 'symbol': 'A52.SI', 'name': 'AnnAik Limited', 'exDate': datetime.date(2025, 5, 8), 'payout': 0.003, 'trend': 'Consolidation'}\n",
      "{'id': 200, 'symbol': 'AU8U.SI', 'name': 'CapitaLand China Trust', 'exDate': datetime.date(2025, 2, 6), 'payout': 0.03, 'trend': 'Consolidation'}\n"
     ]
    },
    {
     "name": "stderr",
     "output_type": "stream",
     "text": [
      "$ZS6W.SI: possibly delisted; no timezone found\n"
     ]
    },
    {
     "name": "stdout",
     "output_type": "stream",
     "text": [
      "{'id': 201, 'symbol': 'BQN.SI', 'name': 'BH Global Corporation Limited', 'exDate': datetime.date(2025, 5, 20), 'payout': 0.007, 'trend': 'Consolidation'}\n",
      "{'id': 202, 'symbol': 'C04.SI', 'name': 'Casa Holdings Limited', 'exDate': datetime.date(2025, 2, 2), 'payout': 0.003, 'trend': 'Consolidation'}\n",
      "{'id': 203, 'symbol': 'SK6U.SI', 'name': 'Paragon REIT', 'exDate': datetime.date(2025, 2, 13), 'payout': 0.026, 'trend': 'Consolidation'}\n"
     ]
    },
    {
     "name": "stderr",
     "output_type": "stream",
     "text": [
      "$VT2W.SI: possibly delisted; no timezone found\n",
      "$KGRW.SI: possibly delisted; no timezone found\n",
      "$QRCW.SI: possibly delisted; no timezone found\n",
      "$EHPW.SI: possibly delisted; no timezone found\n",
      "$FQPW.SI: possibly delisted; no timezone found\n",
      "$CZOW.SI: possibly delisted; no timezone found\n"
     ]
    },
    {
     "name": "stdout",
     "output_type": "stream",
     "text": [
      "{'id': 204, 'symbol': 'V7R.SI', 'name': 'Resources Global Development Limited', 'exDate': datetime.date(2025, 7, 10), 'payout': 0.007, 'trend': 'Consolidation'}\n"
     ]
    },
    {
     "name": "stderr",
     "output_type": "stream",
     "text": [
      "$VHGW.SI: possibly delisted; no timezone found\n",
      "$QDSW.SI: possibly delisted; no timezone found\n"
     ]
    },
    {
     "name": "stdout",
     "output_type": "stream",
     "text": [
      "{'id': 205, 'symbol': '5AU.SI', 'name': 'AP Oil International Limited', 'exDate': datetime.date(2025, 5, 7), 'payout': 0.005, 'trend': 'Consolidation'}\n",
      "{'id': 206, 'symbol': 'OAJ.SI', 'name': 'Fortress Minerals Limited', 'exDate': datetime.date(2025, 8, 6), 'payout': 0.006, 'trend': 'Consolidation'}\n"
     ]
    },
    {
     "name": "stderr",
     "output_type": "stream",
     "text": [
      "$HDRW.SI: possibly delisted; no timezone found\n",
      "$Y9SW.SI: possibly delisted; no timezone found\n",
      "$EQCW.SI: possibly delisted; no timezone found\n"
     ]
    },
    {
     "name": "stdout",
     "output_type": "stream",
     "text": [
      "{'id': 207, 'symbol': 'C2PU.SI', 'name': 'Parkway Life Real Estate Investment Trust', 'exDate': datetime.date(2025, 2, 8), 'payout': 0.0748, 'trend': 'Consolidation'}\n"
     ]
    },
    {
     "name": "stderr",
     "output_type": "stream",
     "text": [
      "$YZEW.SI: possibly delisted; no timezone found\n",
      "$VD6W.SI: possibly delisted; no timezone found\n",
      "$KHWW.SI: possibly delisted; no timezone found\n",
      "$IFAW.SI: possibly delisted; no timezone found\n"
     ]
    },
    {
     "name": "stdout",
     "output_type": "stream",
     "text": [
      "{'id': 208, 'symbol': 'BKX.SI', 'name': 'Yongmao Holdings Limited', 'exDate': datetime.date(2025, 8, 16), 'payout': 0.01, 'trend': 'Consolidation'}\n"
     ]
    },
    {
     "name": "stderr",
     "output_type": "stream",
     "text": [
      "$DKVW.SI: possibly delisted; no timezone found\n"
     ]
    },
    {
     "name": "stdout",
     "output_type": "stream",
     "text": [
      "{'id': 209, 'symbol': 'K3MD.SI', 'name': 'NetEase Inc', 'exDate': datetime.date(2025, 3, 13), 'payout': 1.07985, 'trend': 'Consolidation'}\n"
     ]
    },
    {
     "name": "stderr",
     "output_type": "stream",
     "text": [
      "$5CP.SI: possibly delisted; no timezone found\n"
     ]
    },
    {
     "name": "stdout",
     "output_type": "stream",
     "text": [
      "{'id': 210, 'symbol': 'TSH.SI', 'name': 'TSH Resources Berhad', 'exDate': datetime.date(2025, 4, 22), 'payout': 0.007112, 'trend': 'Bearish'}\n",
      "{'id': 211, 'symbol': '42R.SI', 'name': 'Jumbo Group Limited', 'exDate': datetime.date(2025, 1, 23), 'payout': 0.01, 'trend': 'Consolidation'}\n"
     ]
    },
    {
     "name": "stderr",
     "output_type": "stream",
     "text": [
      "$YL5W.SI: possibly delisted; no timezone found\n",
      "$XDLW.SI: possibly delisted; no timezone found\n"
     ]
    },
    {
     "name": "stdout",
     "output_type": "stream",
     "text": [
      "{'id': 212, 'symbol': 'S59.SI', 'name': 'SIA Engineering Company Limited', 'exDate': datetime.date(2025, 7, 25), 'payout': 0.06, 'trend': 'Consolidation'}\n"
     ]
    },
    {
     "name": "stderr",
     "output_type": "stream",
     "text": [
      "$JLJW.SI: possibly delisted; no timezone found\n"
     ]
    },
    {
     "name": "stdout",
     "output_type": "stream",
     "text": [
      "{'id': 213, 'symbol': '5PF.SI', 'name': 'Jason Marine Group Limited', 'exDate': datetime.date(2025, 8, 7), 'payout': 0.0025, 'trend': 'Consolidation'}\n",
      "{'id': 214, 'symbol': 'BLS.SI', 'name': 'Hotung Investment Holdings Limited', 'exDate': datetime.date(2025, 5, 23), 'payout': 0.10614, 'trend': 'Consolidation'}\n",
      "{'id': 215, 'symbol': 'C38U.SI', 'name': 'CapitaLand Integrated Commercial Trust', 'exDate': datetime.date(2025, 2, 14), 'payout': 0.054359, 'trend': 'Consolidation'}\n"
     ]
    },
    {
     "name": "stderr",
     "output_type": "stream",
     "text": [
      "$CUMW.SI: possibly delisted; no timezone found\n",
      "$DEPW.SI: possibly delisted; no timezone found\n"
     ]
    },
    {
     "name": "stdout",
     "output_type": "stream",
     "text": [
      "{'id': 216, 'symbol': 'BQM.SI', 'name': 'Tiong Woon Corporation Holding Ltd', 'exDate': datetime.date(2025, 11, 4), 'payout': 0.006, 'trend': 'Consolidation'}\n"
     ]
    },
    {
     "name": "stderr",
     "output_type": "stream",
     "text": [
      "$QNFW.SI: possibly delisted; no timezone found\n"
     ]
    },
    {
     "name": "stdout",
     "output_type": "stream",
     "text": [
      "{'id': 217, 'symbol': 'P52.SI', 'name': 'Pan-United Corporation Ltd', 'exDate': datetime.date(2025, 5, 8), 'payout': 0.018, 'trend': 'Bullish'}\n",
      "{'id': 218, 'symbol': '5CF.SI', 'name': 'OKP Holdings Limited', 'exDate': datetime.date(2025, 5, 9), 'payout': 0.008, 'trend': 'Consolidation'}\n"
     ]
    },
    {
     "name": "stderr",
     "output_type": "stream",
     "text": [
      "$9QEW.SI: possibly delisted; no timezone found\n"
     ]
    },
    {
     "name": "stdout",
     "output_type": "stream",
     "text": [
      "{'id': 219, 'symbol': 'H22.SI', 'name': 'Hong Leong Asia Ltd.', 'exDate': datetime.date(2025, 5, 3), 'payout': 0.02, 'trend': 'Consolidation'}\n"
     ]
    },
    {
     "name": "stderr",
     "output_type": "stream",
     "text": [
      "$IHHW.SI: possibly delisted; no timezone found\n"
     ]
    },
    {
     "name": "stdout",
     "output_type": "stream",
     "text": [
      "{'id': 220, 'symbol': 'N5YD.SI', 'name': 'Mitsubishi UFJ Financial Group Inc', 'exDate': datetime.date(2025, 3, 27), 'payout': 0.127169, 'trend': 'Consolidation'}\n"
     ]
    },
    {
     "name": "stderr",
     "output_type": "stream",
     "text": [
      "$KUSW.SI: possibly delisted; no timezone found\n",
      "$HIEW.SI: possibly delisted; no timezone found\n",
      "$DPTW.SI: possibly delisted; no timezone found\n"
     ]
    },
    {
     "name": "stdout",
     "output_type": "stream",
     "text": [
      "{'id': 221, 'symbol': 'ESG.SI', 'name': 'Lion-OCBC Securities Singapore Low Carbon ETF', 'exDate': datetime.date(2025, 7, 1), 'payout': 0.02, 'trend': 'Consolidation'}\n"
     ]
    },
    {
     "name": "stderr",
     "output_type": "stream",
     "text": [
      "$ULNW.SI: possibly delisted; no timezone found\n"
     ]
    },
    {
     "name": "stdout",
     "output_type": "stream",
     "text": [
      "{'id': 222, 'symbol': 'O10.SI', 'name': 'Far East Orchard Limited', 'exDate': datetime.date(2025, 5, 16), 'payout': 0.04, 'trend': 'Consolidation'}\n"
     ]
    },
    {
     "name": "stderr",
     "output_type": "stream",
     "text": [
      "$GPSW.SI: possibly delisted; no timezone found\n",
      "$UYEW.SI: possibly delisted; no timezone found\n"
     ]
    },
    {
     "name": "stdout",
     "output_type": "stream",
     "text": [
      "{'id': 223, 'symbol': 'RQ1.SI', 'name': 'Overseas Education Limited', 'exDate': datetime.date(2025, 4, 30), 'payout': 0.013, 'trend': 'Consolidation'}\n"
     ]
    },
    {
     "name": "stderr",
     "output_type": "stream",
     "text": [
      "$DWGW.SI: possibly delisted; no timezone found\n"
     ]
    },
    {
     "name": "stdout",
     "output_type": "stream",
     "text": [
      "{'id': 224, 'symbol': 'BYJ.SI', 'name': 'Phillip SGX APAC Dividend Leaders REIT ETF', 'exDate': datetime.date(2025, 7, 10), 'payout': 0.016188, 'trend': 'Bearish'}\n"
     ]
    },
    {
     "name": "stderr",
     "output_type": "stream",
     "text": [
      "$TCCW.SI: possibly delisted; no timezone found\n",
      "$USWW.SI: possibly delisted; no timezone found\n",
      "$CVMW.SI: possibly delisted; no timezone found\n",
      "$IIIW.SI: possibly delisted; no timezone found\n"
     ]
    },
    {
     "name": "stdout",
     "output_type": "stream",
     "text": [
      "{'id': 225, 'symbol': 'HSHD.SI', 'name': 'HSBC Holdings plc', 'exDate': datetime.date(2025, 11, 7), 'payout': 0.026414, 'trend': 'Bullish'}\n"
     ]
    },
    {
     "name": "stderr",
     "output_type": "stream",
     "text": [
      "$DIGW.SI: possibly delisted; no timezone found\n",
      "$9UGW.SI: possibly delisted; no timezone found\n",
      "BJIS.SI: Period 'max' is invalid, must be of the format 1d, 5d, etc.\n",
      "$UDOW.SI: possibly delisted; no timezone found\n",
      "$QARW.SI: possibly delisted; no timezone found\n"
     ]
    },
    {
     "name": "stdout",
     "output_type": "stream",
     "text": [
      "{'id': 226, 'symbol': 'F03.SI', 'name': 'Food Empire Holdings Limited', 'exDate': datetime.date(2025, 5, 3), 'payout': 0.05, 'trend': 'Bullish'}\n"
     ]
    },
    {
     "name": "stderr",
     "output_type": "stream",
     "text": [
      "$DZSW.SI: possibly delisted; no timezone found\n"
     ]
    },
    {
     "name": "stdout",
     "output_type": "stream",
     "text": [
      "{'id': 227, 'symbol': '5WJ.SI', 'name': 'MoneyMax Financial Services Ltd.', 'exDate': datetime.date(2025, 5, 14), 'payout': 0.01, 'trend': 'Consolidation'}\n",
      "{'id': 228, 'symbol': '42L.SI', 'name': 'Taka Jewellery Holdings Limited', 'exDate': datetime.date(2025, 11, 1), 'payout': 0.00179, 'trend': 'Bearish'}\n"
     ]
    },
    {
     "name": "stderr",
     "output_type": "stream",
     "text": [
      "$CUJW.SI: possibly delisted; no timezone found\n"
     ]
    },
    {
     "name": "stdout",
     "output_type": "stream",
     "text": [
      "{'id': 229, 'symbol': 'BTM.SI', 'name': 'Penguin International Limited', 'exDate': datetime.date(2025, 5, 6), 'payout': 0.0342, 'trend': 'Consolidation'}\n"
     ]
    },
    {
     "name": "stderr",
     "output_type": "stream",
     "text": [
      "$X1TW.SI: possibly delisted; no timezone found\n"
     ]
    },
    {
     "name": "stdout",
     "output_type": "stream",
     "text": [
      "{'id': 230, 'symbol': 'U13.SI', 'name': 'United Overseas Insurance Limited', 'exDate': datetime.date(2025, 5, 2), 'payout': 0.085, 'trend': 'Consolidation'}\n",
      "{'id': 231, 'symbol': '5UF.SI', 'name': 'Aspial Lifestyle Limited', 'exDate': datetime.date(2025, 5, 6), 'payout': 0.0038, 'trend': 'Consolidation'}\n"
     ]
    },
    {
     "name": "stderr",
     "output_type": "stream",
     "text": [
      "$DDSW.SI: possibly delisted; no timezone found\n",
      "$CXLW.SI: possibly delisted; no timezone found\n",
      "$DRVW.SI: possibly delisted; no timezone found\n"
     ]
    },
    {
     "name": "stdout",
     "output_type": "stream",
     "text": [
      "{'id': 232, 'symbol': 'K6S.SI', 'name': 'Prudential plc', 'exDate': datetime.date(2025, 4, 1), 'payout': 0.113423, 'trend': 'Consolidation'}\n"
     ]
    },
    {
     "name": "stderr",
     "output_type": "stream",
     "text": [
      "$W7WW.SI: possibly delisted; no timezone found\n",
      "$SPXW.SI: possibly delisted; no timezone found\n"
     ]
    },
    {
     "name": "stdout",
     "output_type": "stream",
     "text": [
      "{'id': 233, 'symbol': '5G3.SI', 'name': 'TalkMed Group Limited', 'exDate': datetime.date(2025, 4, 30), 'payout': 0.013, 'trend': 'Consolidation'}\n"
     ]
    },
    {
     "name": "stderr",
     "output_type": "stream",
     "text": [
      "$WGFW.SI: possibly delisted; no timezone found\n"
     ]
    },
    {
     "name": "stdout",
     "output_type": "stream",
     "text": [
      "{'id': 234, 'symbol': 'S20.SI', 'name': 'The Straits Trading Company Limited', 'exDate': datetime.date(2025, 5, 9), 'payout': 0.08, 'trend': 'Consolidation'}\n"
     ]
    },
    {
     "name": "stderr",
     "output_type": "stream",
     "text": [
      "$DKZW.SI: possibly delisted; no timezone found\n",
      "$WJBW.SI: possibly delisted; no timezone found\n"
     ]
    },
    {
     "name": "stdout",
     "output_type": "stream",
     "text": [
      "{'id': 235, 'symbol': 'K71U.SI', 'name': 'Keppel REIT', 'exDate': datetime.date(2025, 2, 6), 'payout': 0.029, 'trend': 'Consolidation'}\n"
     ]
    },
    {
     "name": "stderr",
     "output_type": "stream",
     "text": [
      "$V6QW.SI: possibly delisted; no timezone found\n",
      "$ISTW.SI: possibly delisted; no timezone found\n"
     ]
    },
    {
     "name": "stdout",
     "output_type": "stream",
     "text": [
      "{'id': 236, 'symbol': 'CFA.SI', 'name': 'NikkoAM-StraitsTrading Asia ex Japan REIT ETF', 'exDate': datetime.date(2025, 4, 1), 'payout': 0.0115, 'trend': 'Consolidation'}\n",
      "{'id': 237, 'symbol': 'A26.SI', 'name': 'Sinarmas Land Limited', 'exDate': datetime.date(2025, 9, 19), 'payout': 0.0008, 'trend': 'Bearish'}\n"
     ]
    },
    {
     "name": "stderr",
     "output_type": "stream",
     "text": [
      "$QGGW.SI: possibly delisted; no timezone found\n"
     ]
    },
    {
     "name": "stdout",
     "output_type": "stream",
     "text": [
      "{'id': 238, 'symbol': 'A7RU.SI', 'name': 'Keppel Infrastructure Trust', 'exDate': datetime.date(2025, 2, 6), 'payout': 0.0096, 'trend': 'Consolidation'}\n"
     ]
    },
    {
     "name": "stderr",
     "output_type": "stream",
     "text": [
      "$SNVW.SI: possibly delisted; no timezone found\n",
      "$Q53W.SI: possibly delisted; no timezone found\n"
     ]
    },
    {
     "name": "stdout",
     "output_type": "stream",
     "text": [
      "{'id': 239, 'symbol': 'B73.SI', 'name': 'Global Investments Limited', 'exDate': datetime.date(2025, 5, 9), 'payout': 0.004, 'trend': 'Bullish'}\n"
     ]
    },
    {
     "name": "stderr",
     "output_type": "stream",
     "text": [
      "$DQXW.SI: possibly delisted; no timezone found\n",
      "$5XFW.SI: possibly delisted; no timezone found\n",
      "$KZYW.SI: possibly delisted; no timezone found\n",
      "$ZL8S.SI: possibly delisted; no timezone found\n",
      "$HURW.SI: possibly delisted; no timezone found\n",
      "$8R7W.SI: possibly delisted; no timezone found\n"
     ]
    },
    {
     "name": "stdout",
     "output_type": "stream",
     "text": [
      "{'id': 240, 'symbol': 'XJB.SI', 'name': 'G.H.Y Culture & Media Holding Co., Limited', 'exDate': datetime.date(2025, 5, 9), 'payout': 0.001, 'trend': 'Bullish'}\n"
     ]
    },
    {
     "name": "stderr",
     "output_type": "stream",
     "text": [
      "$YIQW.SI: possibly delisted; no timezone found\n",
      "$CWMW.SI: possibly delisted; no timezone found\n"
     ]
    },
    {
     "name": "stdout",
     "output_type": "stream",
     "text": [
      "{'id': 241, 'symbol': 'URR.SI', 'name': 'Sim Leisure Group Ltd.', 'exDate': datetime.date(2025, 5, 2), 'payout': 0.008544, 'trend': 'Bearish'}\n"
     ]
    },
    {
     "name": "stderr",
     "output_type": "stream",
     "text": [
      "$UCZW.SI: possibly delisted; no timezone found\n",
      "$HCLW.SI: possibly delisted; no timezone found\n"
     ]
    },
    {
     "name": "stdout",
     "output_type": "stream",
     "text": [
      "{'id': 242, 'symbol': 'AJBU.SI', 'name': 'Keppel DC REIT', 'exDate': datetime.date(2025, 2, 2), 'payout': 0.042816, 'trend': 'Consolidation'}\n"
     ]
    },
    {
     "name": "stderr",
     "output_type": "stream",
     "text": [
      "$MYLB.SI: possibly delisted; no timezone found\n",
      "$CWUW.SI: possibly delisted; no timezone found\n",
      "$Y1WW.SI: possibly delisted; no timezone found\n",
      "$9ZYW.SI: possibly delisted; no timezone found\n"
     ]
    },
    {
     "name": "stdout",
     "output_type": "stream",
     "text": [
      "{'id': 243, 'symbol': 'OXMU.SI', 'name': 'Prime US REIT', 'exDate': datetime.date(2025, 3, 1), 'payout': 0.003351, 'trend': 'Consolidation'}\n"
     ]
    },
    {
     "name": "stderr",
     "output_type": "stream",
     "text": [
      "$DSRW.SI: possibly delisted; no timezone found\n"
     ]
    },
    {
     "name": "stdout",
     "output_type": "stream",
     "text": [
      "{'id': 244, 'symbol': 'TCU.SI', 'name': 'Credit Bureau Asia Limited', 'exDate': datetime.date(2025, 5, 2), 'payout': 0.02, 'trend': 'Consolidation'}\n"
     ]
    },
    {
     "name": "stderr",
     "output_type": "stream",
     "text": [
      "$DCVW.SI: possibly delisted; no timezone found\n",
      "$54MW.SI: possibly delisted; no timezone found\n",
      "CDVZ.SI: Period 'max' is invalid, must be of the format 1d, 5d, etc.\n",
      "$HLJW.SI: possibly delisted; no timezone found\n",
      "$5D8W.SI: possibly delisted; no timezone found\n",
      "$DPNW.SI: possibly delisted; no timezone found\n",
      "$1M8W.SI: possibly delisted; no timezone found\n",
      "$YUEW.SI: possibly delisted; no timezone found\n",
      "$JVKW.SI: possibly delisted; no timezone found\n",
      "$JLDW.SI: possibly delisted; no timezone found\n",
      "$LBPW.SI: possibly delisted; no timezone found\n"
     ]
    },
    {
     "name": "stdout",
     "output_type": "stream",
     "text": [
      "{'id': 245, 'symbol': 'D01.SI', 'name': 'DFI Retail Group Holdings Limited', 'exDate': datetime.date(2025, 3, 21), 'payout': 0.05, 'trend': 'Bearish'}\n",
      "{'id': 246, 'symbol': 'BPF.SI', 'name': 'YHI International Limited', 'exDate': datetime.date(2025, 5, 7), 'payout': 0.0315, 'trend': 'Consolidation'}\n"
     ]
    },
    {
     "name": "stderr",
     "output_type": "stream",
     "text": [
      "$DJSW.SI: possibly delisted; no timezone found\n"
     ]
    },
    {
     "name": "stdout",
     "output_type": "stream",
     "text": [
      "{'id': 247, 'symbol': 'CLR.SI', 'name': 'Lion-Phillip S-REIT ETF', 'exDate': datetime.date(2025, 1, 30), 'payout': 0.0215, 'trend': 'Consolidation'}\n"
     ]
    },
    {
     "name": "stderr",
     "output_type": "stream",
     "text": [
      "$RAYW.SI: possibly delisted; no timezone found\n"
     ]
    },
    {
     "name": "stdout",
     "output_type": "stream",
     "text": [
      "{'id': 248, 'symbol': 'NS8U.SI', 'name': 'Hutchison Port Holdings Trust', 'exDate': datetime.date(2025, 2, 15), 'payout': 0.013143, 'trend': 'Bearish'}\n"
     ]
    },
    {
     "name": "stderr",
     "output_type": "stream",
     "text": [
      "$9W8B.SI: possibly delisted; no timezone found\n"
     ]
    },
    {
     "name": "stdout",
     "output_type": "stream",
     "text": [
      "{'id': 249, 'symbol': 'U96.SI', 'name': 'Sembcorp Industries Ltd', 'exDate': datetime.date(2025, 4, 29), 'payout': 0.08, 'trend': 'Consolidation'}\n"
     ]
    },
    {
     "name": "stderr",
     "output_type": "stream",
     "text": [
      "$GOYW.SI: possibly delisted; no timezone found\n"
     ]
    },
    {
     "name": "stdout",
     "output_type": "stream",
     "text": [
      "{'id': 250, 'symbol': 'A34.SI', 'name': 'Amara Holdings Limited', 'exDate': datetime.date(2025, 6, 5), 'payout': 0.005, 'trend': 'Consolidation'}\n",
      "{'id': 251, 'symbol': 'EHG.SI', 'name': 'Econ Healthcare (Asia) Limited', 'exDate': datetime.date(2025, 8, 16), 'payout': 0.0063, 'trend': 'Bullish'}\n",
      "{'id': 252, 'symbol': 'S68.SI', 'name': 'Singapore Exchange Limited', 'exDate': datetime.date(2025, 2, 9), 'payout': 0.085, 'trend': 'Bearish'}\n",
      "{'id': 253, 'symbol': 'DM0.SI', 'name': 'PSC Corporation Ltd.', 'exDate': datetime.date(2025, 6, 6), 'payout': 0.005, 'trend': 'Consolidation'}\n"
     ]
    },
    {
     "name": "stderr",
     "output_type": "stream",
     "text": [
      "$PMGW.SI: possibly delisted; no timezone found\n",
      "$HYNW.SI: possibly delisted; no timezone found\n",
      "$Z1AB.SI: possibly delisted; no timezone found\n",
      "$DJZW.SI: possibly delisted; no timezone found\n",
      "$SRHW.SI: possibly delisted; no timezone found\n"
     ]
    },
    {
     "name": "stdout",
     "output_type": "stream",
     "text": [
      "{'id': 254, 'symbol': 'S29.SI', 'name': 'Stamford Tyres Corporation Limited', 'exDate': datetime.date(2025, 9, 12), 'payout': 0.005, 'trend': 'Bearish'}\n"
     ]
    },
    {
     "name": "stderr",
     "output_type": "stream",
     "text": [
      "$CVIW.SI: possibly delisted; no timezone found\n"
     ]
    },
    {
     "name": "stdout",
     "output_type": "stream",
     "text": [
      "{'id': 255, 'symbol': 'MF6.SI', 'name': 'Mun Siong Engineering Limited', 'exDate': datetime.date(2025, 5, 13), 'payout': 0.0004, 'trend': 'Bullish'}\n",
      "{'id': 256, 'symbol': 'ER0.SI', 'name': 'KSH Holdings Limited', 'exDate': datetime.date(2025, 8, 23), 'payout': 0.005, 'trend': 'Bullish'}\n",
      "{'id': 257, 'symbol': 'QL2.SI', 'name': 'iShares J.P. Morgan USD Asia Credit Bond Index ETF', 'exDate': datetime.date(2025, 3, 1), 'payout': 0.148005, 'trend': 'Consolidation'}\n"
     ]
    },
    {
     "name": "stderr",
     "output_type": "stream",
     "text": [
      "$DIMW.SI: possibly delisted; no timezone found\n",
      "$V5TW.SI: possibly delisted; no timezone found\n",
      "$W4UW.SI: possibly delisted; no timezone found\n",
      "$ISPW.SI: possibly delisted; no timezone found\n",
      "$PYDW.SI: possibly delisted; no timezone found\n",
      "$SGMW.SI: possibly delisted; no timezone found\n",
      "$XMDW.SI: possibly delisted; no timezone found\n",
      "$52PW.SI: possibly delisted; no timezone found\n",
      "$FGIW.SI: possibly delisted; no timezone found\n",
      "$SSKW.SI: possibly delisted; no timezone found\n"
     ]
    },
    {
     "name": "stdout",
     "output_type": "stream",
     "text": [
      "{'id': 258, 'symbol': 'J91U.SI', 'name': 'ESR-REIT', 'exDate': datetime.date(2025, 2, 8), 'payout': 0.01186, 'trend': 'Consolidation'}\n"
     ]
    },
    {
     "name": "stderr",
     "output_type": "stream",
     "text": [
      "$Z2AB.SI: possibly delisted; no timezone found\n",
      "$WQBW.SI: possibly delisted; no timezone found\n",
      "$USQW.SI: possibly delisted; no timezone found\n"
     ]
    },
    {
     "name": "stdout",
     "output_type": "stream",
     "text": [
      "{'id': 259, 'symbol': 'H18.SI', 'name': 'Hotel Grand Central Limited', 'exDate': datetime.date(2025, 5, 14), 'payout': 0.02, 'trend': 'Consolidation'}\n"
     ]
    },
    {
     "name": "stderr",
     "output_type": "stream",
     "text": [
      "$9NDW.SI: possibly delisted; no timezone found\n",
      "$5ZJW.SI: possibly delisted; no timezone found\n"
     ]
    },
    {
     "name": "stdout",
     "output_type": "stream",
     "text": [
      "{'id': 260, 'symbol': 'C09.SI', 'name': 'City Developments Limited', 'exDate': datetime.date(2025, 5, 3), 'payout': 0.08, 'trend': 'Bearish'}\n",
      "{'id': 261, 'symbol': 'BUOU.SI', 'name': 'Frasers Logistics & Commercial Trust', 'exDate': datetime.date(2025, 5, 14), 'payout': 0.0348, 'trend': 'Consolidation'}\n",
      "{'id': 262, 'symbol': 'SRU.SI', 'name': 'CSOP iEdge S-REIT Leaders Index ETF', 'exDate': datetime.date(2025, 7, 19), 'payout': 0.016361, 'trend': 'Bearish'}\n"
     ]
    },
    {
     "name": "stderr",
     "output_type": "stream",
     "text": [
      "$8W1W.SI: possibly delisted; no timezone found\n"
     ]
    },
    {
     "name": "stdout",
     "output_type": "stream",
     "text": [
      "{'id': 263, 'symbol': 'A35.SI', 'name': 'ABF Singapore Bond Index Fd', 'exDate': datetime.date(2025, 7, 1), 'payout': 0.0124, 'trend': 'Consolidation'}\n",
      "{'id': 264, 'symbol': 'ZKX.SI', 'name': 'Ever Glory United Holdings Limited', 'exDate': datetime.date(2025, 6, 13), 'payout': 0.01, 'trend': 'Consolidation'}\n"
     ]
    },
    {
     "name": "stderr",
     "output_type": "stream",
     "text": [
      "$FRGW.SI: possibly delisted; no timezone found\n",
      "$USPW.SI: possibly delisted; no timezone found\n",
      "$PPPW.SI: possibly delisted; no timezone found\n"
     ]
    },
    {
     "name": "stdout",
     "output_type": "stream",
     "text": [
      "{'id': 265, 'symbol': 'F34.SI', 'name': 'Wilmar International Limited', 'exDate': datetime.date(2025, 4, 29), 'payout': 0.11, 'trend': 'Consolidation'}\n",
      "{'id': 266, 'symbol': '5JS.SI', 'name': 'Indofood Agri Resources Ltd.', 'exDate': datetime.date(2025, 5, 9), 'payout': 0.008, 'trend': 'Consolidation'}\n",
      "{'id': 267, 'symbol': '9CI.SI', 'name': 'CapitaLand Investment Limited', 'exDate': datetime.date(2025, 5, 2), 'payout': 0.12, 'trend': 'Bearish'}\n"
     ]
    },
    {
     "name": "stderr",
     "output_type": "stream",
     "text": [
      "$9VHW.SI: possibly delisted; no timezone found\n",
      "$DFWW.SI: possibly delisted; no timezone found\n",
      "$EHUW.SI: possibly delisted; no timezone found\n",
      "$CVYW.SI: possibly delisted; no timezone found\n",
      "$NMCW.SI: possibly delisted; no timezone found\n"
     ]
    },
    {
     "name": "stdout",
     "output_type": "stream",
     "text": [
      "{'id': 268, 'symbol': 'P5P.SI', 'name': 'Principal S&P Ethical Asia Pacific Dividend ETF', 'exDate': datetime.date(2025, 11, 4), 'payout': 0.04, 'trend': 'Consolidation'}\n",
      "{'id': 269, 'symbol': '500.SI', 'name': 'Tai Sin Electric Limited', 'exDate': datetime.date(2025, 3, 4), 'payout': 0.0075, 'trend': 'Consolidation'}\n",
      "{'id': 270, 'symbol': 'TPED.SI', 'name': 'PTT Exploration & Production PCL', 'exDate': datetime.date(2025, 2, 19), 'payout': 0.194936, 'trend': 'Consolidation'}\n",
      "{'id': 271, 'symbol': '5DP.SI', 'name': 'Heeton Holdings Limited', 'exDate': datetime.date(2025, 5, 13), 'payout': 0.00375, 'trend': 'Consolidation'}\n"
     ]
    },
    {
     "name": "stderr",
     "output_type": "stream",
     "text": [
      "$CZEW.SI: possibly delisted; no timezone found\n",
      "$SHWW.SI: possibly delisted; no timezone found\n"
     ]
    },
    {
     "name": "stdout",
     "output_type": "stream",
     "text": [
      "{'id': 272, 'symbol': 'Y92.SI', 'name': 'Thai Beverage Public Company Limited', 'exDate': datetime.date(2025, 2, 6), 'payout': 0.01689, 'trend': 'Bearish'}\n"
     ]
    },
    {
     "name": "stderr",
     "output_type": "stream",
     "text": [
      "$KQTW.SI: possibly delisted; no timezone found\n"
     ]
    },
    {
     "name": "stdout",
     "output_type": "stream",
     "text": [
      "{'id': 273, 'symbol': '5OI.SI', 'name': 'Japan Foods Holding Ltd.', 'exDate': datetime.date(2025, 7, 30), 'payout': 0.002, 'trend': 'Consolidation'}\n"
     ]
    },
    {
     "name": "stderr",
     "output_type": "stream",
     "text": [
      "$CYAW.SI: possibly delisted; no timezone found\n",
      "$CXGW.SI: possibly delisted; no timezone found\n"
     ]
    },
    {
     "name": "stdout",
     "output_type": "stream",
     "text": [
      "{'id': 274, 'symbol': 'BFT.SI', 'name': 'Lincotrade & Associates Holdings Limited', 'exDate': datetime.date(2025, 2, 21), 'payout': 0.0038, 'trend': 'Bearish'}\n"
     ]
    },
    {
     "name": "stderr",
     "output_type": "stream",
     "text": [
      "$V7AB.SI: possibly delisted; no timezone found\n"
     ]
    },
    {
     "name": "stdout",
     "output_type": "stream",
     "text": [
      "{'id': 275, 'symbol': 'F1E.SI', 'name': 'Low Keng Huat (Singapore) Limited', 'exDate': datetime.date(2025, 6, 7), 'payout': 0.015, 'trend': 'Consolidation'}\n",
      "{'id': 276, 'symbol': 'C41.SI', 'name': 'Cortina Holdings Limited', 'exDate': datetime.date(2025, 8, 6), 'payout': 0.02, 'trend': 'Bearish'}\n",
      "{'id': 277, 'symbol': 'EB5.SI', 'name': 'First Resources Limited', 'exDate': datetime.date(2025, 5, 8), 'payout': 0.037, 'trend': 'Consolidation'}\n",
      "{'id': 278, 'symbol': 'M14.SI', 'name': 'InnoTek Limited', 'exDate': datetime.date(2025, 5, 8), 'payout': 0.02, 'trend': 'Bearish'}\n"
     ]
    },
    {
     "name": "stderr",
     "output_type": "stream",
     "text": [
      "$8W3W.SI: possibly delisted; no timezone found\n"
     ]
    },
    {
     "name": "stdout",
     "output_type": "stream",
     "text": [
      "{'id': 279, 'symbol': '5DD.SI', 'name': 'Micro-Mechanics (Holdings) Ltd.', 'exDate': datetime.date(2025, 2, 5), 'payout': 0.03, 'trend': 'Consolidation'}\n"
     ]
    },
    {
     "name": "stderr",
     "output_type": "stream",
     "text": [
      "$DWOW.SI: possibly delisted; no timezone found\n"
     ]
    },
    {
     "name": "stdout",
     "output_type": "stream",
     "text": [
      "{'id': 280, 'symbol': 'BEC.SI', 'name': 'BRC Asia Limited', 'exDate': datetime.date(2025, 5, 2), 'payout': 0.055, 'trend': 'Bullish'}\n",
      "{'id': 281, 'symbol': 'CC3.SI', 'name': 'StarHub Ltd', 'exDate': datetime.date(2025, 4, 29), 'payout': 0.042, 'trend': 'Consolidation'}\n"
     ]
    },
    {
     "name": "stderr",
     "output_type": "stream",
     "text": [
      "$DRJW.SI: possibly delisted; no timezone found\n",
      "$HAOW.SI: possibly delisted; no timezone found\n"
     ]
    },
    {
     "name": "stdout",
     "output_type": "stream",
     "text": [
      "{'id': 282, 'symbol': 'DRX.SI', 'name': 'ST Group Food Industries Holdings Limited', 'exDate': datetime.date(2025, 2, 16), 'payout': 0.00351, 'trend': 'Consolidation'}\n",
      "Error in changing expected ex date\n",
      "{'id': 283, 'symbol': '543.SI', 'name': 'Noel Gifts International Ltd', 'exDate': datetime.date(2025, 11, 4), 'payout': 0.026, 'trend': 'Bearish'}\n",
      "{'id': 284, 'symbol': 'i06.SI', 'name': 'Intraco Limited', 'exDate': datetime.date(2025, 5, 2), 'payout': 0.005, 'trend': 'Consolidation'}\n"
     ]
    },
    {
     "name": "stderr",
     "output_type": "stream",
     "text": [
      "$MZAW.SI: possibly delisted; no timezone found\n"
     ]
    },
    {
     "name": "stdout",
     "output_type": "stream",
     "text": [
      "{'id': 285, 'symbol': 'J36.SI', 'name': 'Jardine Matheson Holdings Limited', 'exDate': datetime.date(2025, 3, 21), 'payout': 1.65, 'trend': 'Consolidation'}\n",
      "{'id': 286, 'symbol': 'AWC.SI', 'name': 'Brook Crompton Holdings Ltd.', 'exDate': datetime.date(2025, 5, 10), 'payout': 0.02, 'trend': 'Consolidation'}\n",
      "{'id': 287, 'symbol': '1F2.SI', 'name': 'Union Gas Holdings Limited', 'exDate': datetime.date(2025, 6, 13), 'payout': 0.0088, 'trend': 'Bearish'}\n",
      "[{'id': 1, 'symbol': 'Q01.SI', 'name': 'QAF Limited', 'exDate': datetime.date(2025, 5, 2), 'payout': 0.04, 'trend': 'Consolidation'}, {'id': 2, 'symbol': 'B49.SI', 'name': 'World Precision Machinery Limited', 'exDate': datetime.date(2025, 5, 20), 'payout': 0.0689, 'trend': 'Consolidation'}, {'id': 3, 'symbol': 'HQU.SI', 'name': 'Oiltek International Limited', 'exDate': datetime.date(2025, 5, 6), 'payout': 0.016, 'trend': 'Bullish'}, {'id': 4, 'symbol': 'N02.SI', 'name': 'NSL Ltd', 'exDate': datetime.date(2025, 5, 16), 'payout': 0.02, 'trend': 'Consolidation'}, {'id': 5, 'symbol': 'SRT.SI', 'name': 'CSOP iEdge S-REIT Leaders Index ETF', 'exDate': datetime.date(2025, 7, 19), 'payout': 0.022, 'trend': 'Bearish'}, {'id': 6, 'symbol': 'RE4.SI', 'name': 'Geo Energy Resources Limited', 'exDate': datetime.date(2025, 5, 9), 'payout': 0.006, 'trend': 'Bearish'}, {'id': 7, 'symbol': 'MZH.SI', 'name': 'Nanofilm Technologies International Limited', 'exDate': datetime.date(2025, 5, 8), 'payout': 0.0033, 'trend': 'Consolidation'}, {'id': 8, 'symbol': 'NEX.SI', 'name': 'Reclaims Global Limited', 'exDate': datetime.date(2025, 6, 7), 'payout': 0.002, 'trend': 'Consolidation'}, {'id': 9, 'symbol': 'Z74.SI', 'name': 'Singapore Telecommunications Limited', 'exDate': datetime.date(2025, 11, 20), 'payout': 0.056, 'trend': 'Consolidation'}, {'id': 10, 'symbol': 'M44U.SI', 'name': 'Mapletree Logistics Trust', 'exDate': datetime.date(2025, 1, 31), 'payout': 0.02253, 'trend': 'Consolidation'}, {'id': 11, 'symbol': 'BXE.SI', 'name': 'CDW Holding Limited', 'exDate': datetime.date(2025, 5, 8), 'payout': 0.009409, 'trend': 'Consolidation'}, {'id': 12, 'symbol': 'S63.SI', 'name': 'Singapore Technologies Engineering Ltd', 'exDate': datetime.date(2025, 4, 30), 'payout': 0.04, 'trend': 'Consolidation'}, {'id': 13, 'symbol': 'GRE.SI', 'name': 'UOB APAC Green REIT ETF SGD', 'exDate': datetime.date(2025, 3, 22), 'payout': 0.01064, 'trend': 'Bearish'}, {'id': 14, 'symbol': 'M01.SI', 'name': 'Metro Holdings Limited', 'exDate': datetime.date(2025, 8, 2), 'payout': 0.02, 'trend': 'Consolidation'}, {'id': 15, 'symbol': 'F17.SI', 'name': 'GuocoLand Limited', 'exDate': datetime.date(2025, 11, 5), 'payout': 0.06, 'trend': 'Consolidation'}, {'id': 16, 'symbol': 'SJY.SI', 'name': 'MeGroup Ltd.', 'exDate': datetime.date(2025, 6, 6), 'payout': 0.00115, 'trend': 'Consolidation'}, {'id': 17, 'symbol': 'BIX.SI', 'name': 'Ellipsiz Ltd', 'exDate': datetime.date(2025, 11, 5), 'payout': 0.01, 'trend': 'Consolidation'}, {'id': 18, 'symbol': 'CY6U.SI', 'name': 'CapitaLand India Trust', 'exDate': datetime.date(2025, 2, 19), 'payout': 0.0309, 'trend': 'Bearish'}, {'id': 19, 'symbol': '5G2.SI', 'name': 'Kim Heng Limited', 'exDate': datetime.date(2025, 6, 21), 'payout': 0.002126, 'trend': 'Consolidation'}, {'id': 20, 'symbol': 'AW9U.SI', 'name': 'First Real Estate Investment Trust', 'exDate': datetime.date(2025, 2, 27), 'payout': 0.0062, 'trend': 'Bullish'}, {'id': 21, 'symbol': 'OYY.SI', 'name': 'PropNex Limited', 'exDate': datetime.date(2025, 4, 30), 'payout': 0.035, 'trend': 'Bullish'}, {'id': 22, 'symbol': 'BS6.SI', 'name': 'Yangzijiang Shipbuilding (Holdings) Ltd.', 'exDate': datetime.date(2025, 4, 29), 'payout': 0.065, 'trend': 'Consolidation'}, {'id': 23, 'symbol': 'YF8.SI', 'name': 'Yangzijiang Financial Holding Ltd.', 'exDate': datetime.date(2025, 4, 24), 'payout': 0.022, 'trend': 'Consolidation'}, {'id': 24, 'symbol': 'STG.SI', 'name': 'Sri Trang Gloves (Thailand) Public Company Limited', 'exDate': datetime.date(2025, 4, 18), 'payout': 0.5, 'trend': 'Consolidation'}, {'id': 25, 'symbol': 'YYY.SI', 'name': 'Lion-OCBC Securities China Leaders ETF', 'exDate': datetime.date(2025, 7, 1), 'payout': 0.0456, 'trend': 'Consolidation'}, {'id': 26, 'symbol': 'QES.SI', 'name': 'China Sunsine Chemical Holdings Ltd.', 'exDate': datetime.date(2025, 5, 9), 'payout': 0.015, 'trend': 'Consolidation'}, {'id': 27, 'symbol': '1AZ.SI', 'name': 'Audience Analytics Limited', 'exDate': datetime.date(2025, 5, 2), 'payout': 0.01275, 'trend': 'Bullish'}, {'id': 29, 'symbol': '5WG.SI', 'name': 'Singapore Kitchen Equipment Limited', 'exDate': datetime.date(2025, 5, 28), 'payout': 0.0025, 'trend': 'Consolidation'}, {'id': 30, 'symbol': 'QR9.SI', 'name': 'Principal S&P Ethical Asia Pacific Dividend ETF', 'exDate': datetime.date(2025, 11, 4), 'payout': 0.052676, 'trend': 'Consolidation'}, {'id': 31, 'symbol': 'E5H.SI', 'name': 'Golden Agri-Resources Ltd', 'exDate': datetime.date(2025, 5, 7), 'payout': 0.00613, 'trend': 'Consolidation'}, {'id': 32, 'symbol': 'S85.SI', 'name': 'Straco Corporation Limited', 'exDate': datetime.date(2025, 5, 9), 'payout': 0.005, 'trend': 'Consolidation'}, {'id': 33, 'symbol': 'OVQ.SI', 'name': 'Phillip Sing Income ETF', 'exDate': datetime.date(2025, 7, 10), 'payout': 0.019, 'trend': 'Bearish'}, {'id': 34, 'symbol': 'TCPD.SI', 'name': 'CP ALL Public Company Limited', 'exDate': datetime.date(2025, 5, 7), 'payout': 0.036518, 'trend': 'Bearish'}, {'id': 36, 'symbol': 'T55.SI', 'name': 'TIH Limited', 'exDate': datetime.date(2025, 5, 2), 'payout': 0.01, 'trend': 'Bullish'}, {'id': 37, 'symbol': '558.SI', 'name': 'UMS Integration Limited', 'exDate': datetime.date(2025, 5, 7), 'payout': 0.022, 'trend': 'Consolidation'}, {'id': 38, 'symbol': 'AGS.SI', 'name': 'The Hour Glass Limited', 'exDate': datetime.date(2025, 8, 6), 'payout': 0.06, 'trend': 'Consolidation'}, {'id': 39, 'symbol': 'M1GU.SI', 'name': 'Sabana Industrial Real Estate Investment Trust', 'exDate': datetime.date(2025, 1, 30), 'payout': 0.0115, 'trend': 'Bullish'}, {'id': 40, 'symbol': 'U11.SI', 'name': 'United Overseas Bank Limited', 'exDate': datetime.date(2025, 4, 25), 'payout': 0.85, 'trend': 'Consolidation'}, {'id': 41, 'symbol': 'U14.SI', 'name': 'UOL Group Limited', 'exDate': datetime.date(2025, 5, 2), 'payout': 0.15, 'trend': 'Consolidation'}, {'id': 42, 'symbol': 'CYB.SI', 'name': 'ICBC CSOP FTSE Chinese Government Bond Index ETF', 'exDate': datetime.date(2025, 6, 21), 'payout': 0.14759, 'trend': 'Consolidation'}, {'id': 43, 'symbol': 'Q0X.SI', 'name': 'Ley Choon Group Holdings Limited', 'exDate': datetime.date(2025, 8, 15), 'payout': 0.0027, 'trend': 'Bullish'}, {'id': 44, 'symbol': 'S23.SI', 'name': 'Singapura Finance Ltd', 'exDate': datetime.date(2025, 5, 2), 'payout': 0.02, 'trend': 'Consolidation'}, {'id': 45, 'symbol': 'OTX.SI', 'name': 'Medinex Limited', 'exDate': datetime.date(2025, 9, 5), 'payout': 0.0084, 'trend': 'Bearish'}, {'id': 46, 'symbol': 'CJLU.SI', 'name': 'NetLink NBN Trust', 'exDate': datetime.date(2025, 5, 29), 'payout': 0.0265, 'trend': 'Consolidation'}, {'id': 47, 'symbol': 'NO4.SI', 'name': 'Dyna-Mac Holdings Ltd.', 'exDate': datetime.date(2025, 4, 30), 'payout': 0.0083, 'trend': 'Consolidation'}, {'id': 48, 'symbol': 'S19.SI', 'name': 'Singapore Shipping Corporation Limited', 'exDate': datetime.date(2025, 8, 8), 'payout': 0.01, 'trend': 'Consolidation'}, {'id': 49, 'symbol': 'H12.SI', 'name': 'Hotel Royal Limited', 'exDate': datetime.date(2025, 5, 21), 'payout': 0.025, 'trend': 'Consolidation'}, {'id': 50, 'symbol': 'GRN.SI', 'name': 'UOB APAC Green REIT ETF SGD', 'exDate': datetime.date(2025, 3, 22), 'payout': 0.014356, 'trend': 'Consolidation'}, {'id': 51, 'symbol': 'AIY.SI', 'name': 'iFAST Corporation Ltd.', 'exDate': datetime.date(2025, 5, 8), 'payout': 0.014, 'trend': 'Consolidation'}, {'id': 52, 'symbol': '5UL.SI', 'name': 'Atlantic Navigation Holdings (Singapore) Limited', 'exDate': datetime.date(2025, 11, 26), 'payout': 0.159, 'trend': 'Consolidation'}, {'id': 53, 'symbol': 'ZHS.SI', 'name': 'NikkoAM-ICBCSG China Bond ETF SGD', 'exDate': datetime.date(2025, 7, 1), 'payout': 0.0124, 'trend': 'Consolidation'}, {'id': 54, 'symbol': 'NPW.SI', 'name': 'Malaysia Smelting Corporation Berhad', 'exDate': datetime.date(2025, 6, 13), 'payout': 0.07, 'trend': 'Consolidation'}, {'id': 55, 'symbol': 'B58.SI', 'name': 'Banyan Tree Holdings Limited', 'exDate': datetime.date(2025, 5, 6), 'payout': 0.012, 'trend': 'Consolidation'}, {'id': 56, 'symbol': 'S41.SI', 'name': 'Hong Leong Finance Limited', 'exDate': datetime.date(2025, 5, 7), 'payout': 0.09, 'trend': 'Consolidation'}, {'id': 57, 'symbol': 'H02.SI', 'name': 'Haw Par Corporation Limited', 'exDate': datetime.date(2025, 5, 3), 'payout': 0.2, 'trend': 'Consolidation'}, {'id': 58, 'symbol': 'T15.SI', 'name': 'Tan Chong International Limited', 'exDate': datetime.date(2025, 5, 31), 'payout': 0.045, 'trend': 'Consolidation'}, {'id': 59, 'symbol': '5JK.SI', 'name': 'Hiap Hoe Limited', 'exDate': datetime.date(2025, 5, 10), 'payout': 0.005, 'trend': 'Bearish'}, {'id': 60, 'symbol': 'N0Z.SI', 'name': 'Combine Will International Holdings Limited', 'exDate': datetime.date(2025, 5, 21), 'payout': 0.05, 'trend': 'Consolidation'}, {'id': 61, 'symbol': 'C33.SI', 'name': 'Chuan Hup Holdings Limited', 'exDate': datetime.date(2025, 11, 4), 'payout': 0.01, 'trend': 'Consolidation'}, {'id': 62, 'symbol': '40T.SI', 'name': 'ISEC Healthcare Ltd.', 'exDate': datetime.date(2025, 4, 26), 'payout': 0.0085, 'trend': 'Consolidation'}, {'id': 63, 'symbol': '5SR.SI', 'name': 'Zhongmin Baihui Retail Group Ltd.', 'exDate': datetime.date(2025, 11, 7), 'payout': 0.01, 'trend': 'Consolidation'}, {'id': 64, 'symbol': 'MBH.SI', 'name': 'Nikko AM SGD Investment Grd Corp Bd ETF', 'exDate': datetime.date(2025, 7, 1), 'payout': 0.0161, 'trend': 'Consolidation'}, {'id': 65, 'symbol': 'D05.SI', 'name': 'DBS Group Holdings Ltd', 'exDate': datetime.date(2025, 4, 5), 'payout': 0.490909, 'trend': 'Consolidation'}, {'id': 66, 'symbol': 'ESU.SI', 'name': 'Lion-OCBC Securities Singapore Low Carbon ETF', 'exDate': datetime.date(2025, 7, 1), 'payout': 0.014731, 'trend': 'Consolidation'}, {'id': 67, 'symbol': 'B26.SI', 'name': 'Ban Leong Technologies Limited', 'exDate': datetime.date(2025, 8, 7), 'payout': 0.016, 'trend': 'Consolidation'}, {'id': 68, 'symbol': '544.SI', 'name': 'CSE Global Limited', 'exDate': datetime.date(2025, 5, 9), 'payout': 0.015, 'trend': 'Consolidation'}, {'id': 69, 'symbol': 'G0I.SI', 'name': 'Nam Lee Pressed Metal Industries Limited', 'exDate': datetime.date(2025, 1, 29), 'payout': 0.0025, 'trend': 'Consolidation'}, {'id': 70, 'symbol': 'G20.SI', 'name': 'GP Industries Limited', 'exDate': datetime.date(2025, 8, 7), 'payout': 0.01, 'trend': 'Consolidation'}, {'id': 71, 'symbol': 'BTJ.SI', 'name': 'A-Sonic Aerospace Limited', 'exDate': datetime.date(2025, 5, 9), 'payout': 0.0025, 'trend': 'Consolidation'}, {'id': 72, 'symbol': 'V03.SI', 'name': 'Venture Corporation Limited', 'exDate': datetime.date(2025, 5, 7), 'payout': 0.5, 'trend': 'Consolidation'}, {'id': 73, 'symbol': 'LMS.SI', 'name': 'LMS Compliance Ltd.', 'exDate': datetime.date(2025, 5, 6), 'payout': 0.0035, 'trend': 'Bearish'}, {'id': 74, 'symbol': 'YYR.SI', 'name': 'Lion-OCBC Securities China Leaders ETF', 'exDate': datetime.date(2025, 7, 1), 'payout': 0.245334, 'trend': 'Consolidation'}, {'id': 75, 'symbol': 'M62.SI', 'name': 'Principal FTSE ASEAN 40', 'exDate': datetime.date(2025, 4, 23), 'payout': 0.34, 'trend': 'Consolidation'}, {'id': 76, 'symbol': '5OQ.SI', 'name': 'TEHO International Inc Ltd.', 'exDate': datetime.date(2025, 11, 11), 'payout': 0.001, 'trend': 'Consolidation'}, {'id': 77, 'symbol': 'BN2.SI', 'name': 'Valuetronics Holdings Limited', 'exDate': datetime.date(2025, 8, 8), 'payout': 0.08, 'trend': 'Consolidation'}, {'id': 78, 'symbol': 'O9P.SI', 'name': 'iShares Barclays Capital USD Asia High Yield Bond Index ETF', 'exDate': datetime.date(2025, 3, 1), 'payout': 0.13, 'trend': 'Consolidation'}, {'id': 79, 'symbol': 'J69U.SI', 'name': 'Frasers Centrepoint Trust', 'exDate': datetime.date(2025, 2, 1), 'payout': 0.0425, 'trend': 'Consolidation'}, {'id': 80, 'symbol': 'J85.SI', 'name': 'CDL Hospitality Trusts', 'exDate': datetime.date(2025, 2, 6), 'payout': 0.0319, 'trend': 'Consolidation'}, {'id': 81, 'symbol': 'DHLU.SI', 'name': 'Daiwa House Logistics Trust', 'exDate': datetime.date(2025, 3, 6), 'payout': 0.0261, 'trend': 'Consolidation'}, {'id': 82, 'symbol': 'BCV.SI', 'name': 'Qian Hu Corporation Limited', 'exDate': datetime.date(2025, 4, 9), 'payout': 0.003, 'trend': 'Consolidation'}, {'id': 83, 'symbol': 'BEW.SI', 'name': 'JB Foods Limited', 'exDate': datetime.date(2025, 9, 4), 'payout': 0.002, 'trend': 'Consolidation'}, {'id': 84, 'symbol': 'B28.SI', 'name': 'Bonvests Holdings Limited', 'exDate': datetime.date(2025, 5, 10), 'payout': 0.008, 'trend': 'Bearish'}, {'id': 85, 'symbol': 'BCY.SI', 'name': 'Powermatic Data Systems Limited', 'exDate': datetime.date(2025, 8, 15), 'payout': 0.05, 'trend': 'Consolidation'}, {'id': 86, 'symbol': 'G3B.SI', 'name': 'Nikko AM Singapore STI ETF', 'exDate': datetime.date(2025, 7, 1), 'payout': 0.0806, 'trend': 'Consolidation'}, {'id': 87, 'symbol': '1J5.SI', 'name': 'Hyphens Pharma International Limited', 'exDate': datetime.date(2025, 5, 8), 'payout': 0.0086, 'trend': 'Consolidation'}, {'id': 88, 'symbol': 'U10.SI', 'name': 'UOB-Kay Hian Holdings Limited', 'exDate': datetime.date(2025, 5, 7), 'payout': 0.092, 'trend': 'Consolidation'}, {'id': 89, 'symbol': '508.SI', 'name': 'Fuji Offset Plates Manufacturing Ltd', 'exDate': datetime.date(2025, 5, 13), 'payout': 0.005, 'trend': 'Consolidation'}, {'id': 90, 'symbol': '42E.SI', 'name': 'Choo Chiang Holdings Ltd.', 'exDate': datetime.date(2025, 5, 3), 'payout': 0.015, 'trend': 'Bearish'}, {'id': 91, 'symbol': 'BHK.SI', 'name': 'SIIC Environment Holdings Ltd.', 'exDate': datetime.date(2025, 5, 16), 'payout': 0.006, 'trend': 'Consolidation'}, {'id': 92, 'symbol': 'N6M.SI', 'name': 'iShares J.P. Morgan USD Asia Credit Bond Index ETF', 'exDate': datetime.date(2025, 3, 1), 'payout': 0.11, 'trend': 'Consolidation'}, {'id': 93, 'symbol': 'E3B.SI', 'name': 'Wee Hur Holdings Ltd.', 'exDate': datetime.date(2025, 5, 8), 'payout': 0.004, 'trend': 'Bullish'}, {'id': 94, 'symbol': '5ML.SI', 'name': 'Old Chang Kee Ltd.', 'exDate': datetime.date(2025, 8, 14), 'payout': 0.01, 'trend': 'Consolidation'}, {'id': 95, 'symbol': 'TWL.SI', 'name': 'Memiontec Holdings Ltd.', 'exDate': datetime.date(2025, 6, 20), 'payout': 0.00196, 'trend': 'Bearish'}, {'id': 96, 'symbol': 'LJ3.SI', 'name': 'OUE Limited', 'exDate': datetime.date(2025, 5, 8), 'payout': 0.01, 'trend': 'Consolidation'}, {'id': 97, 'symbol': '1R6.SI', 'name': 'Avi-Tech Holdings Limited', 'exDate': datetime.date(2025, 5, 2), 'payout': 0.0075, 'trend': 'Consolidation'}, {'id': 98, 'symbol': 'S27.SI', 'name': 'SPDR S&P 500 ETF Trust', 'exDate': datetime.date(2025, 3, 15), 'payout': 1.594937, 'trend': 'Consolidation'}, {'id': 99, 'symbol': '5SO.SI', 'name': 'Duty Free International Limited', 'exDate': datetime.date(2025, 1, 29), 'payout': 0.0008, 'trend': 'Bullish'}, {'id': 100, 'symbol': 'BIP.SI', 'name': 'Vibrant Group Limited', 'exDate': datetime.date(2025, 9, 6), 'payout': 0.002, 'trend': 'Consolidation'}, {'id': 101, 'symbol': 'J2T.SI', 'name': 'Hock Lian Seng Holdings Limited', 'exDate': datetime.date(2025, 5, 6), 'payout': 0.015, 'trend': 'Bullish'}, {'id': 102, 'symbol': 'CRPU.SI', 'name': 'Sasseur Real Estate Investment Trust', 'exDate': datetime.date(2025, 3, 18), 'payout': 0.01415, 'trend': 'Consolidation'}, {'id': 103, 'symbol': 'MR7.SI', 'name': 'Nordic Group Limited', 'exDate': datetime.date(2025, 5, 8), 'payout': 0.00588, 'trend': 'Consolidation'}, {'id': 104, 'symbol': 'F99.SI', 'name': 'Fraser and Neave, Limited', 'exDate': datetime.date(2025, 1, 29), 'payout': 0.04, 'trend': 'Consolidation'}, {'id': 105, 'symbol': 'ADN.SI', 'name': 'First Sponsor Group Limited', 'exDate': datetime.date(2025, 5, 7), 'payout': 0.031, 'trend': 'Consolidation'}, {'id': 106, 'symbol': '566.SI', 'name': 'SHS Holdings Ltd.', 'exDate': datetime.date(2025, 5, 8), 'payout': 0.00284, 'trend': 'Bearish'}, {'id': 107, 'symbol': '5IC.SI', 'name': 'Sing Holdings Limited', 'exDate': datetime.date(2025, 5, 2), 'payout': 0.01, 'trend': 'Bullish'}, {'id': 108, 'symbol': '540.SI', 'name': 'Tung Lok Restaurants (2000) Ltd', 'exDate': datetime.date(2025, 8, 8), 'payout': 0.00224, 'trend': 'Bullish'}, {'id': 109, 'symbol': 'S08.SI', 'name': 'Singapore Post Limited', 'exDate': datetime.date(2025, 7, 31), 'payout': 0.0056, 'trend': 'Consolidation'}, {'id': 110, 'symbol': '533.SI', 'name': 'ABR Holdings Limited', 'exDate': datetime.date(2025, 5, 10), 'payout': 0.01, 'trend': 'Consolidation'}, {'id': 111, 'symbol': 'BBW.SI', 'name': 'Azeus Systems Holdings Ltd.', 'exDate': datetime.date(2025, 2, 16), 'payout': 0.153, 'trend': 'Bearish'}, {'id': 112, 'symbol': 'S07.SI', 'name': 'Shangri-La Asia Limited', 'exDate': datetime.date(2025, 6, 3), 'payout': 0.15, 'trend': 'Bearish'}, {'id': 113, 'symbol': 'M05.SI', 'name': 'MTQ Corporation Limited', 'exDate': datetime.date(2025, 8, 6), 'payout': 0.005, 'trend': 'Bullish'}, {'id': 114, 'symbol': 'S7P.SI', 'name': 'Soilbuild Construction Group Ltd.', 'exDate': datetime.date(2025, 5, 6), 'payout': 0.001, 'trend': 'Consolidation'}, {'id': 115, 'symbol': 'AWZ.SI', 'name': 'Multi-Chem Limited', 'exDate': datetime.date(2025, 5, 10), 'payout': 0.155, 'trend': 'Consolidation'}, {'id': 116, 'symbol': 'QC7.SI', 'name': 'Q & M Dental Group (Singapore) Limited', 'exDate': datetime.date(2025, 3, 8), 'payout': 0.0053, 'trend': 'Consolidation'}, {'id': 117, 'symbol': '43B.SI', 'name': 'Secura Group Limited', 'exDate': datetime.date(2025, 5, 7), 'payout': 0.001375, 'trend': 'Consolidation'}, {'id': 118, 'symbol': 'T14.SI', 'name': 'Tianjin Pharmaceutical Da Ren Tang Group Corporation Limited', 'exDate': datetime.date(2025, 7, 2), 'payout': 0.237824, 'trend': 'Consolidation'}, {'id': 119, 'symbol': 'i07.SI', 'name': 'ISDN Holdings Limited', 'exDate': datetime.date(2025, 7, 5), 'payout': 0.0028, 'trend': 'Consolidation'}, {'id': 120, 'symbol': 'H13.SI', 'name': 'Ho Bee Land Limited', 'exDate': datetime.date(2025, 5, 14), 'payout': 0.03, 'trend': 'Consolidation'}, {'id': 121, 'symbol': 'ACV.SI', 'name': 'Frasers Hospitality Trust', 'exDate': datetime.date(2025, 5, 16), 'payout': 0.01091, 'trend': 'Bullish'}, {'id': 122, 'symbol': 'BTE.SI', 'name': 'Bund Center Investment Ltd', 'exDate': datetime.date(2025, 10, 17), 'payout': 0.014, 'trend': 'Consolidation'}, {'id': 124, 'symbol': 'D07.SI', 'name': 'SPDR Dow Jones Industrial Average ETF Trust', 'exDate': datetime.date(2025, 2, 16), 'payout': 0.61185, 'trend': 'Consolidation'}, {'id': 125, 'symbol': 'AWI.SI', 'name': 'Thakral Corporation Ltd', 'exDate': datetime.date(2025, 5, 6), 'payout': 0.02, 'trend': 'Bullish'}, {'id': 126, 'symbol': 'G07.SI', 'name': 'Great Eastern Holdings Limited', 'exDate': datetime.date(2025, 4, 30), 'payout': 0.4, 'trend': 'Consolidation'}, {'id': 127, 'symbol': 'D8DU.SI', 'name': 'First Ship Lease Trust', 'exDate': datetime.date(2025, 2, 15), 'payout': 0.015, 'trend': 'Consolidation'}, {'id': 128, 'symbol': 'HMN.SI', 'name': 'CapitaLand Ascott Trust', 'exDate': datetime.date(2025, 2, 5), 'payout': 0.02839, 'trend': 'Consolidation'}, {'id': 129, 'symbol': 'K29.SI', 'name': 'Karin Technology Holdings Limited', 'exDate': datetime.date(2025, 2, 27), 'payout': 0.008413, 'trend': 'Bearish'}, {'id': 130, 'symbol': 'UD2.SI', 'name': 'Japfa Ltd.', 'exDate': datetime.date(2025, 11, 5), 'payout': 0.01, 'trend': 'Bullish'}, {'id': 131, 'symbol': 'O39.SI', 'name': 'Oversea-Chinese Banking Corporation Limited', 'exDate': datetime.date(2025, 5, 8), 'payout': 0.42, 'trend': 'Consolidation'}, {'id': 132, 'symbol': 'MMS.SI', 'name': 'Phillip SGD Money Market ETF', 'exDate': datetime.date(2025, 2, 7), 'payout': 0.88, 'trend': 'Consolidation'}, {'id': 133, 'symbol': '41O.SI', 'name': 'LHN Limited', 'exDate': datetime.date(2025, 2, 6), 'payout': 0.01, 'trend': 'Bullish'}, {'id': 134, 'symbol': 'C52.SI', 'name': 'ComfortDelGro Corporation Limited', 'exDate': datetime.date(2025, 5, 6), 'payout': 0.0376, 'trend': 'Bearish'}, {'id': 135, 'symbol': 'AYN.SI', 'name': 'Global Testing Corporation Limited', 'exDate': datetime.date(2025, 5, 30), 'payout': 0.05, 'trend': 'Consolidation'}, {'id': 136, 'symbol': 'H07.SI', 'name': 'Stamford Land Corporation Ltd', 'exDate': datetime.date(2025, 8, 8), 'payout': 0.005, 'trend': 'Consolidation'}, {'id': 137, 'symbol': 'OU8.SI', 'name': 'Centurion Corporation Limited', 'exDate': datetime.date(2025, 5, 9), 'payout': 0.015, 'trend': 'Bullish'}, {'id': 138, 'symbol': 'T82U.SI', 'name': 'Suntec Real Estate Investment Trust', 'exDate': datetime.date(2025, 1, 31), 'payout': 0.01866, 'trend': 'Bullish'}, {'id': 140, 'symbol': 'YLD.SI', 'name': 'Lion-OCBC Securities APAC Financials Dividend Plus ETF', 'exDate': datetime.date(2025, 7, 17), 'payout': 0.03, 'trend': 'Consolidation'}, {'id': 141, 'symbol': 'O08.SI', 'name': 'Ossia International Limited', 'exDate': datetime.date(2025, 7, 30), 'payout': 0.007, 'trend': 'Consolidation'}, {'id': 142, 'symbol': '5TP.SI', 'name': 'CNMC Goldmine Holdings Limited', 'exDate': datetime.date(2025, 5, 13), 'payout': 0.002, 'trend': 'Bullish'}, {'id': 143, 'symbol': 'Y03.SI', 'name': 'Yeo Hiap Seng Limited', 'exDate': datetime.date(2025, 5, 6), 'payout': 0.02, 'trend': 'Consolidation'}, {'id': 144, 'symbol': 'YK9.SI', 'name': 'YKGI Limited', 'exDate': datetime.date(2025, 5, 7), 'payout': 0.0026, 'trend': 'Bearish'}, {'id': 145, 'symbol': 'KJ5.SI', 'name': 'BBR Holdings (S) Ltd', 'exDate': datetime.date(2025, 5, 13), 'payout': 0.003, 'trend': 'Bullish'}, {'id': 146, 'symbol': 'WJP.SI', 'name': 'VICOM Ltd', 'exDate': datetime.date(2025, 5, 2), 'payout': 0.0275, 'trend': 'Consolidation'}, {'id': 147, 'symbol': 'U77.SI', 'name': 'Sarine Technologies Ltd.', 'exDate': datetime.date(2025, 8, 26), 'payout': 0.009763, 'trend': 'Consolidation'}, {'id': 148, 'symbol': 'BYI.SI', 'name': 'Phillip SGX APAC Dividend Leaders REIT ETF', 'exDate': datetime.date(2025, 7, 10), 'payout': 0.012, 'trend': 'Bearish'}, {'id': 149, 'symbol': 'TS0U.SI', 'name': 'OUE Real Estate Investment Trust', 'exDate': datetime.date(2025, 2, 5), 'payout': 0.0104, 'trend': 'Consolidation'}, {'id': 150, 'symbol': 'N01.SI', 'name': 'Nera Telecommunications Ltd', 'exDate': datetime.date(2025, 5, 9), 'payout': 0.005, 'trend': 'Consolidation'}, {'id': 151, 'symbol': 'CYC.SI', 'name': 'ICBC CSOP FTSE Chinese Government Bond Index ETF', 'exDate': datetime.date(2025, 6, 21), 'payout': 0.2, 'trend': 'Consolidation'}, {'id': 152, 'symbol': 'DCRU.SI', 'name': 'Digital Core REIT', 'exDate': datetime.date(2025, 2, 8), 'payout': 0.023745, 'trend': 'Consolidation'}, {'id': 153, 'symbol': '5KI.SI', 'name': 'Soup Holdings Limited', 'exDate': datetime.date(2025, 5, 10), 'payout': 0.002, 'trend': 'Bullish'}, {'id': 154, 'symbol': 'P40U.SI', 'name': 'Starhill Global Real Estate Investment Trust', 'exDate': datetime.date(2025, 2, 5), 'payout': 0.0178, 'trend': 'Consolidation'}, {'id': 155, 'symbol': 'C70.SI', 'name': 'City Developments Ltd', 'exDate': datetime.date(2025, 6, 19), 'payout': 0.019447, 'trend': 'Bearish'}, {'id': 156, 'symbol': 'Q5T.SI', 'name': 'Far East Hospitality Trust', 'exDate': datetime.date(2025, 2, 21), 'payout': 0.0217, 'trend': 'Consolidation'}, {'id': 157, 'symbol': 'G13.SI', 'name': 'Genting Singapore Limited', 'exDate': datetime.date(2025, 5, 2), 'payout': 0.02, 'trend': 'Bearish'}, {'id': 158, 'symbol': 'N6DD.SI', 'name': 'Mizuho Financial Group Inc', 'exDate': datetime.date(2025, 3, 27), 'payout': 0.070295, 'trend': 'Consolidation'}, {'id': 159, 'symbol': 'C05.SI', 'name': 'Chemical Industries (Far East) Limited', 'exDate': datetime.date(2025, 8, 6), 'payout': 0.015, 'trend': 'Consolidation'}, {'id': 160, 'symbol': 'VC2.SI', 'name': 'Olam Group Limited', 'exDate': datetime.date(2025, 5, 3), 'payout': 0.04, 'trend': 'Bearish'}, {'id': 161, 'symbol': 'O5RU.SI', 'name': 'AIMS APAC REIT', 'exDate': datetime.date(2025, 2, 8), 'payout': 0.0234, 'trend': 'Consolidation'}, {'id': 162, 'symbol': 'N2IU.SI', 'name': 'Mapletree Pan Asia Commercial Trust', 'exDate': datetime.date(2025, 2, 5), 'payout': 0.022, 'trend': 'Consolidation'}, {'id': 163, 'symbol': 'G92.SI', 'name': 'China Aviation Oil (Singapore) Corporation Ltd', 'exDate': datetime.date(2025, 5, 10), 'payout': 0.0234, 'trend': 'Bearish'}, {'id': 164, 'symbol': 'YLU.SI', 'name': 'Lion-OCBC Securities APAC Financials Dividend Plus ETF', 'exDate': datetime.date(2025, 7, 17), 'payout': 0.022299, 'trend': 'Consolidation'}, {'id': 165, 'symbol': 'ME8U.SI', 'name': 'Mapletree Industrial Trust', 'exDate': datetime.date(2025, 2, 1), 'payout': 0.0336, 'trend': 'Consolidation'}, {'id': 166, 'symbol': '5VS.SI', 'name': 'Hafary Holdings Limited', 'exDate': datetime.date(2025, 2, 15), 'payout': 0.0075, 'trend': 'Consolidation'}, {'id': 167, 'symbol': 'H30.SI', 'name': 'Hong Fok Corporation Limited', 'exDate': datetime.date(2025, 5, 10), 'payout': 0.01, 'trend': 'Consolidation'}, {'id': 168, 'symbol': 'QS0.SI', 'name': 'Principal FTSE ASEAN 40', 'exDate': datetime.date(2025, 4, 23), 'payout': 0.462876, 'trend': 'Consolidation'}, {'id': 169, 'symbol': '1A1.SI', 'name': 'Wong Fong Industries Limited', 'exDate': datetime.date(2025, 5, 8), 'payout': 0.004, 'trend': 'Consolidation'}, {'id': 170, 'symbol': 'P9D.SI', 'name': 'Civmec Limited', 'exDate': datetime.date(2025, 10, 14), 'payout': 0.035, 'trend': 'Consolidation'}, {'id': 171, 'symbol': 'BTP.SI', 'name': 'Baker Technology Limited', 'exDate': datetime.date(2025, 5, 7), 'payout': 0.015, 'trend': 'Consolidation'}, {'id': 172, 'symbol': '8AZ.SI', 'name': 'Aztech Global Ltd.', 'exDate': datetime.date(2025, 4, 22), 'payout': 0.05, 'trend': 'Bearish'}, {'id': 173, 'symbol': 'U06.SI', 'name': 'Singapore Land Group Limited', 'exDate': datetime.date(2025, 5, 3), 'payout': 0.04, 'trend': 'Bullish'}, {'id': 174, 'symbol': 'P34.SI', 'name': 'Delfi Limited', 'exDate': datetime.date(2025, 5, 2), 'payout': 0.0069, 'trend': 'Bearish'}, {'id': 176, 'symbol': 'BWM.SI', 'name': 'Zheneng Jinjiang Environment Holding Company Limited', 'exDate': datetime.date(2025, 5, 9), 'payout': 0.013, 'trend': 'Consolidation'}, {'id': 177, 'symbol': '5PC.SI', 'name': 'Goodland Group Limited', 'exDate': datetime.date(2025, 2, 2), 'payout': 0.0015, 'trend': 'Bearish'}, {'id': 178, 'symbol': 'CWCU.SI', 'name': 'Stoneweg European Real Estate Investment Trust', 'exDate': datetime.date(2025, 3, 4), 'payout': 0.11487, 'trend': 'Consolidation'}, {'id': 179, 'symbol': 'C9Q.SI', 'name': 'Sinostar PEC Holdings Limited', 'exDate': datetime.date(2025, 4, 30), 'payout': 0.005, 'trend': 'Bearish'}, {'id': 180, 'symbol': 'S58.SI', 'name': 'SATS Ltd.', 'exDate': datetime.date(2025, 7, 24), 'payout': 0.015, 'trend': 'Consolidation'}, {'id': 181, 'symbol': 'MXNU.SI', 'name': 'Elite UK REIT', 'exDate': datetime.date(2025, 2, 26), 'payout': 0.0133, 'trend': 'Bullish'}, {'id': 182, 'symbol': 'Q0F.SI', 'name': 'IHH Healthcare Berhad', 'exDate': datetime.date(2025, 3, 26), 'payout': 0.055, 'trend': 'Bearish'}, {'id': 183, 'symbol': 'U9E.SI', 'name': 'China Everbright Water Limited', 'exDate': datetime.date(2025, 5, 2), 'payout': 0.0099, 'trend': 'Bearish'}, {'id': 185, 'symbol': 'IX2.SI', 'name': 'PEC Ltd.', 'exDate': datetime.date(2025, 11, 8), 'payout': 0.015, 'trend': 'Consolidation'}, {'id': 186, 'symbol': 'T12.SI', 'name': 'Tat Seng Packaging Group Ltd', 'exDate': datetime.date(2025, 5, 9), 'payout': 0.02, 'trend': 'Consolidation'}, {'id': 188, 'symbol': '41B.SI', 'name': 'Huationg Global Limited', 'exDate': datetime.date(2025, 5, 7), 'payout': 0.005, 'trend': 'Bullish'}, {'id': 189, 'symbol': 'A55.SI', 'name': 'Asia Enterprises Holding Limited', 'exDate': datetime.date(2025, 5, 17), 'payout': 0.01, 'trend': 'Consolidation'}, {'id': 190, 'symbol': 'COI.SI', 'name': 'NikkoAM-StraitsTrading Asia ex Japan REIT ETF', 'exDate': datetime.date(2025, 4, 1), 'payout': 0.008504, 'trend': 'Consolidation'}, {'id': 191, 'symbol': 'BQF.SI', 'name': 'XMH Holdings Ltd.', 'exDate': datetime.date(2025, 9, 9), 'payout': 0.0325, 'trend': 'Bearish'}, {'id': 192, 'symbol': '5LY.SI', 'name': 'Marco Polo Marine Ltd.', 'exDate': datetime.date(2025, 2, 16), 'payout': 0.001, 'trend': 'Consolidation'}, {'id': 193, 'symbol': 'ES3.SI', 'name': 'SPDR Straits Times Index ETF', 'exDate': datetime.date(2025, 2, 13), 'payout': 0.073, 'trend': 'Consolidation'}, {'id': 194, 'symbol': 'A17U.SI', 'name': 'CapitaLand Ascendas REIT', 'exDate': datetime.date(2025, 2, 8), 'payout': 0.07441, 'trend': 'Consolidation'}, {'id': 195, 'symbol': 'M04.SI', 'name': 'Mandarin Oriental International Limited', 'exDate': datetime.date(2025, 3, 21), 'payout': 0.035, 'trend': 'Consolidation'}, {'id': 196, 'symbol': '5DS.SI', 'name': 'Megachem Limited', 'exDate': datetime.date(2025, 9, 6), 'payout': 0.005, 'trend': 'Consolidation'}, {'id': 197, 'symbol': 'BHU.SI', 'name': 'SUTL Enterprise Limited', 'exDate': datetime.date(2025, 5, 27), 'payout': 0.05, 'trend': 'Consolidation'}, {'id': 198, 'symbol': 'CWBU.SI', 'name': 'Stoneweg European Real Estate Investment Trust', 'exDate': datetime.date(2025, 3, 4), 'payout': 0.115339, 'trend': 'Consolidation'}, {'id': 199, 'symbol': 'A52.SI', 'name': 'AnnAik Limited', 'exDate': datetime.date(2025, 5, 8), 'payout': 0.003, 'trend': 'Consolidation'}, {'id': 200, 'symbol': 'AU8U.SI', 'name': 'CapitaLand China Trust', 'exDate': datetime.date(2025, 2, 6), 'payout': 0.03, 'trend': 'Consolidation'}, {'id': 201, 'symbol': 'BQN.SI', 'name': 'BH Global Corporation Limited', 'exDate': datetime.date(2025, 5, 20), 'payout': 0.007, 'trend': 'Consolidation'}, {'id': 202, 'symbol': 'C04.SI', 'name': 'Casa Holdings Limited', 'exDate': datetime.date(2025, 2, 2), 'payout': 0.003, 'trend': 'Consolidation'}, {'id': 203, 'symbol': 'SK6U.SI', 'name': 'Paragon REIT', 'exDate': datetime.date(2025, 2, 13), 'payout': 0.026, 'trend': 'Consolidation'}, {'id': 204, 'symbol': 'V7R.SI', 'name': 'Resources Global Development Limited', 'exDate': datetime.date(2025, 7, 10), 'payout': 0.007, 'trend': 'Consolidation'}, {'id': 205, 'symbol': '5AU.SI', 'name': 'AP Oil International Limited', 'exDate': datetime.date(2025, 5, 7), 'payout': 0.005, 'trend': 'Consolidation'}, {'id': 206, 'symbol': 'OAJ.SI', 'name': 'Fortress Minerals Limited', 'exDate': datetime.date(2025, 8, 6), 'payout': 0.006, 'trend': 'Consolidation'}, {'id': 207, 'symbol': 'C2PU.SI', 'name': 'Parkway Life Real Estate Investment Trust', 'exDate': datetime.date(2025, 2, 8), 'payout': 0.0748, 'trend': 'Consolidation'}, {'id': 208, 'symbol': 'BKX.SI', 'name': 'Yongmao Holdings Limited', 'exDate': datetime.date(2025, 8, 16), 'payout': 0.01, 'trend': 'Consolidation'}, {'id': 209, 'symbol': 'K3MD.SI', 'name': 'NetEase Inc', 'exDate': datetime.date(2025, 3, 13), 'payout': 1.07985, 'trend': 'Consolidation'}, {'id': 210, 'symbol': 'TSH.SI', 'name': 'TSH Resources Berhad', 'exDate': datetime.date(2025, 4, 22), 'payout': 0.007112, 'trend': 'Bearish'}, {'id': 211, 'symbol': '42R.SI', 'name': 'Jumbo Group Limited', 'exDate': datetime.date(2025, 1, 23), 'payout': 0.01, 'trend': 'Consolidation'}, {'id': 212, 'symbol': 'S59.SI', 'name': 'SIA Engineering Company Limited', 'exDate': datetime.date(2025, 7, 25), 'payout': 0.06, 'trend': 'Consolidation'}, {'id': 213, 'symbol': '5PF.SI', 'name': 'Jason Marine Group Limited', 'exDate': datetime.date(2025, 8, 7), 'payout': 0.0025, 'trend': 'Consolidation'}, {'id': 214, 'symbol': 'BLS.SI', 'name': 'Hotung Investment Holdings Limited', 'exDate': datetime.date(2025, 5, 23), 'payout': 0.10614, 'trend': 'Consolidation'}, {'id': 215, 'symbol': 'C38U.SI', 'name': 'CapitaLand Integrated Commercial Trust', 'exDate': datetime.date(2025, 2, 14), 'payout': 0.054359, 'trend': 'Consolidation'}, {'id': 216, 'symbol': 'BQM.SI', 'name': 'Tiong Woon Corporation Holding Ltd', 'exDate': datetime.date(2025, 11, 4), 'payout': 0.006, 'trend': 'Consolidation'}, {'id': 217, 'symbol': 'P52.SI', 'name': 'Pan-United Corporation Ltd', 'exDate': datetime.date(2025, 5, 8), 'payout': 0.018, 'trend': 'Bullish'}, {'id': 218, 'symbol': '5CF.SI', 'name': 'OKP Holdings Limited', 'exDate': datetime.date(2025, 5, 9), 'payout': 0.008, 'trend': 'Consolidation'}, {'id': 219, 'symbol': 'H22.SI', 'name': 'Hong Leong Asia Ltd.', 'exDate': datetime.date(2025, 5, 3), 'payout': 0.02, 'trend': 'Consolidation'}, {'id': 220, 'symbol': 'N5YD.SI', 'name': 'Mitsubishi UFJ Financial Group Inc', 'exDate': datetime.date(2025, 3, 27), 'payout': 0.127169, 'trend': 'Consolidation'}, {'id': 221, 'symbol': 'ESG.SI', 'name': 'Lion-OCBC Securities Singapore Low Carbon ETF', 'exDate': datetime.date(2025, 7, 1), 'payout': 0.02, 'trend': 'Consolidation'}, {'id': 222, 'symbol': 'O10.SI', 'name': 'Far East Orchard Limited', 'exDate': datetime.date(2025, 5, 16), 'payout': 0.04, 'trend': 'Consolidation'}, {'id': 223, 'symbol': 'RQ1.SI', 'name': 'Overseas Education Limited', 'exDate': datetime.date(2025, 4, 30), 'payout': 0.013, 'trend': 'Consolidation'}, {'id': 224, 'symbol': 'BYJ.SI', 'name': 'Phillip SGX APAC Dividend Leaders REIT ETF', 'exDate': datetime.date(2025, 7, 10), 'payout': 0.016188, 'trend': 'Bearish'}, {'id': 225, 'symbol': 'HSHD.SI', 'name': 'HSBC Holdings plc', 'exDate': datetime.date(2025, 11, 7), 'payout': 0.026414, 'trend': 'Bullish'}, {'id': 226, 'symbol': 'F03.SI', 'name': 'Food Empire Holdings Limited', 'exDate': datetime.date(2025, 5, 3), 'payout': 0.05, 'trend': 'Bullish'}, {'id': 227, 'symbol': '5WJ.SI', 'name': 'MoneyMax Financial Services Ltd.', 'exDate': datetime.date(2025, 5, 14), 'payout': 0.01, 'trend': 'Consolidation'}, {'id': 228, 'symbol': '42L.SI', 'name': 'Taka Jewellery Holdings Limited', 'exDate': datetime.date(2025, 11, 1), 'payout': 0.00179, 'trend': 'Bearish'}, {'id': 229, 'symbol': 'BTM.SI', 'name': 'Penguin International Limited', 'exDate': datetime.date(2025, 5, 6), 'payout': 0.0342, 'trend': 'Consolidation'}, {'id': 230, 'symbol': 'U13.SI', 'name': 'United Overseas Insurance Limited', 'exDate': datetime.date(2025, 5, 2), 'payout': 0.085, 'trend': 'Consolidation'}, {'id': 231, 'symbol': '5UF.SI', 'name': 'Aspial Lifestyle Limited', 'exDate': datetime.date(2025, 5, 6), 'payout': 0.0038, 'trend': 'Consolidation'}, {'id': 232, 'symbol': 'K6S.SI', 'name': 'Prudential plc', 'exDate': datetime.date(2025, 4, 1), 'payout': 0.113423, 'trend': 'Consolidation'}, {'id': 233, 'symbol': '5G3.SI', 'name': 'TalkMed Group Limited', 'exDate': datetime.date(2025, 4, 30), 'payout': 0.013, 'trend': 'Consolidation'}, {'id': 234, 'symbol': 'S20.SI', 'name': 'The Straits Trading Company Limited', 'exDate': datetime.date(2025, 5, 9), 'payout': 0.08, 'trend': 'Consolidation'}, {'id': 235, 'symbol': 'K71U.SI', 'name': 'Keppel REIT', 'exDate': datetime.date(2025, 2, 6), 'payout': 0.029, 'trend': 'Consolidation'}, {'id': 236, 'symbol': 'CFA.SI', 'name': 'NikkoAM-StraitsTrading Asia ex Japan REIT ETF', 'exDate': datetime.date(2025, 4, 1), 'payout': 0.0115, 'trend': 'Consolidation'}, {'id': 237, 'symbol': 'A26.SI', 'name': 'Sinarmas Land Limited', 'exDate': datetime.date(2025, 9, 19), 'payout': 0.0008, 'trend': 'Bearish'}, {'id': 238, 'symbol': 'A7RU.SI', 'name': 'Keppel Infrastructure Trust', 'exDate': datetime.date(2025, 2, 6), 'payout': 0.0096, 'trend': 'Consolidation'}, {'id': 239, 'symbol': 'B73.SI', 'name': 'Global Investments Limited', 'exDate': datetime.date(2025, 5, 9), 'payout': 0.004, 'trend': 'Bullish'}, {'id': 240, 'symbol': 'XJB.SI', 'name': 'G.H.Y Culture & Media Holding Co., Limited', 'exDate': datetime.date(2025, 5, 9), 'payout': 0.001, 'trend': 'Bullish'}, {'id': 241, 'symbol': 'URR.SI', 'name': 'Sim Leisure Group Ltd.', 'exDate': datetime.date(2025, 5, 2), 'payout': 0.008544, 'trend': 'Bearish'}, {'id': 242, 'symbol': 'AJBU.SI', 'name': 'Keppel DC REIT', 'exDate': datetime.date(2025, 2, 2), 'payout': 0.042816, 'trend': 'Consolidation'}, {'id': 243, 'symbol': 'OXMU.SI', 'name': 'Prime US REIT', 'exDate': datetime.date(2025, 3, 1), 'payout': 0.003351, 'trend': 'Consolidation'}, {'id': 244, 'symbol': 'TCU.SI', 'name': 'Credit Bureau Asia Limited', 'exDate': datetime.date(2025, 5, 2), 'payout': 0.02, 'trend': 'Consolidation'}, {'id': 245, 'symbol': 'D01.SI', 'name': 'DFI Retail Group Holdings Limited', 'exDate': datetime.date(2025, 3, 21), 'payout': 0.05, 'trend': 'Bearish'}, {'id': 246, 'symbol': 'BPF.SI', 'name': 'YHI International Limited', 'exDate': datetime.date(2025, 5, 7), 'payout': 0.0315, 'trend': 'Consolidation'}, {'id': 247, 'symbol': 'CLR.SI', 'name': 'Lion-Phillip S-REIT ETF', 'exDate': datetime.date(2025, 1, 30), 'payout': 0.0215, 'trend': 'Consolidation'}, {'id': 248, 'symbol': 'NS8U.SI', 'name': 'Hutchison Port Holdings Trust', 'exDate': datetime.date(2025, 2, 15), 'payout': 0.013143, 'trend': 'Bearish'}, {'id': 249, 'symbol': 'U96.SI', 'name': 'Sembcorp Industries Ltd', 'exDate': datetime.date(2025, 4, 29), 'payout': 0.08, 'trend': 'Consolidation'}, {'id': 250, 'symbol': 'A34.SI', 'name': 'Amara Holdings Limited', 'exDate': datetime.date(2025, 6, 5), 'payout': 0.005, 'trend': 'Consolidation'}, {'id': 251, 'symbol': 'EHG.SI', 'name': 'Econ Healthcare (Asia) Limited', 'exDate': datetime.date(2025, 8, 16), 'payout': 0.0063, 'trend': 'Bullish'}, {'id': 252, 'symbol': 'S68.SI', 'name': 'Singapore Exchange Limited', 'exDate': datetime.date(2025, 2, 9), 'payout': 0.085, 'trend': 'Bearish'}, {'id': 253, 'symbol': 'DM0.SI', 'name': 'PSC Corporation Ltd.', 'exDate': datetime.date(2025, 6, 6), 'payout': 0.005, 'trend': 'Consolidation'}, {'id': 254, 'symbol': 'S29.SI', 'name': 'Stamford Tyres Corporation Limited', 'exDate': datetime.date(2025, 9, 12), 'payout': 0.005, 'trend': 'Bearish'}, {'id': 255, 'symbol': 'MF6.SI', 'name': 'Mun Siong Engineering Limited', 'exDate': datetime.date(2025, 5, 13), 'payout': 0.0004, 'trend': 'Bullish'}, {'id': 256, 'symbol': 'ER0.SI', 'name': 'KSH Holdings Limited', 'exDate': datetime.date(2025, 8, 23), 'payout': 0.005, 'trend': 'Bullish'}, {'id': 257, 'symbol': 'QL2.SI', 'name': 'iShares J.P. Morgan USD Asia Credit Bond Index ETF', 'exDate': datetime.date(2025, 3, 1), 'payout': 0.148005, 'trend': 'Consolidation'}, {'id': 258, 'symbol': 'J91U.SI', 'name': 'ESR-REIT', 'exDate': datetime.date(2025, 2, 8), 'payout': 0.01186, 'trend': 'Consolidation'}, {'id': 259, 'symbol': 'H18.SI', 'name': 'Hotel Grand Central Limited', 'exDate': datetime.date(2025, 5, 14), 'payout': 0.02, 'trend': 'Consolidation'}, {'id': 260, 'symbol': 'C09.SI', 'name': 'City Developments Limited', 'exDate': datetime.date(2025, 5, 3), 'payout': 0.08, 'trend': 'Bearish'}, {'id': 261, 'symbol': 'BUOU.SI', 'name': 'Frasers Logistics & Commercial Trust', 'exDate': datetime.date(2025, 5, 14), 'payout': 0.0348, 'trend': 'Consolidation'}, {'id': 262, 'symbol': 'SRU.SI', 'name': 'CSOP iEdge S-REIT Leaders Index ETF', 'exDate': datetime.date(2025, 7, 19), 'payout': 0.016361, 'trend': 'Bearish'}, {'id': 263, 'symbol': 'A35.SI', 'name': 'ABF Singapore Bond Index Fd', 'exDate': datetime.date(2025, 7, 1), 'payout': 0.0124, 'trend': 'Consolidation'}, {'id': 264, 'symbol': 'ZKX.SI', 'name': 'Ever Glory United Holdings Limited', 'exDate': datetime.date(2025, 6, 13), 'payout': 0.01, 'trend': 'Consolidation'}, {'id': 265, 'symbol': 'F34.SI', 'name': 'Wilmar International Limited', 'exDate': datetime.date(2025, 4, 29), 'payout': 0.11, 'trend': 'Consolidation'}, {'id': 266, 'symbol': '5JS.SI', 'name': 'Indofood Agri Resources Ltd.', 'exDate': datetime.date(2025, 5, 9), 'payout': 0.008, 'trend': 'Consolidation'}, {'id': 267, 'symbol': '9CI.SI', 'name': 'CapitaLand Investment Limited', 'exDate': datetime.date(2025, 5, 2), 'payout': 0.12, 'trend': 'Bearish'}, {'id': 268, 'symbol': 'P5P.SI', 'name': 'Principal S&P Ethical Asia Pacific Dividend ETF', 'exDate': datetime.date(2025, 11, 4), 'payout': 0.04, 'trend': 'Consolidation'}, {'id': 269, 'symbol': '500.SI', 'name': 'Tai Sin Electric Limited', 'exDate': datetime.date(2025, 3, 4), 'payout': 0.0075, 'trend': 'Consolidation'}, {'id': 270, 'symbol': 'TPED.SI', 'name': 'PTT Exploration & Production PCL', 'exDate': datetime.date(2025, 2, 19), 'payout': 0.194936, 'trend': 'Consolidation'}, {'id': 271, 'symbol': '5DP.SI', 'name': 'Heeton Holdings Limited', 'exDate': datetime.date(2025, 5, 13), 'payout': 0.00375, 'trend': 'Consolidation'}, {'id': 272, 'symbol': 'Y92.SI', 'name': 'Thai Beverage Public Company Limited', 'exDate': datetime.date(2025, 2, 6), 'payout': 0.01689, 'trend': 'Bearish'}, {'id': 273, 'symbol': '5OI.SI', 'name': 'Japan Foods Holding Ltd.', 'exDate': datetime.date(2025, 7, 30), 'payout': 0.002, 'trend': 'Consolidation'}, {'id': 274, 'symbol': 'BFT.SI', 'name': 'Lincotrade & Associates Holdings Limited', 'exDate': datetime.date(2025, 2, 21), 'payout': 0.0038, 'trend': 'Bearish'}, {'id': 275, 'symbol': 'F1E.SI', 'name': 'Low Keng Huat (Singapore) Limited', 'exDate': datetime.date(2025, 6, 7), 'payout': 0.015, 'trend': 'Consolidation'}, {'id': 276, 'symbol': 'C41.SI', 'name': 'Cortina Holdings Limited', 'exDate': datetime.date(2025, 8, 6), 'payout': 0.02, 'trend': 'Bearish'}, {'id': 277, 'symbol': 'EB5.SI', 'name': 'First Resources Limited', 'exDate': datetime.date(2025, 5, 8), 'payout': 0.037, 'trend': 'Consolidation'}, {'id': 278, 'symbol': 'M14.SI', 'name': 'InnoTek Limited', 'exDate': datetime.date(2025, 5, 8), 'payout': 0.02, 'trend': 'Bearish'}, {'id': 279, 'symbol': '5DD.SI', 'name': 'Micro-Mechanics (Holdings) Ltd.', 'exDate': datetime.date(2025, 2, 5), 'payout': 0.03, 'trend': 'Consolidation'}, {'id': 280, 'symbol': 'BEC.SI', 'name': 'BRC Asia Limited', 'exDate': datetime.date(2025, 5, 2), 'payout': 0.055, 'trend': 'Bullish'}, {'id': 281, 'symbol': 'CC3.SI', 'name': 'StarHub Ltd', 'exDate': datetime.date(2025, 4, 29), 'payout': 0.042, 'trend': 'Consolidation'}, {'id': 282, 'symbol': 'DRX.SI', 'name': 'ST Group Food Industries Holdings Limited', 'exDate': datetime.date(2025, 2, 16), 'payout': 0.00351, 'trend': 'Consolidation'}, {'id': 283, 'symbol': '543.SI', 'name': 'Noel Gifts International Ltd', 'exDate': datetime.date(2025, 11, 4), 'payout': 0.026, 'trend': 'Bearish'}, {'id': 284, 'symbol': 'i06.SI', 'name': 'Intraco Limited', 'exDate': datetime.date(2025, 5, 2), 'payout': 0.005, 'trend': 'Consolidation'}, {'id': 285, 'symbol': 'J36.SI', 'name': 'Jardine Matheson Holdings Limited', 'exDate': datetime.date(2025, 3, 21), 'payout': 1.65, 'trend': 'Consolidation'}, {'id': 286, 'symbol': 'AWC.SI', 'name': 'Brook Crompton Holdings Ltd.', 'exDate': datetime.date(2025, 5, 10), 'payout': 0.02, 'trend': 'Consolidation'}, {'id': 287, 'symbol': '1F2.SI', 'name': 'Union Gas Holdings Limited', 'exDate': datetime.date(2025, 6, 13), 'payout': 0.0088, 'trend': 'Bearish'}]\n"
     ]
    }
   ],
   "source": [
    "dict_list_of_stocks = get_stocks_dict_list(file)\n",
    "print(dict_list_of_stocks)"
   ]
  },
  {
   "cell_type": "code",
   "execution_count": 142,
   "metadata": {},
   "outputs": [],
   "source": [
    "import datetime\n",
    "def default_serializer(obj):\n",
    "    if isinstance(obj, (datetime.date, datetime.datetime)):\n",
    "        return obj.isoformat()\n",
    "    raise TypeError(f\"Type {type(obj)} not serializable\")\n"
   ]
  },
  {
   "cell_type": "code",
   "execution_count": 143,
   "metadata": {},
   "outputs": [],
   "source": [
    "import json\n",
    "output_filepath = \"data/stock_list_data.json\"\n",
    "with open(output_filepath, \"w\", encoding=\"utf-8\") as f:\n",
    "    json.dump(dict_list_of_stocks, f, ensure_ascii=False, indent=2, default=default_serializer)"
   ]
  },
  {
   "cell_type": "code",
   "execution_count": null,
   "metadata": {},
   "outputs": [],
   "source": []
  }
 ],
 "metadata": {
  "kernelspec": {
   "display_name": "base",
   "language": "python",
   "name": "python3"
  },
  "language_info": {
   "codemirror_mode": {
    "name": "ipython",
    "version": 3
   },
   "file_extension": ".py",
   "mimetype": "text/x-python",
   "name": "python",
   "nbconvert_exporter": "python",
   "pygments_lexer": "ipython3",
   "version": "3.11.5"
  }
 },
 "nbformat": 4,
 "nbformat_minor": 2
}
