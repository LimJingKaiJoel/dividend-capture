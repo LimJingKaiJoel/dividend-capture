{
 "cells": [
  {
   "cell_type": "code",
   "execution_count": 68,
   "metadata": {},
   "outputs": [
    {
     "name": "stdout",
     "output_type": "stream",
     "text": [
      "Requirement already satisfied: ta in /Users/joellim/anaconda3/lib/python3.11/site-packages (0.11.0)\n",
      "Requirement already satisfied: numpy in /Users/joellim/anaconda3/lib/python3.11/site-packages (from ta) (1.24.3)\n",
      "Requirement already satisfied: pandas in /Users/joellim/anaconda3/lib/python3.11/site-packages (from ta) (2.0.1)\n",
      "Requirement already satisfied: python-dateutil>=2.8.2 in /Users/joellim/anaconda3/lib/python3.11/site-packages (from pandas->ta) (2.8.2)\n",
      "Requirement already satisfied: pytz>=2020.1 in /Users/joellim/anaconda3/lib/python3.11/site-packages (from pandas->ta) (2023.3.post1)\n",
      "Requirement already satisfied: tzdata>=2022.1 in /Users/joellim/anaconda3/lib/python3.11/site-packages (from pandas->ta) (2023.3)\n",
      "Requirement already satisfied: six>=1.5 in /Users/joellim/anaconda3/lib/python3.11/site-packages (from python-dateutil>=2.8.2->pandas->ta) (1.16.0)\n",
      "Requirement already satisfied: yfinance in /Users/joellim/anaconda3/lib/python3.11/site-packages (0.2.52)\n",
      "Requirement already satisfied: pandas>=1.3.0 in /Users/joellim/anaconda3/lib/python3.11/site-packages (from yfinance) (2.0.1)\n",
      "Requirement already satisfied: numpy>=1.16.5 in /Users/joellim/anaconda3/lib/python3.11/site-packages (from yfinance) (1.24.3)\n",
      "Requirement already satisfied: requests>=2.31 in /Users/joellim/anaconda3/lib/python3.11/site-packages (from yfinance) (2.31.0)\n",
      "Requirement already satisfied: multitasking>=0.0.7 in /Users/joellim/anaconda3/lib/python3.11/site-packages (from yfinance) (0.0.11)\n",
      "Requirement already satisfied: lxml>=4.9.1 in /Users/joellim/anaconda3/lib/python3.11/site-packages (from yfinance) (4.9.3)\n",
      "Requirement already satisfied: platformdirs>=2.0.0 in /Users/joellim/anaconda3/lib/python3.11/site-packages (from yfinance) (3.10.0)\n",
      "Requirement already satisfied: pytz>=2022.5 in /Users/joellim/anaconda3/lib/python3.11/site-packages (from yfinance) (2023.3.post1)\n",
      "Requirement already satisfied: frozendict>=2.3.4 in /Users/joellim/anaconda3/lib/python3.11/site-packages (from yfinance) (2.4.6)\n",
      "Requirement already satisfied: peewee>=3.16.2 in /Users/joellim/anaconda3/lib/python3.11/site-packages (from yfinance) (3.17.8)\n",
      "Requirement already satisfied: beautifulsoup4>=4.11.1 in /Users/joellim/anaconda3/lib/python3.11/site-packages (from yfinance) (4.12.3)\n",
      "Requirement already satisfied: html5lib>=1.1 in /Users/joellim/anaconda3/lib/python3.11/site-packages (from yfinance) (1.1)\n",
      "Requirement already satisfied: soupsieve>1.2 in /Users/joellim/anaconda3/lib/python3.11/site-packages (from beautifulsoup4>=4.11.1->yfinance) (2.4)\n",
      "Requirement already satisfied: six>=1.9 in /Users/joellim/anaconda3/lib/python3.11/site-packages (from html5lib>=1.1->yfinance) (1.16.0)\n",
      "Requirement already satisfied: webencodings in /Users/joellim/anaconda3/lib/python3.11/site-packages (from html5lib>=1.1->yfinance) (0.5.1)\n",
      "Requirement already satisfied: python-dateutil>=2.8.2 in /Users/joellim/anaconda3/lib/python3.11/site-packages (from pandas>=1.3.0->yfinance) (2.8.2)\n",
      "Requirement already satisfied: tzdata>=2022.1 in /Users/joellim/anaconda3/lib/python3.11/site-packages (from pandas>=1.3.0->yfinance) (2023.3)\n",
      "Requirement already satisfied: charset-normalizer<4,>=2 in /Users/joellim/anaconda3/lib/python3.11/site-packages (from requests>=2.31->yfinance) (2.0.4)\n",
      "Requirement already satisfied: idna<4,>=2.5 in /Users/joellim/anaconda3/lib/python3.11/site-packages (from requests>=2.31->yfinance) (3.4)\n",
      "Requirement already satisfied: urllib3<3,>=1.21.1 in /Users/joellim/anaconda3/lib/python3.11/site-packages (from requests>=2.31->yfinance) (1.26.16)\n",
      "Requirement already satisfied: certifi>=2017.4.17 in /Users/joellim/anaconda3/lib/python3.11/site-packages (from requests>=2.31->yfinance) (2023.7.22)\n"
     ]
    }
   ],
   "source": [
    "!pip install ta\n",
    "!pip install yfinance"
   ]
  },
  {
   "cell_type": "code",
   "execution_count": 69,
   "metadata": {},
   "outputs": [],
   "source": [
    "import yfinance as yf\n",
    "from datetime import date\n",
    "import pandas as pd\n",
    "from ta.trend import SMAIndicator"
   ]
  },
  {
   "cell_type": "code",
   "execution_count": 70,
   "metadata": {},
   "outputs": [],
   "source": [
    "def load_data(filepath):\n",
    "    tickers = set()\n",
    "\n",
    "    # load the data of all tickers in SGX to pass into yfinance\n",
    "    file = open(filepath, \"r\")\n",
    "    for line in file:\n",
    "        line = line.strip()\n",
    "        tickers.add(line)\n",
    "    \n",
    "    return tickers\n",
    "\n",
    "def get_dividends(ticker):\n",
    "    # Get pandas series of dividends\n",
    "    info = yf.Ticker(ticker)\n",
    "    return info.dividends\n",
    "\n",
    "def get_price_history(ticker, period):\n",
    "    # Get pandas df of prices to match to dividend payout date\n",
    "    return yf.Ticker(ticker).history(period=period, auto_adjust=False)\n",
    "\n",
    "def process_data(read_filepath, write_filepath):\n",
    "    # load the data of all tickers in SGX to pass into yfinance\n",
    "    read_file = open(read_filepath, \"r\")\n",
    "    write_file = open(write_filepath, \"a\")\n",
    "    for line in read_file:\n",
    "        write_file.write(line[:4].strip() + \".SI\\n\")\n",
    "    \n",
    "    return"
   ]
  },
  {
   "cell_type": "code",
   "execution_count": 126,
   "metadata": {},
   "outputs": [],
   "source": [
    "# returns a list of expected ex date and amount\n",
    "def get_expected_ex_date(dividends):\n",
    "    # Get today's date\n",
    "    today = pd.Timestamp(date.today(), tz=\"UTC\")\n",
    "\n",
    "    # Get the ex-date of the stock based on last year's data\n",
    "    previous_year_date = today.replace(year=today.year - 1)\n",
    "\n",
    "    # if no dividends in the past 1-year period, unable to find expected ex date since they havent been giving out dividends for a year\n",
    "    if dividends.empty:\n",
    "# print(\"Dividends is empty.\")\n",
    "        return []\n",
    "# else:\n",
    "# print(\"Dividends is not empty!\")\n",
    "# print(dividends)\n",
    "\n",
    "    # filter past dividend dates within a 1-year period and get first date (upcoming)\n",
    "    filtered_dividends = dividends[dividends.index > previous_year_date]\n",
    "# print(\"Filtered Dividends: \")\n",
    "# print(filtered_dividends)\n",
    "\n",
    "    # if they haven't paid dividends in the past year\n",
    "    if filtered_dividends.empty:\n",
    "# print(\"Filtered dividends is empty\")\n",
    "        return []\n",
    "\n",
    "    expected_ex_date = filtered_dividends.index[0].date()\n",
    "    expected_payout = filtered_dividends.iloc[0]\n",
    "    \n",
    "    result = []\n",
    "\n",
    "    try:\n",
    "        result.append(expected_ex_date.replace(year=expected_ex_date.year + 1))\n",
    "        result.append(float(expected_payout))\n",
    "    except:\n",
    "        print(\"Error in changing expected ex date\")\n",
    "        return []\n",
    "\n",
    "    return result"
   ]
  },
  {
   "cell_type": "code",
   "execution_count": 127,
   "metadata": {},
   "outputs": [],
   "source": [
    "def get_trend(ticker_name, sma_short_window=10, sma_long_window=20, momentum_days=10, momentum_threshold=0.02):\n",
    "    \"\"\"\n",
    "    Determines whether the stock is bullish, bearish, or in consolidation based on short-term trends\n",
    "        - Takes into account momentum and whether SMA short or SMA long is higher\n",
    "    \n",
    "    returns a string: \"Bullish\", \"Bearish\", or \"Consolidation\". (\"Unknown\" if error)\n",
    "    \"\"\"\n",
    "    # 1 month might not have 20 trading days, so we do 2 months time frame\n",
    "    price_data = get_price_history(ticker_name, \"2mo\")\n",
    "    \n",
    "    if price_data.empty or 'Close' not in price_data:\n",
    "        return \"Unknown\"\n",
    "\n",
    "    # have to squeeze as its a 2d array\n",
    "    close_prices = price_data['Close'].squeeze()\n",
    "\n",
    "    # get sma of short window and long windows\n",
    "    sma_short = SMAIndicator(close=close_prices, window=sma_short_window)\n",
    "    sma_long = SMAIndicator(close=close_prices, window=sma_long_window)\n",
    "    price_data['SMA_short'] = sma_short.sma_indicator()\n",
    "    price_data['SMA_long'] = sma_long.sma_indicator()\n",
    "\n",
    "    # get momentum (percentage change)\n",
    "    price_data['Momentum'] = close_prices.pct_change(periods=momentum_days)\n",
    "\n",
    "    # get latest value\n",
    "    latest_sma_short = price_data['SMA_short'].iloc[-1]\n",
    "    latest_sma_long = price_data['SMA_long'].iloc[-1]\n",
    "    latest_momentum = price_data['Momentum'].iloc[-1]\n",
    "\n",
    "    # bullish if sma short higher than sma long and momentum validates it, bearish if opposite\n",
    "    if latest_sma_short > latest_sma_long and latest_momentum > momentum_threshold:\n",
    "        return \"Bullish\"\n",
    "    elif latest_sma_short < latest_sma_long and latest_momentum < -momentum_threshold:\n",
    "        return \"Bearish\"\n",
    "    else:\n",
    "        return \"Consolidation\""
   ]
  },
  {
   "cell_type": "code",
   "execution_count": 138,
   "metadata": {},
   "outputs": [],
   "source": [
    "# FRONT PAGE\n",
    "def get_stocks_dict_list(tickers):\n",
    "    result = []\n",
    "    id = 1\n",
    "\n",
    "    # for each ticker in SGX, get relevant information into a dictionary and append to list\n",
    "    for ticker_name in tickers:\n",
    "        try:\n",
    "            dividends = get_dividends(ticker_name)\n",
    "            expected_dividend_info = get_expected_ex_date(dividends) # might return empty list if no dividends given\n",
    "            \n",
    "            # if empty, don't need process this ticker, it doesn't give dividends -- the method returns [] if dividends dont exist\n",
    "            if not expected_dividend_info:\n",
    "                continue\n",
    "\n",
    "            ticker_info = yf.Ticker(ticker_name).info\n",
    "\n",
    "            current_stock = {}\n",
    "            current_stock[\"id\"] = id\n",
    "            id += 1\n",
    "            current_stock[\"symbol\"] = ticker_name\n",
    "            \n",
    "            # ticker might not have a variable longName in the api\n",
    "            try: \n",
    "                current_stock[\"name\"] = ticker_info['longName']\n",
    "            except:\n",
    "                continue\n",
    "\n",
    "            current_stock[\"exDate\"] = expected_dividend_info[0]\n",
    "            current_stock[\"payout\"] = expected_dividend_info[1]\n",
    "            current_stock[\"trend\"] = get_trend(ticker_name) # bearish, bullish or consolidation\n",
    "\n",
    "            # dict[\"captured_yield\"] = get_yield(ticker_name) # dividend capture strategy yield based on past data -- can remove, put in backtest page\n",
    "            print(current_stock)\n",
    "            result.append(current_stock)\n",
    "        except:\n",
    "            return result\n",
    "\n",
    "    return result"
   ]
  },
  {
   "cell_type": "code",
   "execution_count": 139,
   "metadata": {},
   "outputs": [],
   "source": [
    "filepath = \"data/tickers.txt\"\n",
    "file = load_data(filepath)"
   ]
  },
  {
   "cell_type": "code",
   "execution_count": null,
   "metadata": {},
   "outputs": [],
   "source": [
    "dict_list_of_stocks = get_stocks_dict_list(file)\n",
    "print(dict_list_of_stocks)"
   ]
  },
  {
   "cell_type": "code",
   "execution_count": null,
   "metadata": {},
   "outputs": [],
   "source": [
    "import datetime\n",
    "def default_serializer(obj):\n",
    "    if isinstance(obj, (datetime.date, datetime.datetime)):\n",
    "        return obj.isoformat()\n",
    "    raise TypeError(f\"Type {type(obj)} not serializable\")"
   ]
  },
  {
   "cell_type": "code",
   "execution_count": 143,
   "metadata": {},
   "outputs": [],
   "source": [
    "import json\n",
    "output_filepath = \"data/stock_list_data.json\"\n",
    "with open(output_filepath, \"w\", encoding=\"utf-8\") as f:\n",
    "    json.dump(dict_list_of_stocks, f, ensure_ascii=False, indent=2, default=default_serializer)"
   ]
  },
  {
   "cell_type": "code",
   "execution_count": null,
   "metadata": {},
   "outputs": [],
   "source": []
  }
 ],
 "metadata": {
  "kernelspec": {
   "display_name": "base",
   "language": "python",
   "name": "python3"
  },
  "language_info": {
   "codemirror_mode": {
    "name": "ipython",
    "version": 3
   },
   "file_extension": ".py",
   "mimetype": "text/x-python",
   "name": "python",
   "nbconvert_exporter": "python",
   "pygments_lexer": "ipython3",
   "version": "3.11.5"
  }
 },
 "nbformat": 4,
 "nbformat_minor": 2
}
